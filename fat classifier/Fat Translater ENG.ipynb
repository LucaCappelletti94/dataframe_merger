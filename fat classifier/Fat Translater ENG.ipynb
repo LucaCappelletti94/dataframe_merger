{
 "cells": [
  {
   "cell_type": "code",
   "execution_count": 1,
   "metadata": {},
   "outputs": [],
   "source": [
    "import json\n",
    "import bs4"
   ]
  },
  {
   "cell_type": "code",
   "execution_count": 2,
   "metadata": {},
   "outputs": [],
   "source": [
    "dictionary = {\n",
    "    \"C4:1\":[\"crotonic acid\"],\n",
    "    \"C4:2\":[\"aspartic acid\"],\n",
    "    \"C5:2\":[\"glutamic acid\"],\n",
    "    \"C9:1\":[\"pantothenic acid\"],\n",
    "    \"C17:1\":[\"eptadecenoic acid\"],\n",
    "    \"C18:2\":[\"oleic acid\"],\n",
    "    \"C18:3\":[\"linoleic acid\"],\n",
    "    \"C20:2\":[\"gadoleic acid\"],\n",
    "    \"C20:5\":[\"eicosapentaenoic acid\"],\n",
    "    \"C22:5\":[\"docosapentaenoic acid\"],\n",
    "    \"C22:6\":[\"docosahexaenoic acid\"]\n",
    "}"
   ]
  },
  {
   "cell_type": "code",
   "execution_count": 3,
   "metadata": {},
   "outputs": [],
   "source": [
    "with open(\"saturated.html\",\"r\") as f:\n",
    "    html = f.read()"
   ]
  },
  {
   "cell_type": "code",
   "execution_count": 4,
   "metadata": {},
   "outputs": [],
   "source": [
    "soup = bs4.BeautifulSoup(html)\n",
    "table = soup.find(\"table\")"
   ]
  },
  {
   "cell_type": "code",
   "execution_count": 5,
   "metadata": {},
   "outputs": [],
   "source": [
    "for row in table(\"tr\")[1:]:\n",
    "    cols = row(\"td\")\n",
    "    if len(cols) >= 1:\n",
    "        code = cols[-1].get_text().strip()\n",
    "        name = cols[0].get_text().strip().lower()\n",
    "        \n",
    "        dictionary.setdefault(code,[])\n",
    "        dictionary[code].append(name)"
   ]
  },
  {
   "cell_type": "code",
   "execution_count": 6,
   "metadata": {},
   "outputs": [],
   "source": [
    "with open(\"unsaturated.html\",\"r\") as f:\n",
    "    html = f.read()"
   ]
  },
  {
   "cell_type": "code",
   "execution_count": 7,
   "metadata": {},
   "outputs": [],
   "source": [
    "soup = bs4.BeautifulSoup(html)\n",
    "table = soup.find(\"table\")"
   ]
  },
  {
   "cell_type": "code",
   "execution_count": 8,
   "metadata": {},
   "outputs": [],
   "source": [
    "for row in table(\"tr\")[1:]:\n",
    "    cols = row(\"td\")\n",
    "    if len(cols) >= 3:\n",
    "        code = cols[2].get_text().strip()\n",
    "        name = cols[1].get_text().strip().lower()\n",
    "        \n",
    "        dictionary.setdefault(code,[])\n",
    "        dictionary[code].append(name)"
   ]
  },
  {
   "cell_type": "code",
   "execution_count": 9,
   "metadata": {},
   "outputs": [],
   "source": [
    "with open(\"additional.html\",\"r\") as f:\n",
    "    html = f.read()"
   ]
  },
  {
   "cell_type": "code",
   "execution_count": 10,
   "metadata": {},
   "outputs": [],
   "source": [
    "soup = bs4.BeautifulSoup(html)\n",
    "table = soup.find_all(\"table\")[2]"
   ]
  },
  {
   "cell_type": "code",
   "execution_count": 11,
   "metadata": {},
   "outputs": [
    {
     "name": "stdout",
     "output_type": "stream",
     "text": [
      "C15:1 \n",
      "C16:1 c \n",
      "C16:1 t \n",
      "C18:1 c \n",
      "C18:1 t \n",
      "C22:1 c \n",
      "C22:1 t \n",
      "C16:2 undifferentiated \n",
      "C18:2 n-6 c,c \n",
      "C18:2 c,t \n",
      "C18:2 t,c \n",
      "C18:2 t,t \n",
      "C18:2 i \n",
      "C18:2 t not further defined \n",
      "C20:2 n-6 c,c \n",
      "C20:3 undifferentiated \n",
      "C20:3 n-3 \n",
      "C20:3 n-6 \n",
      "C20:4 n-3 \n",
      "C20:4 n-6 \n",
      "C22:6 n-3 \n"
     ]
    }
   ],
   "source": [
    "for row in table(\"tr\"):\n",
    "    cols = row(\"td\")\n",
    "    if len(cols) == 3:\n",
    "        code = \"C\" + cols[0].get_text().strip()\n",
    "        common_name = cols[2].get_text().strip().lower()\n",
    "        \n",
    "        if dictionary.get(code,None) == None:\n",
    "            if common_name != \"\":\n",
    "                dictionary.setdefault(code,[])\n",
    "                dictionary[code].append(common_name)\n",
    "            else:\n",
    "                print(code,common_name)\n",
    "                \n",
    "    if len(cols) >= 4:\n",
    "        code = \"C\" + cols[1].get_text().strip()\n",
    "        common_name = cols[3].get_text().strip()\n",
    "        \n",
    "        if dictionary.get(code,None) == None:\n",
    "            if common_name != \"\":\n",
    "                dictionary.setdefault(code,[])\n",
    "                dictionary[code].append(common_name)\n",
    "            else:\n",
    "                print(code,common_name)"
   ]
  },
  {
   "cell_type": "code",
   "execution_count": 12,
   "metadata": {},
   "outputs": [],
   "source": [
    "with open(\"fat_code_convesion_eng.json\",\"w\") as f:\n",
    "    json.dump(dictionary,f)"
   ]
  },
  {
   "cell_type": "code",
   "execution_count": 13,
   "metadata": {},
   "outputs": [
    {
     "data": {
      "text/plain": [
       "70"
      ]
     },
     "execution_count": 13,
     "metadata": {},
     "output_type": "execute_result"
    }
   ],
   "source": [
    "len(dictionary)"
   ]
  },
  {
   "cell_type": "code",
   "execution_count": 14,
   "metadata": {},
   "outputs": [
    {
     "data": {
      "text/plain": [
       "{'C4:1': ['crotonic acid'],\n",
       " 'C4:2': ['aspartic acid'],\n",
       " 'C5:2': ['glutamic acid'],\n",
       " 'C9:1': ['pantothenic acid'],\n",
       " 'C17:1': ['eptadecenoic acid'],\n",
       " 'C18:2': ['oleic acid', 'linoleic acid', 'linolelaidic acid'],\n",
       " 'C18:3': ['linoleic acid', 'α-linolenic acid', 'γ-linolenic acid'],\n",
       " 'C20:2': ['gadoleic acid'],\n",
       " 'C20:5': ['eicosapentaenoic acid', 'eicosapentaenoic acid'],\n",
       " 'C22:5': ['docosapentaenoic acid'],\n",
       " 'C22:6': ['docosahexaenoic acid', 'docosahexaenoic acid'],\n",
       " 'C3:0': ['propionic acid'],\n",
       " 'C4:0': ['butyric acid'],\n",
       " 'C5:0': ['valeric acid'],\n",
       " 'C6:0': ['caproic acid'],\n",
       " 'C7:0': ['enanthic acid'],\n",
       " 'C8:0': ['caprylic acid'],\n",
       " 'C9:0': ['pelargonic acid'],\n",
       " 'C10:0': ['capric acid'],\n",
       " 'C11:0': ['undecylic acid'],\n",
       " 'C12:0': ['lauric acid'],\n",
       " 'C13:0': ['tridecylic acid'],\n",
       " 'C14:0': ['myristic acid'],\n",
       " 'C15:0': ['pentadecylic acid'],\n",
       " 'C16:0': ['palmitic acid'],\n",
       " 'C17:0': ['margaric acid'],\n",
       " 'C18:0': ['stearic acid'],\n",
       " 'C19:0': ['nonadecylic acid'],\n",
       " 'C20:0': ['arachidic acid'],\n",
       " 'C21:0': ['heneicosylic acid'],\n",
       " 'C22:0': ['behenic acid'],\n",
       " 'C23:0': ['tricosylic acid'],\n",
       " 'C24:0': ['lignoceric acid'],\n",
       " 'C25:0': ['pentacosylic acid'],\n",
       " 'C26:0': ['cerotic acid'],\n",
       " 'C27:0': ['heptacosylic acid'],\n",
       " 'C28:0': ['montanic acid'],\n",
       " 'C29:0': ['nonacosylic acid'],\n",
       " 'C30:0': ['melissic acid'],\n",
       " 'C31:0': ['henatriacontylic acid'],\n",
       " 'C32:0': ['lacceroic acid'],\n",
       " 'C33:0': ['psyllic acid'],\n",
       " 'C34:0': ['geddic acid'],\n",
       " 'C35:0': ['ceroplastic acid'],\n",
       " 'C36:0': ['hexatriacontylic acid'],\n",
       " 'C37:0': ['heptatriacontanoic acid'],\n",
       " 'C38:0': ['octatriacontanoic acid'],\n",
       " 'C18:4': ['stearidonic acid'],\n",
       " 'C20:3': ['dihomo-γ-linolenic acid', 'mead acid'],\n",
       " 'C20:4': ['arachidonic acid'],\n",
       " 'C22:4': ['docosatetraenoic acid'],\n",
       " 'C16:1': ['palmitoleic acid'],\n",
       " 'C18:1': ['vaccenic acid', 'oleic acid', 'elaidic acid'],\n",
       " 'C20:1': ['paullinic acid', 'gondoic acid'],\n",
       " 'C22:1': ['erucic acid'],\n",
       " 'C24:1': ['nervonic acid'],\n",
       " 'C14:1': ['myristoleic acid'],\n",
       " 'C16:1 undifferentiated': ['palmitoleic acid'],\n",
       " 'C18:1 undifferentiated': ['oleic acid'],\n",
       " 'C22:1 undifferentiated': ['erucic acid'],\n",
       " 'C24:1 c': ['nervonic acid'],\n",
       " 'C18:2 undifferentiated': ['linoleic acid'],\n",
       " 'C18:3 undifferentiated': ['linolenic acid'],\n",
       " 'C18:3 n-3 c,c,c': ['alpha-linolenic acid'],\n",
       " 'C18:3 n-6 c,c,c': ['gamma-linolenic acid'],\n",
       " 'C18:4 undifferentiated': ['parinaric acid'],\n",
       " 'C20:4 undifferentiated': ['arachidonic acid'],\n",
       " 'C20:5 n-3': ['timnodonic acid'],\n",
       " 'C22:2': ['brassic acid'],\n",
       " 'C22:5 n-3': ['clupanodonic acid']}"
      ]
     },
     "execution_count": 14,
     "metadata": {},
     "output_type": "execute_result"
    }
   ],
   "source": [
    "dictionary"
   ]
  },
  {
   "cell_type": "code",
   "execution_count": null,
   "metadata": {},
   "outputs": [],
   "source": []
  }
 ],
 "metadata": {
  "kernelspec": {
   "display_name": "Python 3",
   "language": "python",
   "name": "python3"
  },
  "language_info": {
   "codemirror_mode": {
    "name": "ipython",
    "version": 3
   },
   "file_extension": ".py",
   "mimetype": "text/x-python",
   "name": "python",
   "nbconvert_exporter": "python",
   "pygments_lexer": "ipython3",
   "version": "3.7.0"
  }
 },
 "nbformat": 4,
 "nbformat_minor": 2
}
