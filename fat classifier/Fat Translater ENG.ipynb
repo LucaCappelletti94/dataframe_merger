{
 "cells": [
  {
   "cell_type": "code",
   "execution_count": 1,
   "metadata": {},
   "outputs": [],
   "source": [
    "import json\n",
    "import bs4"
   ]
  },
  {
   "cell_type": "code",
   "execution_count": 2,
   "metadata": {},
   "outputs": [],
   "source": [
    "dictionary = {\n",
    "    \"C4:1\":\"crotonic acid\",\n",
    "    \"C4:2\":\"aspartic acid\",\n",
    "    \"C5:2\":\"glutamic acid\",\n",
    "    \"C9:1\":\"pantothenic acid\",\n",
    "    \"C17:1\":\"eptadecenoic acid\",\n",
    "    \"C18:2\":\"oleic acid\",\n",
    "    \"C18:3\":\"linoleic acid\",\n",
    "    \"C20:2\":\"gadoleic acid\",\n",
    "    \"C20:5\":\"eicosapentaenoic acid\",\n",
    "    \"C22:5\":\"docosapentaenoic acid\",\n",
    "    \"C22:6\":\"docosahexaenoic acid\"\n",
    "}"
   ]
  },
  {
   "cell_type": "code",
   "execution_count": 3,
   "metadata": {},
   "outputs": [],
   "source": [
    "with open(\"saturated.html\",\"r\") as f:\n",
    "    html = f.read()"
   ]
  },
  {
   "cell_type": "code",
   "execution_count": 4,
   "metadata": {},
   "outputs": [],
   "source": [
    "soup = bs4.BeautifulSoup(html)\n",
    "table = soup.find(\"table\")"
   ]
  },
  {
   "cell_type": "code",
   "execution_count": 5,
   "metadata": {},
   "outputs": [],
   "source": [
    "for row in table(\"tr\")[1:]:\n",
    "    cols = row(\"td\")\n",
    "    if len(cols) >= 1:\n",
    "        code = cols[-1].get_text().strip()\n",
    "        name = cols[0].get_text().strip()\n",
    "        \n",
    "        dictionary.setdefault(code,[])\n",
    "        dictionary[code].append(name)"
   ]
  },
  {
   "cell_type": "code",
   "execution_count": 6,
   "metadata": {},
   "outputs": [],
   "source": [
    "with open(\"unsaturated.html\",\"r\") as f:\n",
    "    html = f.read()"
   ]
  },
  {
   "cell_type": "code",
   "execution_count": 7,
   "metadata": {},
   "outputs": [],
   "source": [
    "soup = bs4.BeautifulSoup(html)\n",
    "table = soup.find(\"table\")"
   ]
  },
  {
   "cell_type": "code",
   "execution_count": 8,
   "metadata": {},
   "outputs": [],
   "source": [
    "for row in table(\"tr\")[1:]:\n",
    "    cols = row(\"td\")\n",
    "    if len(cols) >= 3:\n",
    "        code = cols[2].get_text().strip()\n",
    "        name = cols[1].get_text().strip()\n",
    "        \n",
    "        dictionary.setdefault(code,[])\n",
    "        dictionary[code].append(name)"
   ]
  },
  {
   "cell_type": "code",
   "execution_count": 9,
   "metadata": {},
   "outputs": [],
   "source": [
    "with open(\"additional.html\",\"r\") as f:\n",
    "    html = f.read()"
   ]
  },
  {
   "cell_type": "code",
   "execution_count": 10,
   "metadata": {},
   "outputs": [],
   "source": [
    "soup = bs4.BeautifulSoup(html)\n",
    "table = soup.find_all(\"table\")[2]"
   ]
  },
  {
   "cell_type": "code",
   "execution_count": 11,
   "metadata": {},
   "outputs": [
    {
     "name": "stdout",
     "output_type": "stream",
     "text": [
      "C15:1 \n",
      "C16:1 c \n",
      "C16:1 t \n",
      "C18:1 c \n",
      "C18:1 t \n",
      "C22:1 c \n",
      "C22:1 t \n",
      "C16:2 undifferentiated \n",
      "C18:2 n-6 c,c \n",
      "C18:2 c,t \n",
      "C18:2 t,c \n",
      "C18:2 t,t \n",
      "C18:2 i \n",
      "C18:2 t not further defined \n",
      "C20:2 n-6 c,c \n",
      "C20:3 undifferentiated \n",
      "C20:3 n-3 \n",
      "C20:3 n-6 \n",
      "C20:4 n-3 \n",
      "C20:4 n-6 \n",
      "C22:6 n-3 \n"
     ]
    }
   ],
   "source": [
    "for row in table(\"tr\"):\n",
    "    cols = row(\"td\")\n",
    "    if len(cols) == 3:\n",
    "        code = \"C\" + cols[0].get_text().strip()\n",
    "        common_name = cols[2].get_text().strip()\n",
    "        \n",
    "        if dictionary.get(code,None) == None:\n",
    "            if common_name != \"\":\n",
    "                dictionary.setdefault(code,[])\n",
    "                dictionary[code].append(common_name)\n",
    "            else:\n",
    "                print(code,common_name)\n",
    "                \n",
    "    if len(cols) >= 4:\n",
    "        code = \"C\" + cols[1].get_text().strip()\n",
    "        common_name = cols[3].get_text().strip()\n",
    "        \n",
    "        if dictionary.get(code,None) == None:\n",
    "            if common_name != \"\":\n",
    "                dictionary.setdefault(code,[])\n",
    "                dictionary[code].append(common_name)\n",
    "            else:\n",
    "                print(code,common_name)"
   ]
  },
  {
   "cell_type": "code",
   "execution_count": 12,
   "metadata": {},
   "outputs": [],
   "source": [
    "with open(\"fat_code_convesion_eng.json\",\"w\") as f:\n",
    "    json.dump(dictionary,f)"
   ]
  },
  {
   "cell_type": "code",
   "execution_count": 13,
   "metadata": {},
   "outputs": [
    {
     "data": {
      "text/plain": [
       "70"
      ]
     },
     "execution_count": 13,
     "metadata": {},
     "output_type": "execute_result"
    }
   ],
   "source": [
    "len(dictionary)"
   ]
  },
  {
   "cell_type": "code",
   "execution_count": null,
   "metadata": {},
   "outputs": [],
   "source": []
  }
 ],
 "metadata": {
  "kernelspec": {
   "display_name": "Python 3",
   "language": "python",
   "name": "python3"
  },
  "language_info": {
   "codemirror_mode": {
    "name": "ipython",
    "version": 3
   },
   "file_extension": ".py",
   "mimetype": "text/x-python",
   "name": "python",
   "nbconvert_exporter": "python",
   "pygments_lexer": "ipython3",
   "version": "3.7.0"
  }
 },
 "nbformat": 4,
 "nbformat_minor": 2
}
