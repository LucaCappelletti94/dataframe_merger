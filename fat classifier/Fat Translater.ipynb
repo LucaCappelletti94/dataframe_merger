{
 "cells": [
  {
   "cell_type": "code",
   "execution_count": 1,
   "metadata": {},
   "outputs": [],
   "source": [
    "import json\n",
    "import bs4"
   ]
  },
  {
   "cell_type": "code",
   "execution_count": 2,
   "metadata": {},
   "outputs": [],
   "source": [
    "dictionary = {}"
   ]
  },
  {
   "cell_type": "code",
   "execution_count": 3,
   "metadata": {},
   "outputs": [],
   "source": [
    "with open(\"saturated.html\",\"r\") as f:\n",
    "    html = f.read()"
   ]
  },
  {
   "cell_type": "code",
   "execution_count": 4,
   "metadata": {},
   "outputs": [],
   "source": [
    "soup = bs4.BeautifulSoup(html)\n",
    "table = soup.find(\"table\")"
   ]
  },
  {
   "cell_type": "code",
   "execution_count": 5,
   "metadata": {},
   "outputs": [
    {
     "data": {
      "text/plain": [
       "{'C3:0': 'Propionic acid',\n",
       " 'C4:0': 'Butyric acid',\n",
       " 'C5:0': 'Valeric acid',\n",
       " 'C6:0': 'Caproic acid',\n",
       " 'C7:0': 'Enanthic acid',\n",
       " 'C8:0': 'Caprylic acid',\n",
       " 'C9:0': 'Pelargonic acid',\n",
       " 'C10:0': 'Capric acid',\n",
       " 'C11:0': 'Undecylic acid',\n",
       " 'C12:0': 'Lauric acid',\n",
       " 'C13:0': 'Tridecylic acid',\n",
       " 'C14:0': 'Myristic acid',\n",
       " 'C15:0': 'Pentadecylic acid',\n",
       " 'C16:0': 'Palmitic acid',\n",
       " 'C17:0': 'Margaric acid',\n",
       " 'C18:0': 'Stearic acid',\n",
       " 'C19:0': 'Nonadecylic acid',\n",
       " 'C20:0': 'Arachidic acid',\n",
       " 'C21:0': 'Heneicosylic acid',\n",
       " 'C22:0': 'Behenic acid',\n",
       " 'C23:0': 'Tricosylic acid',\n",
       " 'C24:0': 'Lignoceric acid',\n",
       " 'C25:0': 'Pentacosylic acid',\n",
       " 'C26:0': 'Cerotic acid',\n",
       " 'C27:0': 'Heptacosylic acid',\n",
       " 'C28:0': 'Montanic acid',\n",
       " 'C29:0': 'Nonacosylic acid',\n",
       " 'C30:0': 'Melissic acid',\n",
       " 'C31:0': 'Henatriacontylic acid',\n",
       " 'C32:0': 'Lacceroic acid',\n",
       " 'C33:0': 'Psyllic acid',\n",
       " 'C34:0': 'Geddic acid',\n",
       " 'C35:0': 'Ceroplastic acid',\n",
       " 'C36:0': 'Hexatriacontylic acid',\n",
       " 'C37:0': 'Heptatriacontanoic acid',\n",
       " 'C38:0': 'Octatriacontanoic acid'}"
      ]
     },
     "execution_count": 5,
     "metadata": {},
     "output_type": "execute_result"
    }
   ],
   "source": [
    "for row in table(\"tr\")[1:]:\n",
    "    cols = row(\"td\")\n",
    "    if len(cols) >= 1:\n",
    "        dictionary[cols[-1].get_text().strip()] = cols[0].get_text().strip()\n",
    "dictionary"
   ]
  },
  {
   "cell_type": "code",
   "execution_count": 6,
   "metadata": {},
   "outputs": [],
   "source": [
    "with open(\"unsaturated.html\",\"r\") as f:\n",
    "    html = f.read()"
   ]
  },
  {
   "cell_type": "code",
   "execution_count": 7,
   "metadata": {},
   "outputs": [],
   "source": [
    "soup = bs4.BeautifulSoup(html)\n",
    "table = soup.find(\"table\")"
   ]
  },
  {
   "cell_type": "code",
   "execution_count": 8,
   "metadata": {},
   "outputs": [
    {
     "data": {
      "text/plain": [
       "{'C3:0': 'Propionic acid',\n",
       " 'C4:0': 'Butyric acid',\n",
       " 'C5:0': 'Valeric acid',\n",
       " 'C6:0': 'Caproic acid',\n",
       " 'C7:0': 'Enanthic acid',\n",
       " 'C8:0': 'Caprylic acid',\n",
       " 'C9:0': 'Pelargonic acid',\n",
       " 'C10:0': 'Capric acid',\n",
       " 'C11:0': 'Undecylic acid',\n",
       " 'C12:0': 'Lauric acid',\n",
       " 'C13:0': 'Tridecylic acid',\n",
       " 'C14:0': 'Myristic acid',\n",
       " 'C15:0': 'Pentadecylic acid',\n",
       " 'C16:0': 'Palmitic acid',\n",
       " 'C17:0': 'Margaric acid',\n",
       " 'C18:0': 'Stearic acid',\n",
       " 'C19:0': 'Nonadecylic acid',\n",
       " 'C20:0': 'Arachidic acid',\n",
       " 'C21:0': 'Heneicosylic acid',\n",
       " 'C22:0': 'Behenic acid',\n",
       " 'C23:0': 'Tricosylic acid',\n",
       " 'C24:0': 'Lignoceric acid',\n",
       " 'C25:0': 'Pentacosylic acid',\n",
       " 'C26:0': 'Cerotic acid',\n",
       " 'C27:0': 'Heptacosylic acid',\n",
       " 'C28:0': 'Montanic acid',\n",
       " 'C29:0': 'Nonacosylic acid',\n",
       " 'C30:0': 'Melissic acid',\n",
       " 'C31:0': 'Henatriacontylic acid',\n",
       " 'C32:0': 'Lacceroic acid',\n",
       " 'C33:0': 'Psyllic acid',\n",
       " 'C34:0': 'Geddic acid',\n",
       " 'C35:0': 'Ceroplastic acid',\n",
       " 'C36:0': 'Hexatriacontylic acid',\n",
       " 'C37:0': 'Heptatriacontanoic acid',\n",
       " 'C38:0': 'Octatriacontanoic acid',\n",
       " 'C18:3': 'γ-Linolenic acid',\n",
       " 'C18:4': 'Stearidonic acid',\n",
       " 'C20:5': 'Eicosapentaenoic acid',\n",
       " 'C22:6': 'Docosahexaenoic acid',\n",
       " 'C18:2': 'Linolelaidic acid',\n",
       " 'C20:3': 'Mead acid',\n",
       " 'C20:4': 'Arachidonic acid',\n",
       " 'C22:4': 'Docosatetraenoic acid',\n",
       " 'C16:1': 'Palmitoleic acid',\n",
       " 'C18:1': 'Elaidic acid',\n",
       " 'C20:1': 'Gondoic acid',\n",
       " 'C22:1': 'Erucic acid',\n",
       " 'C24:1': 'Nervonic acid'}"
      ]
     },
     "execution_count": 8,
     "metadata": {},
     "output_type": "execute_result"
    }
   ],
   "source": [
    "for row in table(\"tr\")[1:]:\n",
    "    cols = row(\"td\")\n",
    "    if len(cols) >= 3:\n",
    "        dictionary[cols[2].get_text().strip()] = cols[1].get_text().strip()\n",
    "dictionary"
   ]
  },
  {
   "cell_type": "code",
   "execution_count": 10,
   "metadata": {},
   "outputs": [],
   "source": [
    "with open(\"fat_code_convesion.json\",\"w\") as f:\n",
    "    json.dump(dictionary,f)"
   ]
  },
  {
   "cell_type": "code",
   "execution_count": null,
   "metadata": {},
   "outputs": [],
   "source": []
  }
 ],
 "metadata": {
  "kernelspec": {
   "display_name": "Python 3",
   "language": "python",
   "name": "python3"
  },
  "language_info": {
   "codemirror_mode": {
    "name": "ipython",
    "version": 3
   },
   "file_extension": ".py",
   "mimetype": "text/x-python",
   "name": "python",
   "nbconvert_exporter": "python",
   "pygments_lexer": "ipython3",
   "version": "3.7.0"
  }
 },
 "nbformat": 4,
 "nbformat_minor": 2
}
