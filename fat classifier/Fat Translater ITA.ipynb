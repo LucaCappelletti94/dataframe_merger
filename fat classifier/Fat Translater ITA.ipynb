{
 "cells": [
  {
   "cell_type": "code",
   "execution_count": 1,
   "metadata": {},
   "outputs": [],
   "source": [
    "import json\n",
    "import bs4\n",
    "import re\n",
    "import pandas as pd\n",
    "from pprint import pprint"
   ]
  },
  {
   "cell_type": "code",
   "execution_count": 2,
   "metadata": {},
   "outputs": [],
   "source": [
    "dictionary = {\n",
    "    \"C4:1\":[\"acido crotonico\"],\n",
    "    \"C4:2\":[\"acido aspartico\"],\n",
    "    \"C5:2\":[\"acido glutammico\"],\n",
    "    \"C9:1\":[\"acido pantotenico\"],\n",
    "    \"C13:0\":[\"acido triglicerico\"],\n",
    "    \"C18:2\":[\"acido oleico\"],\n",
    "    \"C18:3\":[\"acido linoleico\",\"acido linolenico\"],\n",
    "    \"C20:2\":[\"acido gadoleico\"],\n",
    "    \"C20:5\":[\"acido eicosapentaenoico\"],\n",
    "    \"C22:1 undifferentiated\":[\"acido erucico\"],\n",
    "    \"C22:6\":[\"acido docosaesaenoico\",\"acido decosaesaenoico\"],\n",
    "    \"C24:1 c\":[\"acido nevronico\"],\n",
    "    \"C35:0\":[\"acido ceroplastico\",\"acido pentatriacontanoico\"],\n",
    "    \"C36:0\":[\"acido esatriaconilico\",\"acido esatriacontanoico\"]\n",
    "}"
   ]
  },
  {
   "cell_type": "code",
   "execution_count": 3,
   "metadata": {},
   "outputs": [],
   "source": [
    "dinamic_url = \"\"\"Acido propionico - acido propanoico - C3: 0\n",
    "Acido butirrico - acido butanoico - C4: 0\n",
    "Acido valerico - acido pentanoico - C5: 0\n",
    "Acido caproico - acido esanoico - C6: 0\n",
    "Acido Enantico - Acido eptanoico - C7: 0\n",
    "Acido caprilico - acido ottanoico - C8: 0\n",
    "Acido pelargonico - Acido nonanoico - C9: 0\n",
    "Acido caprico - acido decanoico - C10: 0\n",
    "Acido undecilico - Acido undecanoico - C11: 0\n",
    "Acido laurico - acido dodecanoico - C12: 0\n",
    "Acido tridecilico - Acido tridecanoico - C13: 0\n",
    "Acido miristico - acido tetradecanoico - C14: 0\n",
    "Acido pentadecilico - Acido pentadecanoico - C15: 0\n",
    "Acido palmitico - acido esadecanoico - C16: 0\n",
    "Acido margarico - acido eptadecanoico - C17: 0\n",
    "Acido stearico - acido ottadecanoico - C18: 0\n",
    "Acido non-Arcilico - Acido non anecanoico - C19: 0\n",
    "Acido arachidico - Acido eicosanoico - C20: 0\n",
    "Acido ereicosilico - Acido heneicosanoico - C21: 0\n",
    "Acido behenico - acido docosanoico - C22: 0\n",
    "Acido tricosilico - Acido tricosanoico - C23: 0\n",
    "Acido lignocerico - Acido tetracosanoico - C24: 0\n",
    "Acido pentacosilico - Acido pentacosanoico - C25: 0\n",
    "Acido cerotico - Acido esacosanoico - C26: 0\n",
    "Acido eptacosilico - Acido eptacosanoico - C27: 0\n",
    "Acido montanico - Acido ottacosanoico - C28: 0\n",
    "Acido nonacosilico - Acido nonacosanoico - C29: 0\n",
    "Acido melissico - Acido triacontanoico - C30: 0\n",
    "Acido di Henatriacontylic - acido di Henatriacontanoic - C31: 0\n",
    "Acido laccarico - Acido dotriacontanoico - C32: 0\n",
    "Acido psilico - Acido tritriacontanoico - C33: 0\n",
    "Acido geddico - Acido tetratriacontanoico - C34: 0\n",
    "Acido ceroplastico - acido pentatriacontanoico - C35: 0\n",
    "Acido esatriaconilico - Acido esatriacontanoico - C36: 0\"\"\".split(\"\\n\")"
   ]
  },
  {
   "cell_type": "code",
   "execution_count": 4,
   "metadata": {},
   "outputs": [],
   "source": [
    "for code, values in [(x.split(\" - \")[-1].strip().replace(\" \",\"\"),x.split(\" - \")[:-1]) for x in dinamic_url]:\n",
    "    dictionary.setdefault(code,[])\n",
    "    dictionary[code] += values"
   ]
  },
  {
   "cell_type": "code",
   "execution_count": 5,
   "metadata": {},
   "outputs": [],
   "source": [
    "with open(\"grassi.html\",\"r\") as f:\n",
    "    html = f.read()"
   ]
  },
  {
   "cell_type": "code",
   "execution_count": 6,
   "metadata": {},
   "outputs": [],
   "source": [
    "soup = bs4.BeautifulSoup(html)\n",
    "tables = soup.find_all(\"table\")"
   ]
  },
  {
   "cell_type": "code",
   "execution_count": 7,
   "metadata": {},
   "outputs": [],
   "source": [
    "saturi = tables[2]"
   ]
  },
  {
   "cell_type": "code",
   "execution_count": 8,
   "metadata": {},
   "outputs": [],
   "source": [
    "for row in saturi(\"tr\")[1:]:\n",
    "    cols = row(\"td\")\n",
    "    \n",
    "    code = \"C\" + cols[0].get_text().strip()\n",
    "    name = cols[1].get_text().strip()\n",
    "    \n",
    "    if name != \"-\":\n",
    "        dictionary.setdefault(code,[])\n",
    "        dictionary[code].append(name)"
   ]
  },
  {
   "cell_type": "code",
   "execution_count": 9,
   "metadata": {},
   "outputs": [],
   "source": [
    "monoinsaturi = tables[4]"
   ]
  },
  {
   "cell_type": "code",
   "execution_count": 10,
   "metadata": {},
   "outputs": [],
   "source": [
    "for row in monoinsaturi(\"tr\")[1:]:\n",
    "    cols = row(\"td\")\n",
    "    \n",
    "    code = \"C\" + cols[0].get_text().strip()\n",
    "    name = cols[2].get_text().strip()\n",
    "    \n",
    "    if name != \"-\":\n",
    "        dictionary.setdefault(code,[])\n",
    "        dictionary[code].append(name)"
   ]
  },
  {
   "cell_type": "code",
   "execution_count": 11,
   "metadata": {},
   "outputs": [],
   "source": [
    "polinsaturi = tables[6]"
   ]
  },
  {
   "cell_type": "code",
   "execution_count": 12,
   "metadata": {},
   "outputs": [],
   "source": [
    "for row in polinsaturi(\"tr\")[1:]:\n",
    "    cols = row(\"td\")\n",
    "    \n",
    "    code = \"C\" + cols[0].get_text().strip()\n",
    "    name = cols[2].get_text().strip()\n",
    "    \n",
    "    if name != \"-\":\n",
    "        dictionary.setdefault(code,[])\n",
    "        dictionary[code].append(name)"
   ]
  },
  {
   "cell_type": "code",
   "execution_count": 13,
   "metadata": {},
   "outputs": [],
   "source": [
    "reg = re.compile(\"\\d\")\n",
    "new_dict = {}\n",
    "for key,value in dictionary.items():\n",
    "    if re.findall(reg,key):\n",
    "        if key[0] != \"C\":\n",
    "            key = \"C\" + key\n",
    "        new_dict[key] = list(set([x.lower().strip() for x in value if x]))\n",
    "dictionary = new_dict"
   ]
  },
  {
   "cell_type": "code",
   "execution_count": 14,
   "metadata": {},
   "outputs": [],
   "source": [
    "with open(\"fat_code_convesion_ita.json\",\"w\") as f:\n",
    "    json.dump(dictionary,f)"
   ]
  },
  {
   "cell_type": "code",
   "execution_count": 15,
   "metadata": {},
   "outputs": [
    {
     "data": {
      "text/plain": [
       "55"
      ]
     },
     "execution_count": 15,
     "metadata": {},
     "output_type": "execute_result"
    }
   ],
   "source": [
    "len(dictionary)"
   ]
  },
  {
   "cell_type": "code",
   "execution_count": 16,
   "metadata": {},
   "outputs": [],
   "source": [
    "a = list(dictionary.items())\n",
    "a.sort(key=lambda x: x[0])"
   ]
  },
  {
   "cell_type": "code",
   "execution_count": 17,
   "metadata": {
    "scrolled": false
   },
   "outputs": [
    {
     "name": "stdout",
     "output_type": "stream",
     "text": [
      "{'C10:0': ['acido caprico', 'acido decanoico'],\n",
      " 'C11:0': ['acido undecanoico', 'acido undecilico'],\n",
      " 'C12:0': ['acido dodecanoico', 'acido laurico'],\n",
      " 'C13:0': ['acido tridecilico', 'acido triglicerico', 'acido tridecanoico'],\n",
      " 'C14:0': ['acido miristico', 'acido tetradecanoico'],\n",
      " 'C14:1': ['acido miristoleico'],\n",
      " 'C15:0': ['acido pentadecanoico', 'acido pentadecilico'],\n",
      " 'C16:0': ['acido palmitico', 'acido esadecanoico'],\n",
      " 'C16:1': ['acido sapienico', 'acido palmitoleico'],\n",
      " 'C17:0': ['acido eptadecanoico', 'acido margarico'],\n",
      " 'C17:1': ['acido eptadecenoico'],\n",
      " 'C18:0': ['acido stearico', 'acido ottadecanoico'],\n",
      " 'C18:1': ['acido vaccenicoacido trans-vaccenico',\n",
      "           'acido asclepicoacido cis-vaccenico',\n",
      "           'acido oleico',\n",
      "           'acido petroselinico',\n",
      "           'acido elaidinico',\n",
      "           'acido petroselaidico'],\n",
      " 'C18:2': ['acido oleico', 'acido rumenico', 'acido linoleico'],\n",
      " 'C18:3': ['acido linolenico',\n",
      "           'acido α-linolenico',\n",
      "           'acido linoleico',\n",
      "           'acido γ-linolenico'],\n",
      " 'C18:4': ['acido stearidonico'],\n",
      " 'C19:0': ['acido non-arcilico', 'acido non anecanoico'],\n",
      " 'C20:0': ['acido eicosanoico', 'acido arachidico', 'acido arachico'],\n",
      " 'C20:1': ['acido gondoico', 'acido gadoleico'],\n",
      " 'C20:2': ['acido gadoleico'],\n",
      " 'C20:4': ['acido arachidonico'],\n",
      " 'C20:5': ['acido eicosapentaenoico', 'acido timnodonico, epa'],\n",
      " 'C21:0': ['acido ereicosilico', 'acido heneicosanoico'],\n",
      " 'C22:0': ['acido behenico', 'acido beenico', 'acido docosanoico'],\n",
      " 'C22:1': ['acido erucico', 'acido cetoleico'],\n",
      " 'C22:1 undifferentiated': ['acido erucico'],\n",
      " 'C22:5': ['acido clupanodonico, dpa'],\n",
      " 'C22:6': ['acido cervonico, dha',\n",
      "           'acido decosaesaenoico',\n",
      "           'acido docosaesaenoico'],\n",
      " 'C23:0': ['acido tricosanoico', 'acido tricosilico'],\n",
      " 'C24:0': ['acido tetracosanoico', 'acido lignocerico'],\n",
      " 'C24:1': ['acido nervonico'],\n",
      " 'C24:1 c': ['acido nevronico'],\n",
      " 'C25:0': ['acido pentacosanoico', 'acido pentacosilico'],\n",
      " 'C26:0': ['acido cerotico', 'acido esacosanoico'],\n",
      " 'C27:0': ['acido eptacosilico', 'acido eptacosanoico'],\n",
      " 'C28:0': ['acido montanico', 'acido ottacosanoico'],\n",
      " 'C29:0': ['acido nonacosanoico', 'acido nonacosilico'],\n",
      " 'C30:0': ['acido melissico', 'acido triacontanoico'],\n",
      " 'C31:0': ['acido di henatriacontylic', 'acido di henatriacontanoic'],\n",
      " 'C32:0': ['acido laccarico', 'acido dotriacontanoico', 'acido laceroico'],\n",
      " 'C33:0': ['acido psilico', 'acido tritriacontanoico'],\n",
      " 'C34:0': ['acido geddico', 'acido tetratriacontanoico'],\n",
      " 'C35:0': ['acido pentatriacontanoico', 'acido ceroplastico'],\n",
      " 'C36:0': ['acido esatriacontanoico', 'acido esatriaconilico'],\n",
      " 'C3:0': ['acido propionico', 'acido propanoico'],\n",
      " 'C4:0': ['acido butirrico', 'acido butanoico'],\n",
      " 'C4:1': ['acido crotonico'],\n",
      " 'C4:2': ['acido aspartico'],\n",
      " 'C5:0': ['acido valerico', 'acido pentanoico', 'acido valerico (valerianico)'],\n",
      " 'C5:2': ['acido glutammico'],\n",
      " 'C6:0': ['acido capronico', 'acido esanoico', 'acido caproico'],\n",
      " 'C7:0': ['acido eptanoico', 'acido enantico'],\n",
      " 'C8:0': ['acido ottanoico', 'acido caprilico'],\n",
      " 'C9:0': ['acido pelargonico', 'acido nonanoico'],\n",
      " 'C9:1': ['acido pantotenico']}\n"
     ]
    }
   ],
   "source": [
    "pprint(dictionary)"
   ]
  },
  {
   "cell_type": "code",
   "execution_count": null,
   "metadata": {},
   "outputs": [],
   "source": []
  }
 ],
 "metadata": {
  "kernelspec": {
   "display_name": "Python 3",
   "language": "python",
   "name": "python3"
  },
  "language_info": {
   "codemirror_mode": {
    "name": "ipython",
    "version": 3
   },
   "file_extension": ".py",
   "mimetype": "text/x-python",
   "name": "python",
   "nbconvert_exporter": "python",
   "pygments_lexer": "ipython3",
   "version": "3.7.0"
  }
 },
 "nbformat": 4,
 "nbformat_minor": 2
}
