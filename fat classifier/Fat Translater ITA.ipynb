{
 "cells": [
  {
   "cell_type": "code",
   "execution_count": 1,
   "metadata": {},
   "outputs": [],
   "source": [
    "import json\n",
    "import bs4"
   ]
  },
  {
   "cell_type": "code",
   "execution_count": 2,
   "metadata": {},
   "outputs": [],
   "source": [
    "dictionary = {}"
   ]
  },
  {
   "cell_type": "code",
   "execution_count": 3,
   "metadata": {},
   "outputs": [],
   "source": [
    "with open(\"grassi.html\",\"r\") as f:\n",
    "    html = f.read()"
   ]
  },
  {
   "cell_type": "code",
   "execution_count": 4,
   "metadata": {},
   "outputs": [],
   "source": [
    "soup = bs4.BeautifulSoup(html)\n",
    "tables = soup.find_all(\"table\")"
   ]
  },
  {
   "cell_type": "code",
   "execution_count": 5,
   "metadata": {},
   "outputs": [],
   "source": [
    "saturi = tables[2]"
   ]
  },
  {
   "cell_type": "code",
   "execution_count": 6,
   "metadata": {},
   "outputs": [
    {
     "data": {
      "text/plain": [
       "{'4:0': 'acido butirrico',\n",
       " '5:0': 'acido valerico (valerianico)',\n",
       " '6:0': 'acido capronico',\n",
       " '7:0': 'acido enantico',\n",
       " '8:0': 'acido caprilico',\n",
       " '9:0': 'acido pelargonico',\n",
       " '10:0': 'acido caprico',\n",
       " '12:0': 'acido laurico',\n",
       " '14:0': 'acido miristico',\n",
       " '16:0': 'acido palmitico',\n",
       " '17:0': 'acido margarico',\n",
       " '18:0': 'acido stearico',\n",
       " '20:0': 'acido arachico',\n",
       " '22:0': 'acido beenico',\n",
       " '24:0': 'acido lignocerico',\n",
       " '26:0': 'acido cerotico',\n",
       " '28:0': 'acido montanico',\n",
       " '30:0': 'acido melissico',\n",
       " '32:0': 'acido laceroico'}"
      ]
     },
     "execution_count": 6,
     "metadata": {},
     "output_type": "execute_result"
    }
   ],
   "source": [
    "for row in saturi(\"tr\")[1:]:\n",
    "    cols = row(\"td\")\n",
    "    \n",
    "    code = cols[0].get_text().strip()\n",
    "    name = cols[1].get_text().strip()\n",
    "    \n",
    "    if name != \"-\":\n",
    "        dictionary[code] = name\n",
    "    \n",
    "dictionary"
   ]
  },
  {
   "cell_type": "code",
   "execution_count": 7,
   "metadata": {},
   "outputs": [],
   "source": [
    "monoinsaturi = tables[4]"
   ]
  },
  {
   "cell_type": "code",
   "execution_count": 10,
   "metadata": {},
   "outputs": [
    {
     "data": {
      "text/plain": [
       "{'4:0': 'acido butanoico',\n",
       " '5:0': 'acido pentanoico',\n",
       " '6:0': 'acido esanoico',\n",
       " '7:0': 'acido eptanoico',\n",
       " '8:0': 'acido ottanoico',\n",
       " '9:0': 'acido nonanoico',\n",
       " '10:0': 'acido decanoico',\n",
       " '12:0': 'acido dodecanoico',\n",
       " '14:0': 'acido tetradecanoico',\n",
       " '16:0': 'acido esadecanoico',\n",
       " '17:0': 'acido eptadecanoico',\n",
       " '18:0': 'acido ottadecanoico',\n",
       " '20:0': 'acido eicosanoico',\n",
       " '22:0': 'acido docosanoico',\n",
       " '24:0': 'acido tetracosanoico',\n",
       " '26:0': 'acido esacosanoico',\n",
       " '28:0': 'acido ottacosanoico',\n",
       " '30:0': 'acido triacontanoico',\n",
       " '32:0': 'acido dotriacontanoico',\n",
       " '11:0': 'acido undecanoico',\n",
       " '13:0': 'acido tridecanoico',\n",
       " '15:0': 'acido pentadecanoico',\n",
       " '19:0': 'acido nonadecanoico',\n",
       " '14:1': 'acido miristoleico',\n",
       " '16:1': 'acido palmitoleico',\n",
       " '17:1': 'acido eptadecenoico',\n",
       " '18:1': 'acido petroselaidico',\n",
       " '20:1': 'acido gondoico',\n",
       " '22:1': 'acido erucico',\n",
       " '24:1': 'acido nervonico'}"
      ]
     },
     "execution_count": 10,
     "metadata": {},
     "output_type": "execute_result"
    }
   ],
   "source": [
    "for row in monoinsaturi(\"tr\")[1:]:\n",
    "    cols = row(\"td\")\n",
    "    \n",
    "    code = cols[0].get_text().strip()\n",
    "    name = cols[2].get_text().strip()\n",
    "    \n",
    "    if name != \"-\":\n",
    "        dictionary[code] = name\n",
    "    \n",
    "dictionary"
   ]
  },
  {
   "cell_type": "code",
   "execution_count": 8,
   "metadata": {},
   "outputs": [],
   "source": [
    "polinsaturi = tables[6]"
   ]
  },
  {
   "cell_type": "code",
   "execution_count": 11,
   "metadata": {},
   "outputs": [
    {
     "data": {
      "text/plain": [
       "{'4:0': 'acido butanoico',\n",
       " '5:0': 'acido pentanoico',\n",
       " '6:0': 'acido esanoico',\n",
       " '7:0': 'acido eptanoico',\n",
       " '8:0': 'acido ottanoico',\n",
       " '9:0': 'acido nonanoico',\n",
       " '10:0': 'acido decanoico',\n",
       " '12:0': 'acido dodecanoico',\n",
       " '14:0': 'acido tetradecanoico',\n",
       " '16:0': 'acido esadecanoico',\n",
       " '17:0': 'acido eptadecanoico',\n",
       " '18:0': 'acido ottadecanoico',\n",
       " '20:0': 'acido eicosanoico',\n",
       " '22:0': 'acido docosanoico',\n",
       " '24:0': 'acido tetracosanoico',\n",
       " '26:0': 'acido esacosanoico',\n",
       " '28:0': 'acido ottacosanoico',\n",
       " '30:0': 'acido triacontanoico',\n",
       " '32:0': 'acido dotriacontanoico',\n",
       " '11:0': 'acido undecanoico',\n",
       " '13:0': 'acido tridecanoico',\n",
       " '15:0': 'acido pentadecanoico',\n",
       " '19:0': 'acido nonadecanoico',\n",
       " '14:1': 'acido miristoleico',\n",
       " '16:1': 'acido palmitoleico',\n",
       " '17:1': 'acido eptadecenoico',\n",
       " '18:1': 'acido petroselaidico',\n",
       " '20:1': 'acido gondoico',\n",
       " '22:1': 'acido erucico',\n",
       " '24:1': 'acido nervonico',\n",
       " '18:2': 'acido rumenico',\n",
       " '18:3': 'acido γ-linolenico',\n",
       " '18:4': 'acido stearidonico',\n",
       " '20:4': 'acido arachidonico',\n",
       " '20:5': 'acido timnodonico, EPA',\n",
       " '22:5': 'acido clupanodonico, DPA',\n",
       " '22:6': 'acido cervonico, DHA'}"
      ]
     },
     "execution_count": 11,
     "metadata": {},
     "output_type": "execute_result"
    }
   ],
   "source": [
    "for row in polinsaturi(\"tr\")[1:]:\n",
    "    cols = row(\"td\")\n",
    "    \n",
    "    code = cols[0].get_text().strip()\n",
    "    name = cols[2].get_text().strip()\n",
    "    \n",
    "    if name != \"-\":\n",
    "        dictionary[code] = name\n",
    "    \n",
    "dictionary"
   ]
  },
  {
   "cell_type": "code",
   "execution_count": 12,
   "metadata": {},
   "outputs": [],
   "source": [
    "with open(\"fat_code_convesion_ita.json\",\"w\") as f:\n",
    "    json.dump(dictionary,f)"
   ]
  },
  {
   "cell_type": "code",
   "execution_count": null,
   "metadata": {},
   "outputs": [],
   "source": []
  }
 ],
 "metadata": {
  "kernelspec": {
   "display_name": "Python 3",
   "language": "python",
   "name": "python3"
  },
  "language_info": {
   "codemirror_mode": {
    "name": "ipython",
    "version": 3
   },
   "file_extension": ".py",
   "mimetype": "text/x-python",
   "name": "python",
   "nbconvert_exporter": "python",
   "pygments_lexer": "ipython3",
   "version": "3.7.0"
  }
 },
 "nbformat": 4,
 "nbformat_minor": 2
}
