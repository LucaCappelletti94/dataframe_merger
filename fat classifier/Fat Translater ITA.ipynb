{
 "cells": [
  {
   "cell_type": "code",
   "execution_count": 1,
   "metadata": {},
   "outputs": [],
   "source": [
    "import json\n",
    "import bs4"
   ]
  },
  {
   "cell_type": "code",
   "execution_count": 2,
   "metadata": {},
   "outputs": [],
   "source": [
    "dictionary = {\n",
    "    \"C4:1\":\"Acido Crotonico\"\n",
    "}"
   ]
  },
  {
   "cell_type": "code",
   "execution_count": 3,
   "metadata": {},
   "outputs": [],
   "source": [
    "with open(\"grassi.html\",\"r\") as f:\n",
    "    html = f.read()"
   ]
  },
  {
   "cell_type": "code",
   "execution_count": 4,
   "metadata": {},
   "outputs": [],
   "source": [
    "soup = bs4.BeautifulSoup(html)\n",
    "tables = soup.find_all(\"table\")"
   ]
  },
  {
   "cell_type": "code",
   "execution_count": 5,
   "metadata": {},
   "outputs": [],
   "source": [
    "saturi = tables[2]"
   ]
  },
  {
   "cell_type": "code",
   "execution_count": 6,
   "metadata": {},
   "outputs": [
    {
     "name": "stdout",
     "output_type": "stream",
     "text": [
      "C4:0\n",
      "C5:0\n",
      "C6:0\n",
      "C7:0\n",
      "C8:0\n",
      "C9:0\n",
      "C10:0\n",
      "C12:0\n",
      "C14:0\n",
      "C16:0\n",
      "C17:0\n",
      "C18:0\n",
      "C20:0\n",
      "C22:0\n",
      "C24:0\n",
      "C26:0\n",
      "C28:0\n",
      "C30:0\n",
      "C32:0\n"
     ]
    },
    {
     "data": {
      "text/plain": [
       "{'C4:0': 'acido butirrico',\n",
       " 'C5:0': 'acido valerico (valerianico)',\n",
       " 'C6:0': 'acido capronico',\n",
       " 'C7:0': 'acido enantico',\n",
       " 'C8:0': 'acido caprilico',\n",
       " 'C9:0': 'acido pelargonico',\n",
       " 'C10:0': 'acido caprico',\n",
       " 'C12:0': 'acido laurico',\n",
       " 'C14:0': 'acido miristico',\n",
       " 'C16:0': 'acido palmitico',\n",
       " 'C17:0': 'acido margarico',\n",
       " 'C18:0': 'acido stearico',\n",
       " 'C20:0': 'acido arachico',\n",
       " 'C22:0': 'acido beenico',\n",
       " 'C24:0': 'acido lignocerico',\n",
       " 'C26:0': 'acido cerotico',\n",
       " 'C28:0': 'acido montanico',\n",
       " 'C30:0': 'acido melissico',\n",
       " 'C32:0': 'acido laceroico'}"
      ]
     },
     "execution_count": 6,
     "metadata": {},
     "output_type": "execute_result"
    }
   ],
   "source": [
    "for row in saturi(\"tr\")[1:]:\n",
    "    cols = row(\"td\")\n",
    "    \n",
    "    code = \"C\" + cols[0].get_text().strip()\n",
    "    name = cols[1].get_text().strip()\n",
    "    \n",
    "    if name != \"-\":\n",
    "        print(code)\n",
    "        dictionary[code] = name\n",
    "    \n",
    "dictionary"
   ]
  },
  {
   "cell_type": "code",
   "execution_count": 7,
   "metadata": {},
   "outputs": [],
   "source": [
    "monoinsaturi = tables[4]"
   ]
  },
  {
   "cell_type": "code",
   "execution_count": 8,
   "metadata": {},
   "outputs": [
    {
     "name": "stdout",
     "output_type": "stream",
     "text": [
      "C14:1\n",
      "C16:1\n",
      "C16:1\n",
      "C17:1\n",
      "C18:1\n",
      "C18:1\n",
      "C18:1\n",
      "C18:1\n",
      "C18:1\n",
      "C18:1\n",
      "C20:1\n",
      "C20:1\n",
      "C22:1\n",
      "C22:1\n",
      "C24:1\n"
     ]
    },
    {
     "data": {
      "text/plain": [
       "{'C4:0': 'acido butirrico',\n",
       " 'C5:0': 'acido valerico (valerianico)',\n",
       " 'C6:0': 'acido capronico',\n",
       " 'C7:0': 'acido enantico',\n",
       " 'C8:0': 'acido caprilico',\n",
       " 'C9:0': 'acido pelargonico',\n",
       " 'C10:0': 'acido caprico',\n",
       " 'C12:0': 'acido laurico',\n",
       " 'C14:0': 'acido miristico',\n",
       " 'C16:0': 'acido palmitico',\n",
       " 'C17:0': 'acido margarico',\n",
       " 'C18:0': 'acido stearico',\n",
       " 'C20:0': 'acido arachico',\n",
       " 'C22:0': 'acido beenico',\n",
       " 'C24:0': 'acido lignocerico',\n",
       " 'C26:0': 'acido cerotico',\n",
       " 'C28:0': 'acido montanico',\n",
       " 'C30:0': 'acido melissico',\n",
       " 'C32:0': 'acido laceroico',\n",
       " 'C14:1': 'acido miristoleico',\n",
       " 'C16:1': 'acido palmitoleico',\n",
       " 'C17:1': 'acido eptadecenoico',\n",
       " 'C18:1': 'acido petroselaidico',\n",
       " 'C20:1': 'acido gondoico',\n",
       " 'C22:1': 'acido erucico',\n",
       " 'C24:1': 'acido nervonico'}"
      ]
     },
     "execution_count": 8,
     "metadata": {},
     "output_type": "execute_result"
    }
   ],
   "source": [
    "for row in monoinsaturi(\"tr\")[1:]:\n",
    "    cols = row(\"td\")\n",
    "    \n",
    "    code = \"C\" + cols[0].get_text().strip()\n",
    "    name = cols[2].get_text().strip()\n",
    "    \n",
    "    if name != \"-\":\n",
    "        print(code)\n",
    "        dictionary[code] = name\n",
    "    \n",
    "dictionary"
   ]
  },
  {
   "cell_type": "code",
   "execution_count": 9,
   "metadata": {},
   "outputs": [],
   "source": [
    "polinsaturi = tables[6]"
   ]
  },
  {
   "cell_type": "code",
   "execution_count": 10,
   "metadata": {},
   "outputs": [
    {
     "name": "stdout",
     "output_type": "stream",
     "text": [
      "C18:2\n",
      "C18:2\n",
      "C18:3\n",
      "C18:3\n",
      "C18:4\n",
      "C20:4\n",
      "C20:5\n",
      "C22:5\n",
      "C22:6\n"
     ]
    },
    {
     "data": {
      "text/plain": [
       "{'C4:0': 'acido butirrico',\n",
       " 'C5:0': 'acido valerico (valerianico)',\n",
       " 'C6:0': 'acido capronico',\n",
       " 'C7:0': 'acido enantico',\n",
       " 'C8:0': 'acido caprilico',\n",
       " 'C9:0': 'acido pelargonico',\n",
       " 'C10:0': 'acido caprico',\n",
       " 'C12:0': 'acido laurico',\n",
       " 'C14:0': 'acido miristico',\n",
       " 'C16:0': 'acido palmitico',\n",
       " 'C17:0': 'acido margarico',\n",
       " 'C18:0': 'acido stearico',\n",
       " 'C20:0': 'acido arachico',\n",
       " 'C22:0': 'acido beenico',\n",
       " 'C24:0': 'acido lignocerico',\n",
       " 'C26:0': 'acido cerotico',\n",
       " 'C28:0': 'acido montanico',\n",
       " 'C30:0': 'acido melissico',\n",
       " 'C32:0': 'acido laceroico',\n",
       " 'C14:1': 'acido miristoleico',\n",
       " 'C16:1': 'acido palmitoleico',\n",
       " 'C17:1': 'acido eptadecenoico',\n",
       " 'C18:1': 'acido petroselaidico',\n",
       " 'C20:1': 'acido gondoico',\n",
       " 'C22:1': 'acido erucico',\n",
       " 'C24:1': 'acido nervonico',\n",
       " 'C18:2': 'acido rumenico',\n",
       " 'C18:3': 'acido γ-linolenico',\n",
       " 'C18:4': 'acido stearidonico',\n",
       " 'C20:4': 'acido arachidonico',\n",
       " 'C20:5': 'acido timnodonico, EPA',\n",
       " 'C22:5': 'acido clupanodonico, DPA',\n",
       " 'C22:6': 'acido cervonico, DHA'}"
      ]
     },
     "execution_count": 10,
     "metadata": {},
     "output_type": "execute_result"
    }
   ],
   "source": [
    "for row in polinsaturi(\"tr\")[1:]:\n",
    "    cols = row(\"td\")\n",
    "    \n",
    "    code = \"C\" + cols[0].get_text().strip()\n",
    "    name = cols[2].get_text().strip()\n",
    "    \n",
    "    if name != \"-\":\n",
    "        print(code)\n",
    "        dictionary[code] = name\n",
    "    \n",
    "dictionary"
   ]
  },
  {
   "cell_type": "code",
   "execution_count": 11,
   "metadata": {},
   "outputs": [],
   "source": [
    "with open(\"fat_code_convesion_ita.json\",\"w\") as f:\n",
    "    json.dump(dictionary,f)"
   ]
  },
  {
   "cell_type": "code",
   "execution_count": 12,
   "metadata": {},
   "outputs": [
    {
     "data": {
      "text/plain": [
       "33"
      ]
     },
     "execution_count": 12,
     "metadata": {},
     "output_type": "execute_result"
    }
   ],
   "source": [
    "len(dictionary)"
   ]
  },
  {
   "cell_type": "code",
   "execution_count": null,
   "metadata": {},
   "outputs": [],
   "source": []
  }
 ],
 "metadata": {
  "kernelspec": {
   "display_name": "Python 3",
   "language": "python",
   "name": "python3"
  },
  "language_info": {
   "codemirror_mode": {
    "name": "ipython",
    "version": 3
   },
   "file_extension": ".py",
   "mimetype": "text/x-python",
   "name": "python",
   "nbconvert_exporter": "python",
   "pygments_lexer": "ipython3",
   "version": "3.7.0"
  }
 },
 "nbformat": 4,
 "nbformat_minor": 2
}
