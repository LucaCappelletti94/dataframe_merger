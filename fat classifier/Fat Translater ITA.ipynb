{
 "cells": [
  {
   "cell_type": "code",
   "execution_count": 1,
   "metadata": {},
   "outputs": [],
   "source": [
    "import json\n",
    "import bs4"
   ]
  },
  {
   "cell_type": "code",
   "execution_count": 2,
   "metadata": {},
   "outputs": [],
   "source": [
    "dictionary = {\n",
    "    \"C4:1\":[\"acido crotonico\"],\n",
    "    \"C4:2\":[\"acido aspartico\"],\n",
    "    \"C5:2\":[\"acido glutammico\"],\n",
    "    \"C9:1\":[\"acido pantotenico\"],\n",
    "    \"C13:0\":[\"acido triglicerico\"],\n",
    "    \"C18:2\":[\"acido oleico\"],\n",
    "    \"C18:3\":[\"acido linoleico\",\"acido linolenico\"],\n",
    "    \"C20:2\":[\"acido gadoleico\"],\n",
    "    \"C20:5\":[\"acido eicosapentaenoico\"],\n",
    "    \"C22:1 undifferentiated\":[\"acido erucico\"],\n",
    "    \"C22:6\":[\"acido docosaesaenoico\",\"acido decosaesaenoico\"],\n",
    "    \"C24:1 c\":[\"acido nevronico\"],\n",
    "    \"C35:0\":[\"acido ceroplastico\",\"acido pentatriacontanoico\"],\n",
    "    \"C36:0\":[\"acido esatriaconilico\",\"acido esatriacontanoico\"]\n",
    "}"
   ]
  },
  {
   "cell_type": "code",
   "execution_count": 3,
   "metadata": {},
   "outputs": [],
   "source": [
    "dinamic_url = \"\"\"Acido propionico - acido propanoico - C3: 0\n",
    "Acido butirrico - acido butanoico - C4: 0\n",
    "Acido valerico - acido pentanoico - C5: 0\n",
    "Acido caproico - acido esanoico - C6: 0\n",
    "Acido Enantico - Acido eptanoico - C7: 0\n",
    "Acido caprilico - acido ottanoico - C8: 0\n",
    "Acido pelargonico - Acido nonanoico - C9: 0\n",
    "Acido caprico - acido decanoico - C10: 0\n",
    "Acido undecilico - Acido undecanoico - C11: 0\n",
    "Acido laurico - acido dodecanoico - C12: 0\n",
    "Acido tridecilico - Acido tridecanoico - C13: 0\n",
    "Acido miristico - acido tetradecanoico - C14: 0\n",
    "Acido pentadecilico - Acido pentadecanoico - C15: 0\n",
    "Acido palmitico - acido esadecanoico - C16: 0\n",
    "Acido margarico - acido eptadecanoico - C17: 0\n",
    "Acido stearico - acido ottadecanoico - C18: 0\n",
    "Acido non-Arcilico - Acido non anecanoico - C19: 0\n",
    "Acido arachidico - Acido eicosanoico - C20: 0\n",
    "Acido ereicosilico - Acido heneicosanoico - C21: 0\n",
    "Acido behenico - acido docosanoico - C22: 0\n",
    "Acido tricosilico - Acido tricosanoico - C23: 0\n",
    "Acido lignocerico - Acido tetracosanoico - C24: 0\n",
    "Acido pentacosilico - Acido pentacosanoico - C25: 0\n",
    "Acido cerotico - Acido esacosanoico - C26: 0\n",
    "Acido eptacosilico - Acido eptacosanoico - C27: 0\n",
    "Acido montanico - Acido ottacosanoico - C28: 0\n",
    "Acido nonacosilico - Acido nonacosanoico - C29: 0\n",
    "Acido melissico - Acido triacontanoico - C30: 0\n",
    "Acido di Henatriacontylic - acido di Henatriacontanoic - C31: 0\n",
    "Acido laccarico - Acido dotriacontanoico - C32: 0\n",
    "Acido psilico - Acido tritriacontanoico - C33: 0\n",
    "Acido geddico - Acido tetratriacontanoico - C34: .0\n",
    "Acido ceroplastico - acido pentatriacontanoico - C35: 0\n",
    "Acido esatriaconilico - Acido esatriacontanoico - C36: 0\"\"\".split(\"\\n\")"
   ]
  },
  {
   "cell_type": "code",
   "execution_count": 4,
   "metadata": {},
   "outputs": [],
   "source": [
    "for code, values in [(x.split(\" - \")[-1].strip().replace(\" \",\"\"),x.split(\" - \")[:-1]) for x in dinamic_url]:\n",
    "    dictionary.setdefault(code,[])\n",
    "    dictionary[code] += values"
   ]
  },
  {
   "cell_type": "code",
   "execution_count": 5,
   "metadata": {},
   "outputs": [],
   "source": [
    "with open(\"grassi.html\",\"r\") as f:\n",
    "    html = f.read()"
   ]
  },
  {
   "cell_type": "code",
   "execution_count": 6,
   "metadata": {},
   "outputs": [],
   "source": [
    "soup = bs4.BeautifulSoup(html)\n",
    "tables = soup.find_all(\"table\")"
   ]
  },
  {
   "cell_type": "code",
   "execution_count": 7,
   "metadata": {},
   "outputs": [],
   "source": [
    "saturi = tables[2]"
   ]
  },
  {
   "cell_type": "code",
   "execution_count": 8,
   "metadata": {},
   "outputs": [
    {
     "data": {
      "text/plain": [
       "{'C4:1': ['acido crotonico'],\n",
       " 'C4:2': ['acido aspartico'],\n",
       " 'C5:2': ['acido glutammico'],\n",
       " 'C9:1': ['acido pantotenico'],\n",
       " 'C13:0': ['acido triglicerico', 'Acido tridecilico', 'Acido tridecanoico'],\n",
       " 'C18:2': ['acido oleico'],\n",
       " 'C18:3': ['acido linoleico', 'acido linolenico'],\n",
       " 'C20:2': ['acido gadoleico'],\n",
       " 'C20:5': ['acido eicosapentaenoico'],\n",
       " 'C22:1 undifferentiated': ['acido erucico'],\n",
       " 'C22:6': ['acido docosaesaenoico', 'acido decosaesaenoico'],\n",
       " 'C24:1 c': ['acido nevronico'],\n",
       " 'C35:0': ['acido ceroplastico',\n",
       "  'acido pentatriacontanoico',\n",
       "  'Acido ceroplastico',\n",
       "  'acido pentatriacontanoico'],\n",
       " 'C36:0': ['acido esatriaconilico',\n",
       "  'acido esatriacontanoico',\n",
       "  'Acido esatriaconilico',\n",
       "  'Acido esatriacontanoico'],\n",
       " 'C3:0': ['Acido propionico', 'acido propanoico'],\n",
       " 'C4:0': ['Acido butirrico', 'acido butanoico', 'acido butirrico'],\n",
       " 'C5:0': ['Acido valerico',\n",
       "  'acido pentanoico',\n",
       "  'acido valerico (valerianico)'],\n",
       " 'C6:0': ['Acido caproico', 'acido esanoico', 'acido capronico'],\n",
       " 'C7:0': ['Acido Enantico', 'Acido eptanoico', 'acido enantico'],\n",
       " 'C8:0': ['Acido caprilico', 'acido ottanoico', 'acido caprilico'],\n",
       " 'C9:0': ['Acido pelargonico', 'Acido nonanoico', 'acido pelargonico'],\n",
       " 'C10:0': ['Acido caprico', 'acido decanoico', 'acido caprico'],\n",
       " 'C11:0': ['Acido undecilico', 'Acido undecanoico'],\n",
       " 'C12:0': ['Acido laurico', 'acido dodecanoico', 'acido laurico'],\n",
       " 'C14:0': ['Acido miristico', 'acido tetradecanoico', 'acido miristico'],\n",
       " 'C15:0': ['Acido pentadecilico', 'Acido pentadecanoico'],\n",
       " 'C16:0': ['Acido palmitico', 'acido esadecanoico', 'acido palmitico'],\n",
       " 'C17:0': ['Acido margarico', 'acido eptadecanoico', 'acido margarico'],\n",
       " 'C18:0': ['Acido stearico', 'acido ottadecanoico', 'acido stearico'],\n",
       " 'C19:0': ['Acido non-Arcilico', 'Acido non anecanoico'],\n",
       " 'C20:0': ['Acido arachidico', 'Acido eicosanoico', 'acido arachico'],\n",
       " 'C21:0': ['Acido ereicosilico', 'Acido heneicosanoico'],\n",
       " 'C22:0': ['Acido behenico', 'acido docosanoico', 'acido beenico'],\n",
       " 'C23:0': ['Acido tricosilico', 'Acido tricosanoico'],\n",
       " 'C24:0': ['Acido lignocerico', 'Acido tetracosanoico', 'acido lignocerico'],\n",
       " 'C25:0': ['Acido pentacosilico', 'Acido pentacosanoico'],\n",
       " 'C26:0': ['Acido cerotico', 'Acido esacosanoico', 'acido cerotico'],\n",
       " 'C27:0': ['Acido eptacosilico', 'Acido eptacosanoico'],\n",
       " 'C28:0': ['Acido montanico', 'Acido ottacosanoico', 'acido montanico'],\n",
       " 'C29:0': ['Acido nonacosilico', 'Acido nonacosanoico'],\n",
       " 'C30:0': ['Acido melissico', 'Acido triacontanoico', 'acido melissico'],\n",
       " 'C31:0': ['Acido di Henatriacontylic', 'acido di Henatriacontanoic'],\n",
       " 'C32:0': ['Acido laccarico', 'Acido dotriacontanoico', 'acido laceroico'],\n",
       " 'C33:0': ['Acido psilico', 'Acido tritriacontanoico'],\n",
       " 'C34:.0': ['Acido geddico', 'Acido tetratriacontanoico']}"
      ]
     },
     "execution_count": 8,
     "metadata": {},
     "output_type": "execute_result"
    }
   ],
   "source": [
    "for row in saturi(\"tr\")[1:]:\n",
    "    cols = row(\"td\")\n",
    "    \n",
    "    code = \"C\" + cols[0].get_text().strip()\n",
    "    name = cols[1].get_text().strip()\n",
    "    \n",
    "    if name != \"-\":\n",
    "        dictionary.setdefault(code,[])\n",
    "        dictionary[code].append(name)\n",
    "    \n",
    "dictionary"
   ]
  },
  {
   "cell_type": "code",
   "execution_count": 9,
   "metadata": {},
   "outputs": [],
   "source": [
    "monoinsaturi = tables[4]"
   ]
  },
  {
   "cell_type": "code",
   "execution_count": 10,
   "metadata": {},
   "outputs": [
    {
     "data": {
      "text/plain": [
       "{'C4:1': ['acido crotonico'],\n",
       " 'C4:2': ['acido aspartico'],\n",
       " 'C5:2': ['acido glutammico'],\n",
       " 'C9:1': ['acido pantotenico'],\n",
       " 'C13:0': ['acido triglicerico', 'Acido tridecilico', 'Acido tridecanoico'],\n",
       " 'C18:2': ['acido oleico'],\n",
       " 'C18:3': ['acido linoleico', 'acido linolenico'],\n",
       " 'C20:2': ['acido gadoleico'],\n",
       " 'C20:5': ['acido eicosapentaenoico'],\n",
       " 'C22:1 undifferentiated': ['acido erucico'],\n",
       " 'C22:6': ['acido docosaesaenoico', 'acido decosaesaenoico'],\n",
       " 'C24:1 c': ['acido nevronico'],\n",
       " 'C35:0': ['acido ceroplastico',\n",
       "  'acido pentatriacontanoico',\n",
       "  'Acido ceroplastico',\n",
       "  'acido pentatriacontanoico'],\n",
       " 'C36:0': ['acido esatriaconilico',\n",
       "  'acido esatriacontanoico',\n",
       "  'Acido esatriaconilico',\n",
       "  'Acido esatriacontanoico'],\n",
       " 'C3:0': ['Acido propionico', 'acido propanoico'],\n",
       " 'C4:0': ['Acido butirrico', 'acido butanoico', 'acido butirrico'],\n",
       " 'C5:0': ['Acido valerico',\n",
       "  'acido pentanoico',\n",
       "  'acido valerico (valerianico)'],\n",
       " 'C6:0': ['Acido caproico', 'acido esanoico', 'acido capronico'],\n",
       " 'C7:0': ['Acido Enantico', 'Acido eptanoico', 'acido enantico'],\n",
       " 'C8:0': ['Acido caprilico', 'acido ottanoico', 'acido caprilico'],\n",
       " 'C9:0': ['Acido pelargonico', 'Acido nonanoico', 'acido pelargonico'],\n",
       " 'C10:0': ['Acido caprico', 'acido decanoico', 'acido caprico'],\n",
       " 'C11:0': ['Acido undecilico', 'Acido undecanoico'],\n",
       " 'C12:0': ['Acido laurico', 'acido dodecanoico', 'acido laurico'],\n",
       " 'C14:0': ['Acido miristico', 'acido tetradecanoico', 'acido miristico'],\n",
       " 'C15:0': ['Acido pentadecilico', 'Acido pentadecanoico'],\n",
       " 'C16:0': ['Acido palmitico', 'acido esadecanoico', 'acido palmitico'],\n",
       " 'C17:0': ['Acido margarico', 'acido eptadecanoico', 'acido margarico'],\n",
       " 'C18:0': ['Acido stearico', 'acido ottadecanoico', 'acido stearico'],\n",
       " 'C19:0': ['Acido non-Arcilico', 'Acido non anecanoico'],\n",
       " 'C20:0': ['Acido arachidico', 'Acido eicosanoico', 'acido arachico'],\n",
       " 'C21:0': ['Acido ereicosilico', 'Acido heneicosanoico'],\n",
       " 'C22:0': ['Acido behenico', 'acido docosanoico', 'acido beenico'],\n",
       " 'C23:0': ['Acido tricosilico', 'Acido tricosanoico'],\n",
       " 'C24:0': ['Acido lignocerico', 'Acido tetracosanoico', 'acido lignocerico'],\n",
       " 'C25:0': ['Acido pentacosilico', 'Acido pentacosanoico'],\n",
       " 'C26:0': ['Acido cerotico', 'Acido esacosanoico', 'acido cerotico'],\n",
       " 'C27:0': ['Acido eptacosilico', 'Acido eptacosanoico'],\n",
       " 'C28:0': ['Acido montanico', 'Acido ottacosanoico', 'acido montanico'],\n",
       " 'C29:0': ['Acido nonacosilico', 'Acido nonacosanoico'],\n",
       " 'C30:0': ['Acido melissico', 'Acido triacontanoico', 'acido melissico'],\n",
       " 'C31:0': ['Acido di Henatriacontylic', 'acido di Henatriacontanoic'],\n",
       " 'C32:0': ['Acido laccarico', 'Acido dotriacontanoico', 'acido laceroico'],\n",
       " 'C33:0': ['Acido psilico', 'Acido tritriacontanoico'],\n",
       " 'C34:.0': ['Acido geddico', 'Acido tetratriacontanoico'],\n",
       " 'C14:1': ['acido miristoleico'],\n",
       " 'C16:1': ['acido sapienico', 'acido palmitoleico'],\n",
       " 'C17:1': ['acido eptadecenoico'],\n",
       " 'C18:1': ['acido oleico',\n",
       "  'acido elaidinico',\n",
       "  'acido vaccenicoacido trans-vaccenico',\n",
       "  'acido asclepicoacido cis-vaccenico',\n",
       "  'acido petroselinico',\n",
       "  'acido petroselaidico'],\n",
       " 'C20:1': ['acido gadoleico', 'acido gondoico'],\n",
       " 'C22:1': ['acido cetoleico', 'acido erucico'],\n",
       " 'C24:1': ['acido nervonico']}"
      ]
     },
     "execution_count": 10,
     "metadata": {},
     "output_type": "execute_result"
    }
   ],
   "source": [
    "for row in monoinsaturi(\"tr\")[1:]:\n",
    "    cols = row(\"td\")\n",
    "    \n",
    "    code = \"C\" + cols[0].get_text().strip()\n",
    "    name = cols[2].get_text().strip()\n",
    "    \n",
    "    if name != \"-\":\n",
    "        dictionary.setdefault(code,[])\n",
    "        dictionary[code].append(name)\n",
    "    \n",
    "dictionary"
   ]
  },
  {
   "cell_type": "code",
   "execution_count": 11,
   "metadata": {},
   "outputs": [],
   "source": [
    "polinsaturi = tables[6]"
   ]
  },
  {
   "cell_type": "code",
   "execution_count": 12,
   "metadata": {},
   "outputs": [
    {
     "data": {
      "text/plain": [
       "{'C4:1': ['acido crotonico'],\n",
       " 'C4:2': ['acido aspartico'],\n",
       " 'C5:2': ['acido glutammico'],\n",
       " 'C9:1': ['acido pantotenico'],\n",
       " 'C13:0': ['acido triglicerico', 'Acido tridecilico', 'Acido tridecanoico'],\n",
       " 'C18:2': ['acido oleico', 'acido linoleico', 'acido rumenico'],\n",
       " 'C18:3': ['acido linoleico',\n",
       "  'acido linolenico',\n",
       "  'acido α-linolenico',\n",
       "  'acido γ-linolenico'],\n",
       " 'C20:2': ['acido gadoleico'],\n",
       " 'C20:5': ['acido eicosapentaenoico', 'acido timnodonico, EPA'],\n",
       " 'C22:1 undifferentiated': ['acido erucico'],\n",
       " 'C22:6': ['acido docosaesaenoico',\n",
       "  'acido decosaesaenoico',\n",
       "  'acido cervonico, DHA'],\n",
       " 'C24:1 c': ['acido nevronico'],\n",
       " 'C35:0': ['acido ceroplastico',\n",
       "  'acido pentatriacontanoico',\n",
       "  'Acido ceroplastico',\n",
       "  'acido pentatriacontanoico'],\n",
       " 'C36:0': ['acido esatriaconilico',\n",
       "  'acido esatriacontanoico',\n",
       "  'Acido esatriaconilico',\n",
       "  'Acido esatriacontanoico'],\n",
       " 'C3:0': ['Acido propionico', 'acido propanoico'],\n",
       " 'C4:0': ['Acido butirrico', 'acido butanoico', 'acido butirrico'],\n",
       " 'C5:0': ['Acido valerico',\n",
       "  'acido pentanoico',\n",
       "  'acido valerico (valerianico)'],\n",
       " 'C6:0': ['Acido caproico', 'acido esanoico', 'acido capronico'],\n",
       " 'C7:0': ['Acido Enantico', 'Acido eptanoico', 'acido enantico'],\n",
       " 'C8:0': ['Acido caprilico', 'acido ottanoico', 'acido caprilico'],\n",
       " 'C9:0': ['Acido pelargonico', 'Acido nonanoico', 'acido pelargonico'],\n",
       " 'C10:0': ['Acido caprico', 'acido decanoico', 'acido caprico'],\n",
       " 'C11:0': ['Acido undecilico', 'Acido undecanoico'],\n",
       " 'C12:0': ['Acido laurico', 'acido dodecanoico', 'acido laurico'],\n",
       " 'C14:0': ['Acido miristico', 'acido tetradecanoico', 'acido miristico'],\n",
       " 'C15:0': ['Acido pentadecilico', 'Acido pentadecanoico'],\n",
       " 'C16:0': ['Acido palmitico', 'acido esadecanoico', 'acido palmitico'],\n",
       " 'C17:0': ['Acido margarico', 'acido eptadecanoico', 'acido margarico'],\n",
       " 'C18:0': ['Acido stearico', 'acido ottadecanoico', 'acido stearico'],\n",
       " 'C19:0': ['Acido non-Arcilico', 'Acido non anecanoico'],\n",
       " 'C20:0': ['Acido arachidico', 'Acido eicosanoico', 'acido arachico'],\n",
       " 'C21:0': ['Acido ereicosilico', 'Acido heneicosanoico'],\n",
       " 'C22:0': ['Acido behenico', 'acido docosanoico', 'acido beenico'],\n",
       " 'C23:0': ['Acido tricosilico', 'Acido tricosanoico'],\n",
       " 'C24:0': ['Acido lignocerico', 'Acido tetracosanoico', 'acido lignocerico'],\n",
       " 'C25:0': ['Acido pentacosilico', 'Acido pentacosanoico'],\n",
       " 'C26:0': ['Acido cerotico', 'Acido esacosanoico', 'acido cerotico'],\n",
       " 'C27:0': ['Acido eptacosilico', 'Acido eptacosanoico'],\n",
       " 'C28:0': ['Acido montanico', 'Acido ottacosanoico', 'acido montanico'],\n",
       " 'C29:0': ['Acido nonacosilico', 'Acido nonacosanoico'],\n",
       " 'C30:0': ['Acido melissico', 'Acido triacontanoico', 'acido melissico'],\n",
       " 'C31:0': ['Acido di Henatriacontylic', 'acido di Henatriacontanoic'],\n",
       " 'C32:0': ['Acido laccarico', 'Acido dotriacontanoico', 'acido laceroico'],\n",
       " 'C33:0': ['Acido psilico', 'Acido tritriacontanoico'],\n",
       " 'C34:.0': ['Acido geddico', 'Acido tetratriacontanoico'],\n",
       " 'C14:1': ['acido miristoleico'],\n",
       " 'C16:1': ['acido sapienico', 'acido palmitoleico'],\n",
       " 'C17:1': ['acido eptadecenoico'],\n",
       " 'C18:1': ['acido oleico',\n",
       "  'acido elaidinico',\n",
       "  'acido vaccenicoacido trans-vaccenico',\n",
       "  'acido asclepicoacido cis-vaccenico',\n",
       "  'acido petroselinico',\n",
       "  'acido petroselaidico'],\n",
       " 'C20:1': ['acido gadoleico', 'acido gondoico'],\n",
       " 'C22:1': ['acido cetoleico', 'acido erucico'],\n",
       " 'C24:1': ['acido nervonico'],\n",
       " 'C18:4': ['acido stearidonico'],\n",
       " 'C20:4': ['acido arachidonico'],\n",
       " 'C22:5': ['acido clupanodonico, DPA']}"
      ]
     },
     "execution_count": 12,
     "metadata": {},
     "output_type": "execute_result"
    }
   ],
   "source": [
    "for row in polinsaturi(\"tr\")[1:]:\n",
    "    cols = row(\"td\")\n",
    "    \n",
    "    code = \"C\" + cols[0].get_text().strip()\n",
    "    name = cols[2].get_text().strip()\n",
    "    \n",
    "    if name != \"-\":\n",
    "        dictionary.setdefault(code,[])\n",
    "        dictionary[code].append(name)\n",
    "    \n",
    "dictionary"
   ]
  },
  {
   "cell_type": "code",
   "execution_count": 20,
   "metadata": {},
   "outputs": [],
   "source": [
    "for key,value in dictionary.items():\n",
    "    dictionary[key] = list(set([x.lower().strip() for x in value]))"
   ]
  },
  {
   "cell_type": "code",
   "execution_count": 21,
   "metadata": {},
   "outputs": [],
   "source": [
    "with open(\"fat_code_convesion_ita.json\",\"w\") as f:\n",
    "    json.dump(dictionary,f)"
   ]
  },
  {
   "cell_type": "code",
   "execution_count": 22,
   "metadata": {},
   "outputs": [
    {
     "data": {
      "text/plain": [
       "55"
      ]
     },
     "execution_count": 22,
     "metadata": {},
     "output_type": "execute_result"
    }
   ],
   "source": [
    "len(dictionary)"
   ]
  },
  {
   "cell_type": "code",
   "execution_count": 23,
   "metadata": {},
   "outputs": [
    {
     "data": {
      "text/plain": [
       "[('C10:0', ['acido decanoico', 'acido caprico']),\n",
       " ('C11:0', ['acido undecilico', 'acido undecanoico']),\n",
       " ('C12:0', ['acido laurico', 'acido dodecanoico']),\n",
       " ('C13:0', ['acido tridecanoico', 'acido triglicerico', 'acido tridecilico']),\n",
       " ('C14:0', ['acido miristico', 'acido tetradecanoico']),\n",
       " ('C14:1', ['acido miristoleico']),\n",
       " ('C15:0', ['acido pentadecilico', 'acido pentadecanoico']),\n",
       " ('C16:0', ['acido esadecanoico', 'acido palmitico']),\n",
       " ('C16:1', ['acido sapienico', 'acido palmitoleico']),\n",
       " ('C17:0', ['acido margarico', 'acido eptadecanoico']),\n",
       " ('C17:1', ['acido eptadecenoico']),\n",
       " ('C18:0', ['acido stearico', 'acido ottadecanoico']),\n",
       " ('C18:1',\n",
       "  ['acido petroselaidico',\n",
       "   'acido petroselinico',\n",
       "   'acido elaidinico',\n",
       "   'acido vaccenicoacido trans-vaccenico',\n",
       "   'acido oleico',\n",
       "   'acido asclepicoacido cis-vaccenico']),\n",
       " ('C18:2', ['acido rumenico', 'acido oleico', 'acido linoleico']),\n",
       " ('C18:3',\n",
       "  ['acido α-linolenico',\n",
       "   'acido γ-linolenico',\n",
       "   'acido linolenico',\n",
       "   'acido linoleico']),\n",
       " ('C18:4', ['acido stearidonico']),\n",
       " ('C19:0', ['acido non anecanoico', 'acido non-arcilico']),\n",
       " ('C20:0', ['acido arachico', 'acido eicosanoico', 'acido arachidico']),\n",
       " ('C20:1', ['acido gondoico', 'acido gadoleico']),\n",
       " ('C20:2', ['acido gadoleico']),\n",
       " ('C20:4', ['acido arachidonico']),\n",
       " ('C20:5', ['acido timnodonico, epa', 'acido eicosapentaenoico']),\n",
       " ('C21:0', ['acido heneicosanoico', 'acido ereicosilico']),\n",
       " ('C22:0', ['acido behenico', 'acido docosanoico', 'acido beenico']),\n",
       " ('C22:1', ['acido cetoleico', 'acido erucico']),\n",
       " ('C22:1 undifferentiated', ['acido erucico']),\n",
       " ('C22:5', ['acido clupanodonico, dpa']),\n",
       " ('C22:6',\n",
       "  ['acido decosaesaenoico', 'acido cervonico, dha', 'acido docosaesaenoico']),\n",
       " ('C23:0', ['acido tricosilico', 'acido tricosanoico']),\n",
       " ('C24:0', ['acido lignocerico', 'acido tetracosanoico']),\n",
       " ('C24:1', ['acido nervonico']),\n",
       " ('C24:1 c', ['acido nevronico']),\n",
       " ('C25:0', ['acido pentacosilico', 'acido pentacosanoico']),\n",
       " ('C26:0', ['acido esacosanoico', 'acido cerotico']),\n",
       " ('C27:0', ['acido eptacosanoico', 'acido eptacosilico']),\n",
       " ('C28:0', ['acido montanico', 'acido ottacosanoico']),\n",
       " ('C29:0', ['acido nonacosilico', 'acido nonacosanoico']),\n",
       " ('C30:0', ['acido triacontanoico', 'acido melissico']),\n",
       " ('C31:0', ['acido di henatriacontanoic', 'acido di henatriacontylic']),\n",
       " ('C32:0', ['acido dotriacontanoico', 'acido laccarico', 'acido laceroico']),\n",
       " ('C33:0', ['acido tritriacontanoico', 'acido psilico']),\n",
       " ('C34:.0', ['acido geddico', 'acido tetratriacontanoico']),\n",
       " ('C35:0', ['acido pentatriacontanoico', 'acido ceroplastico']),\n",
       " ('C36:0', ['acido esatriaconilico', 'acido esatriacontanoico']),\n",
       " ('C3:0', ['acido propionico', 'acido propanoico']),\n",
       " ('C4:0', ['acido butanoico', 'acido butirrico']),\n",
       " ('C4:1', ['acido crotonico']),\n",
       " ('C4:2', ['acido aspartico']),\n",
       " ('C5:0',\n",
       "  ['acido valerico', 'acido valerico (valerianico)', 'acido pentanoico']),\n",
       " ('C5:2', ['acido glutammico']),\n",
       " ('C6:0', ['acido capronico', 'acido caproico', 'acido esanoico']),\n",
       " ('C7:0', ['acido eptanoico', 'acido enantico']),\n",
       " ('C8:0', ['acido caprilico', 'acido ottanoico']),\n",
       " ('C9:0', ['acido nonanoico', 'acido pelargonico']),\n",
       " ('C9:1', ['acido pantotenico'])]"
      ]
     },
     "execution_count": 23,
     "metadata": {},
     "output_type": "execute_result"
    }
   ],
   "source": [
    "a = list(dictionary.items())\n",
    "a.sort(key=lambda x: x[0])\n",
    "a"
   ]
  },
  {
   "cell_type": "code",
   "execution_count": null,
   "metadata": {},
   "outputs": [],
   "source": []
  }
 ],
 "metadata": {
  "kernelspec": {
   "display_name": "Python 3",
   "language": "python",
   "name": "python3"
  },
  "language_info": {
   "codemirror_mode": {
    "name": "ipython",
    "version": 3
   },
   "file_extension": ".py",
   "mimetype": "text/x-python",
   "name": "python",
   "nbconvert_exporter": "python",
   "pygments_lexer": "ipython3",
   "version": "3.7.0"
  }
 },
 "nbformat": 4,
 "nbformat_minor": 2
}
