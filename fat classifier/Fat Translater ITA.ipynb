{
 "cells": [
  {
   "cell_type": "code",
   "execution_count": 1,
   "metadata": {},
   "outputs": [],
   "source": [
    "import json\n",
    "import bs4"
   ]
  },
  {
   "cell_type": "code",
   "execution_count": 2,
   "metadata": {},
   "outputs": [],
   "source": [
    "dictionary = {\n",
    "    \"C4:1\":[\"acido crotonico\"],\n",
    "    \"C4:2\":[\"acido aspartico\"],\n",
    "    \"C5:2\":[\"acido glutammico\"],\n",
    "    \"C9:1\":[\"acido pantotenico\"],\n",
    "    \"C13:0\":[\"acido triglicerico\"],\n",
    "    \"C18:2\":[\"acido oleico\"],\n",
    "    \"C18:3\":[\"acido linoleico\"],\n",
    "    \"C20:2\":[\"acido gadoleico\"],\n",
    "    \"C20:5\":[\"acido eicosapentaenoico\"],\n",
    "    \"C22:1 undifferentiated\":[\"acido erucico\"],\n",
    "    \"C22:6\":[\"acido docosaesaenoico\"],\n",
    "    \"C24:1 c\":[\"acido nevronico\"]\n",
    "}"
   ]
  },
  {
   "cell_type": "code",
   "execution_count": 3,
   "metadata": {},
   "outputs": [],
   "source": [
    "with open(\"grassi.html\",\"r\") as f:\n",
    "    html = f.read()"
   ]
  },
  {
   "cell_type": "code",
   "execution_count": 4,
   "metadata": {},
   "outputs": [],
   "source": [
    "soup = bs4.BeautifulSoup(html)\n",
    "tables = soup.find_all(\"table\")"
   ]
  },
  {
   "cell_type": "code",
   "execution_count": 5,
   "metadata": {},
   "outputs": [],
   "source": [
    "saturi = tables[2]"
   ]
  },
  {
   "cell_type": "code",
   "execution_count": 6,
   "metadata": {},
   "outputs": [
    {
     "data": {
      "text/plain": [
       "{'C4:1': ['acido crotonico'],\n",
       " 'C4:2': ['acido aspartico'],\n",
       " 'C5:2': ['acido glutammico'],\n",
       " 'C9:1': ['acido pantotenico'],\n",
       " 'C13:0': ['acido triglicerico'],\n",
       " 'C18:2': ['acido oleico'],\n",
       " 'C18:3': ['acido linoleico'],\n",
       " 'C20:2': ['acido gadoleico'],\n",
       " 'C20:5': ['acido eicosapentaenoico'],\n",
       " 'C22:1 undifferentiated': ['acido erucico'],\n",
       " 'C22:6': ['acido docosaesaenoico'],\n",
       " 'C24:1 c': ['acido nevronico'],\n",
       " 'C4:0': ['acido butirrico'],\n",
       " 'C5:0': ['acido valerico (valerianico)'],\n",
       " 'C6:0': ['acido capronico'],\n",
       " 'C7:0': ['acido enantico'],\n",
       " 'C8:0': ['acido caprilico'],\n",
       " 'C9:0': ['acido pelargonico'],\n",
       " 'C10:0': ['acido caprico'],\n",
       " 'C12:0': ['acido laurico'],\n",
       " 'C14:0': ['acido miristico'],\n",
       " 'C16:0': ['acido palmitico'],\n",
       " 'C17:0': ['acido margarico'],\n",
       " 'C18:0': ['acido stearico'],\n",
       " 'C20:0': ['acido arachico'],\n",
       " 'C22:0': ['acido beenico'],\n",
       " 'C24:0': ['acido lignocerico'],\n",
       " 'C26:0': ['acido cerotico'],\n",
       " 'C28:0': ['acido montanico'],\n",
       " 'C30:0': ['acido melissico'],\n",
       " 'C32:0': ['acido laceroico']}"
      ]
     },
     "execution_count": 6,
     "metadata": {},
     "output_type": "execute_result"
    }
   ],
   "source": [
    "for row in saturi(\"tr\")[1:]:\n",
    "    cols = row(\"td\")\n",
    "    \n",
    "    code = \"C\" + cols[0].get_text().strip()\n",
    "    name = cols[1].get_text().strip()\n",
    "    \n",
    "    if name != \"-\":\n",
    "        dictionary.setdefault(code,[])\n",
    "        dictionary[code].append(name)\n",
    "    \n",
    "dictionary"
   ]
  },
  {
   "cell_type": "code",
   "execution_count": 7,
   "metadata": {},
   "outputs": [],
   "source": [
    "monoinsaturi = tables[4]"
   ]
  },
  {
   "cell_type": "code",
   "execution_count": 8,
   "metadata": {},
   "outputs": [
    {
     "data": {
      "text/plain": [
       "{'C4:1': ['acido crotonico'],\n",
       " 'C4:2': ['acido aspartico'],\n",
       " 'C5:2': ['acido glutammico'],\n",
       " 'C9:1': ['acido pantotenico'],\n",
       " 'C13:0': ['acido triglicerico'],\n",
       " 'C18:2': ['acido oleico'],\n",
       " 'C18:3': ['acido linoleico'],\n",
       " 'C20:2': ['acido gadoleico'],\n",
       " 'C20:5': ['acido eicosapentaenoico'],\n",
       " 'C22:1 undifferentiated': ['acido erucico'],\n",
       " 'C22:6': ['acido docosaesaenoico'],\n",
       " 'C24:1 c': ['acido nevronico'],\n",
       " 'C4:0': ['acido butirrico'],\n",
       " 'C5:0': ['acido valerico (valerianico)'],\n",
       " 'C6:0': ['acido capronico'],\n",
       " 'C7:0': ['acido enantico'],\n",
       " 'C8:0': ['acido caprilico'],\n",
       " 'C9:0': ['acido pelargonico'],\n",
       " 'C10:0': ['acido caprico'],\n",
       " 'C12:0': ['acido laurico'],\n",
       " 'C14:0': ['acido miristico'],\n",
       " 'C16:0': ['acido palmitico'],\n",
       " 'C17:0': ['acido margarico'],\n",
       " 'C18:0': ['acido stearico'],\n",
       " 'C20:0': ['acido arachico'],\n",
       " 'C22:0': ['acido beenico'],\n",
       " 'C24:0': ['acido lignocerico'],\n",
       " 'C26:0': ['acido cerotico'],\n",
       " 'C28:0': ['acido montanico'],\n",
       " 'C30:0': ['acido melissico'],\n",
       " 'C32:0': ['acido laceroico'],\n",
       " 'C14:1': ['acido miristoleico'],\n",
       " 'C16:1': ['acido sapienico', 'acido palmitoleico'],\n",
       " 'C17:1': ['acido eptadecenoico'],\n",
       " 'C18:1': ['acido oleico',\n",
       "  'acido elaidinico',\n",
       "  'acido vaccenicoacido trans-vaccenico',\n",
       "  'acido asclepicoacido cis-vaccenico',\n",
       "  'acido petroselinico',\n",
       "  'acido petroselaidico'],\n",
       " 'C20:1': ['acido gadoleico', 'acido gondoico'],\n",
       " 'C22:1': ['acido cetoleico', 'acido erucico'],\n",
       " 'C24:1': ['acido nervonico']}"
      ]
     },
     "execution_count": 8,
     "metadata": {},
     "output_type": "execute_result"
    }
   ],
   "source": [
    "for row in monoinsaturi(\"tr\")[1:]:\n",
    "    cols = row(\"td\")\n",
    "    \n",
    "    code = \"C\" + cols[0].get_text().strip()\n",
    "    name = cols[2].get_text().strip()\n",
    "    \n",
    "    if name != \"-\":\n",
    "        dictionary.setdefault(code,[])\n",
    "        dictionary[code].append(name)\n",
    "    \n",
    "dictionary"
   ]
  },
  {
   "cell_type": "code",
   "execution_count": 9,
   "metadata": {},
   "outputs": [],
   "source": [
    "polinsaturi = tables[6]"
   ]
  },
  {
   "cell_type": "code",
   "execution_count": 10,
   "metadata": {},
   "outputs": [
    {
     "data": {
      "text/plain": [
       "{'C4:1': ['acido crotonico'],\n",
       " 'C4:2': ['acido aspartico'],\n",
       " 'C5:2': ['acido glutammico'],\n",
       " 'C9:1': ['acido pantotenico'],\n",
       " 'C13:0': ['acido triglicerico'],\n",
       " 'C18:2': ['acido oleico', 'acido linoleico', 'acido rumenico'],\n",
       " 'C18:3': ['acido linoleico', 'acido α-linolenico', 'acido γ-linolenico'],\n",
       " 'C20:2': ['acido gadoleico'],\n",
       " 'C20:5': ['acido eicosapentaenoico', 'acido timnodonico, EPA'],\n",
       " 'C22:1 undifferentiated': ['acido erucico'],\n",
       " 'C22:6': ['acido docosaesaenoico', 'acido cervonico, DHA'],\n",
       " 'C24:1 c': ['acido nevronico'],\n",
       " 'C4:0': ['acido butirrico'],\n",
       " 'C5:0': ['acido valerico (valerianico)'],\n",
       " 'C6:0': ['acido capronico'],\n",
       " 'C7:0': ['acido enantico'],\n",
       " 'C8:0': ['acido caprilico'],\n",
       " 'C9:0': ['acido pelargonico'],\n",
       " 'C10:0': ['acido caprico'],\n",
       " 'C12:0': ['acido laurico'],\n",
       " 'C14:0': ['acido miristico'],\n",
       " 'C16:0': ['acido palmitico'],\n",
       " 'C17:0': ['acido margarico'],\n",
       " 'C18:0': ['acido stearico'],\n",
       " 'C20:0': ['acido arachico'],\n",
       " 'C22:0': ['acido beenico'],\n",
       " 'C24:0': ['acido lignocerico'],\n",
       " 'C26:0': ['acido cerotico'],\n",
       " 'C28:0': ['acido montanico'],\n",
       " 'C30:0': ['acido melissico'],\n",
       " 'C32:0': ['acido laceroico'],\n",
       " 'C14:1': ['acido miristoleico'],\n",
       " 'C16:1': ['acido sapienico', 'acido palmitoleico'],\n",
       " 'C17:1': ['acido eptadecenoico'],\n",
       " 'C18:1': ['acido oleico',\n",
       "  'acido elaidinico',\n",
       "  'acido vaccenicoacido trans-vaccenico',\n",
       "  'acido asclepicoacido cis-vaccenico',\n",
       "  'acido petroselinico',\n",
       "  'acido petroselaidico'],\n",
       " 'C20:1': ['acido gadoleico', 'acido gondoico'],\n",
       " 'C22:1': ['acido cetoleico', 'acido erucico'],\n",
       " 'C24:1': ['acido nervonico'],\n",
       " 'C18:4': ['acido stearidonico'],\n",
       " 'C20:4': ['acido arachidonico'],\n",
       " 'C22:5': ['acido clupanodonico, DPA']}"
      ]
     },
     "execution_count": 10,
     "metadata": {},
     "output_type": "execute_result"
    }
   ],
   "source": [
    "for row in polinsaturi(\"tr\")[1:]:\n",
    "    cols = row(\"td\")\n",
    "    \n",
    "    code = \"C\" + cols[0].get_text().strip()\n",
    "    name = cols[2].get_text().strip()\n",
    "    \n",
    "    if name != \"-\":\n",
    "        dictionary.setdefault(code,[])\n",
    "        dictionary[code].append(name)\n",
    "    \n",
    "dictionary"
   ]
  },
  {
   "cell_type": "code",
   "execution_count": 11,
   "metadata": {},
   "outputs": [],
   "source": [
    "with open(\"fat_code_convesion_ita.json\",\"w\") as f:\n",
    "    json.dump(dictionary,f)"
   ]
  },
  {
   "cell_type": "code",
   "execution_count": 12,
   "metadata": {},
   "outputs": [
    {
     "data": {
      "text/plain": [
       "41"
      ]
     },
     "execution_count": 12,
     "metadata": {},
     "output_type": "execute_result"
    }
   ],
   "source": [
    "len(dictionary)"
   ]
  },
  {
   "cell_type": "code",
   "execution_count": null,
   "metadata": {},
   "outputs": [],
   "source": []
  }
 ],
 "metadata": {
  "kernelspec": {
   "display_name": "Python 3",
   "language": "python",
   "name": "python3"
  },
  "language_info": {
   "codemirror_mode": {
    "name": "ipython",
    "version": 3
   },
   "file_extension": ".py",
   "mimetype": "text/x-python",
   "name": "python",
   "nbconvert_exporter": "python",
   "pygments_lexer": "ipython3",
   "version": "3.7.0"
  }
 },
 "nbformat": 4,
 "nbformat_minor": 2
}
