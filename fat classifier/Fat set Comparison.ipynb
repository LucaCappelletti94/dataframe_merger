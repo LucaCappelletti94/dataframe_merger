{
 "cells": [
  {
   "cell_type": "code",
   "execution_count": 1,
   "metadata": {},
   "outputs": [],
   "source": [
    "import json"
   ]
  },
  {
   "cell_type": "code",
   "execution_count": 2,
   "metadata": {},
   "outputs": [],
   "source": [
    "with open(\"fat_code_convesion_eng.json\",\"r\") as f:\n",
    "    eng = json.load(f)"
   ]
  },
  {
   "cell_type": "code",
   "execution_count": 3,
   "metadata": {},
   "outputs": [],
   "source": [
    "with open(\"fat_code_convesion_ita.json\",\"r\") as f:\n",
    "    ita = json.load(f)"
   ]
  },
  {
   "cell_type": "code",
   "execution_count": 4,
   "metadata": {},
   "outputs": [
    {
     "data": {
      "text/plain": [
       "dict_keys(['C4:1', 'C4:2', 'C5:2', 'C9:1', 'C17:1', 'C18:2', 'C18:3', 'C20:2', 'C20:5', 'C22:5', 'C22:6', 'C3:0', 'C4:0', 'C5:0', 'C6:0', 'C7:0', 'C8:0', 'C9:0', 'C10:0', 'C11:0', 'C12:0', 'C13:0', 'C14:0', 'C15:0', 'C16:0', 'C17:0', 'C18:0', 'C19:0', 'C20:0', 'C21:0', 'C22:0', 'C23:0', 'C24:0', 'C25:0', 'C26:0', 'C27:0', 'C28:0', 'C29:0', 'C30:0', 'C31:0', 'C32:0', 'C33:0', 'C34:0', 'C35:0', 'C36:0', 'C37:0', 'C38:0', 'C18:4', 'C20:3', 'C20:4', 'C22:4', 'C16:1', 'C18:1', 'C20:1', 'C22:1', 'C24:1', 'C14:1', 'C16:1 undifferentiated', 'C18:1 undifferentiated', 'C22:1 undifferentiated', 'C24:1 c', 'C18:2 undifferentiated', 'C18:3 undifferentiated', 'C18:3 n-3 c,c,c', 'C18:3 n-6 c,c,c', 'C18:4 undifferentiated', 'C20:4 undifferentiated', 'C20:5 n-3', 'C22:2', 'C22:5 n-3'])"
      ]
     },
     "execution_count": 4,
     "metadata": {},
     "output_type": "execute_result"
    }
   ],
   "source": [
    "eng.keys()"
   ]
  },
  {
   "cell_type": "code",
   "execution_count": 5,
   "metadata": {},
   "outputs": [
    {
     "data": {
      "text/plain": [
       "dict_keys(['C4:1', 'C4:2', 'C5:2', 'C9:1', 'C13:0', 'C18:2', 'C18:3', 'C20:2', 'C20:5', 'C22:1 undifferentiated', 'C22:6', 'C24:1 c', 'C4:0', 'C5:0', 'C6:0', 'C7:0', 'C8:0', 'C9:0', 'C10:0', 'C12:0', 'C14:0', 'C16:0', 'C17:0', 'C18:0', 'C20:0', 'C22:0', 'C24:0', 'C26:0', 'C28:0', 'C30:0', 'C32:0', 'C14:1', 'C16:1', 'C17:1', 'C18:1', 'C20:1', 'C22:1', 'C24:1', 'C18:4', 'C20:4', 'C22:5'])"
      ]
     },
     "execution_count": 5,
     "metadata": {},
     "output_type": "execute_result"
    }
   ],
   "source": [
    "ita.keys()"
   ]
  },
  {
   "cell_type": "code",
   "execution_count": 6,
   "metadata": {},
   "outputs": [],
   "source": [
    "intersezione = eng.keys() & ita.keys()"
   ]
  },
  {
   "cell_type": "code",
   "execution_count": 7,
   "metadata": {},
   "outputs": [
    {
     "name": "stdout",
     "output_type": "stream",
     "text": [
      "Grassi che mancano nel set inglese\n"
     ]
    },
    {
     "data": {
      "text/plain": [
       "set()"
      ]
     },
     "execution_count": 7,
     "metadata": {},
     "output_type": "execute_result"
    }
   ],
   "source": [
    "print(\"Grassi che mancano nel set inglese\")\n",
    "ita.keys() - intersezione"
   ]
  },
  {
   "cell_type": "code",
   "execution_count": 8,
   "metadata": {},
   "outputs": [
    {
     "name": "stdout",
     "output_type": "stream",
     "text": [
      "Grassi che mancano nel set italiano\n"
     ]
    },
    {
     "data": {
      "text/plain": [
       "{'C11:0',\n",
       " 'C15:0',\n",
       " 'C16:1 undifferentiated',\n",
       " 'C18:1 undifferentiated',\n",
       " 'C18:2 undifferentiated',\n",
       " 'C18:3 n-3 c,c,c',\n",
       " 'C18:3 n-6 c,c,c',\n",
       " 'C18:3 undifferentiated',\n",
       " 'C18:4 undifferentiated',\n",
       " 'C19:0',\n",
       " 'C20:3',\n",
       " 'C20:4 undifferentiated',\n",
       " 'C20:5 n-3',\n",
       " 'C21:0',\n",
       " 'C22:2',\n",
       " 'C22:4',\n",
       " 'C22:5 n-3',\n",
       " 'C23:0',\n",
       " 'C25:0',\n",
       " 'C27:0',\n",
       " 'C29:0',\n",
       " 'C31:0',\n",
       " 'C33:0',\n",
       " 'C34:0',\n",
       " 'C35:0',\n",
       " 'C36:0',\n",
       " 'C37:0',\n",
       " 'C38:0',\n",
       " 'C3:0'}"
      ]
     },
     "execution_count": 8,
     "metadata": {},
     "output_type": "execute_result"
    }
   ],
   "source": [
    "print(\"Grassi che mancano nel set italiano\")\n",
    "missing = eng.keys() - intersezione\n",
    "missing"
   ]
  },
  {
   "cell_type": "code",
   "execution_count": 9,
   "metadata": {},
   "outputs": [
    {
     "name": "stdout",
     "output_type": "stream",
     "text": [
      "C35:0\t['ceroplastic acid']\n",
      "C18:3 n-3 c,c,c\t['alpha-linolenic acid']\n",
      "C23:0\t['tricosylic acid']\n",
      "C25:0\t['pentacosylic acid']\n",
      "C34:0\t['geddic acid']\n",
      "C18:3 n-6 c,c,c\t['gamma-linolenic acid']\n",
      "C15:0\t['pentadecylic acid']\n",
      "C37:0\t['heptatriacontanoic acid']\n",
      "C22:2\t['brassic acid']\n",
      "C33:0\t['psyllic acid']\n",
      "C38:0\t['octatriacontanoic acid']\n",
      "C36:0\t['hexatriacontylic acid']\n",
      "C22:5 n-3\t['clupanodonic acid']\n",
      "C16:1 undifferentiated\t['palmitoleic acid']\n",
      "C21:0\t['heneicosylic acid']\n",
      "C31:0\t['henatriacontylic acid']\n",
      "C22:4\t['docosatetraenoic acid']\n",
      "C18:4 undifferentiated\t['parinaric acid']\n",
      "C11:0\t['undecylic acid']\n",
      "C27:0\t['heptacosylic acid']\n",
      "C18:2 undifferentiated\t['linoleic acid']\n",
      "C20:4 undifferentiated\t['arachidonic acid']\n",
      "C20:3\t['dihomo-γ-linolenic acid', 'mead acid']\n",
      "C3:0\t['propionic acid']\n",
      "C20:5 n-3\t['timnodonic acid']\n",
      "C18:1 undifferentiated\t['oleic acid']\n",
      "C18:3 undifferentiated\t['linolenic acid']\n",
      "C19:0\t['nonadecylic acid']\n",
      "C29:0\t['nonacosylic acid']\n"
     ]
    }
   ],
   "source": [
    "for key in missing:\n",
    "    print(\"%s\\t%s\"%(key,eng[key]))"
   ]
  },
  {
   "cell_type": "code",
   "execution_count": null,
   "metadata": {},
   "outputs": [],
   "source": []
  }
 ],
 "metadata": {
  "kernelspec": {
   "display_name": "Python 3",
   "language": "python",
   "name": "python3"
  },
  "language_info": {
   "codemirror_mode": {
    "name": "ipython",
    "version": 3
   },
   "file_extension": ".py",
   "mimetype": "text/x-python",
   "name": "python",
   "nbconvert_exporter": "python",
   "pygments_lexer": "ipython3",
   "version": "3.7.0"
  }
 },
 "nbformat": 4,
 "nbformat_minor": 2
}
