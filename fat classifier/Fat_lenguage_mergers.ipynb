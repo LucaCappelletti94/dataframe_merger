{
 "cells": [
  {
   "cell_type": "code",
   "execution_count": 1,
   "metadata": {},
   "outputs": [],
   "source": [
    "import json"
   ]
  },
  {
   "cell_type": "code",
   "execution_count": 2,
   "metadata": {},
   "outputs": [],
   "source": [
    "with open(\"fat_code_convesion_eng.json\",\"r\") as f:\n",
    "    eng = json.load(f)"
   ]
  },
  {
   "cell_type": "code",
   "execution_count": 3,
   "metadata": {},
   "outputs": [],
   "source": [
    "with open(\"fat_code_convesion_ita.json\",\"r\") as f:\n",
    "    ita = json.load(f)"
   ]
  },
  {
   "cell_type": "code",
   "execution_count": 4,
   "metadata": {},
   "outputs": [],
   "source": [
    "merged = {}"
   ]
  },
  {
   "cell_type": "code",
   "execution_count": 5,
   "metadata": {},
   "outputs": [],
   "source": [
    "for key, value in eng.items():\n",
    "    merged.setdefault(key,{\"eng\":[],\"ita\":[]})\n",
    "    merged[key][\"eng\"] = value"
   ]
  },
  {
   "cell_type": "code",
   "execution_count": 6,
   "metadata": {},
   "outputs": [
    {
     "data": {
      "text/plain": [
       "{'C4:1': {'eng': ['crotonic acid'], 'ita': []},\n",
       " 'C4:2': {'eng': ['aspartic acid'], 'ita': []},\n",
       " 'C5:2': {'eng': ['glutamic acid'], 'ita': []},\n",
       " 'C9:1': {'eng': ['pantothenic acid'], 'ita': []},\n",
       " 'C17:1': {'eng': ['eptadecenoic acid'], 'ita': []},\n",
       " 'C18:2': {'eng': ['oleic acid', 'linoleic acid', 'linolelaidic acid'],\n",
       "  'ita': []},\n",
       " 'C18:3': {'eng': ['linoleic acid', 'α-linolenic acid', 'γ-linolenic acid'],\n",
       "  'ita': []},\n",
       " 'C20:2': {'eng': ['gadoleic acid'], 'ita': []},\n",
       " 'C20:5': {'eng': ['eicosapentaenoic acid', 'eicosapentaenoic acid'],\n",
       "  'ita': []},\n",
       " 'C22:5': {'eng': ['docosapentaenoic acid'], 'ita': []},\n",
       " 'C22:6': {'eng': ['docosahexaenoic acid', 'docosahexaenoic acid'], 'ita': []},\n",
       " 'C3:0': {'eng': ['propionic acid'], 'ita': []},\n",
       " 'C4:0': {'eng': ['butyric acid'], 'ita': []},\n",
       " 'C5:0': {'eng': ['valeric acid'], 'ita': []},\n",
       " 'C6:0': {'eng': ['caproic acid'], 'ita': []},\n",
       " 'C7:0': {'eng': ['enanthic acid'], 'ita': []},\n",
       " 'C8:0': {'eng': ['caprylic acid'], 'ita': []},\n",
       " 'C9:0': {'eng': ['pelargonic acid'], 'ita': []},\n",
       " 'C10:0': {'eng': ['capric acid'], 'ita': []},\n",
       " 'C11:0': {'eng': ['undecylic acid'], 'ita': []},\n",
       " 'C12:0': {'eng': ['lauric acid'], 'ita': []},\n",
       " 'C13:0': {'eng': ['tridecylic acid'], 'ita': []},\n",
       " 'C14:0': {'eng': ['myristic acid'], 'ita': []},\n",
       " 'C15:0': {'eng': ['pentadecylic acid'], 'ita': []},\n",
       " 'C16:0': {'eng': ['palmitic acid'], 'ita': []},\n",
       " 'C17:0': {'eng': ['margaric acid'], 'ita': []},\n",
       " 'C18:0': {'eng': ['stearic acid'], 'ita': []},\n",
       " 'C19:0': {'eng': ['nonadecylic acid'], 'ita': []},\n",
       " 'C20:0': {'eng': ['arachidic acid'], 'ita': []},\n",
       " 'C21:0': {'eng': ['heneicosylic acid'], 'ita': []},\n",
       " 'C22:0': {'eng': ['behenic acid'], 'ita': []},\n",
       " 'C23:0': {'eng': ['tricosylic acid'], 'ita': []},\n",
       " 'C24:0': {'eng': ['lignoceric acid'], 'ita': []},\n",
       " 'C25:0': {'eng': ['pentacosylic acid'], 'ita': []},\n",
       " 'C26:0': {'eng': ['cerotic acid'], 'ita': []},\n",
       " 'C27:0': {'eng': ['heptacosylic acid'], 'ita': []},\n",
       " 'C28:0': {'eng': ['montanic acid'], 'ita': []},\n",
       " 'C29:0': {'eng': ['nonacosylic acid'], 'ita': []},\n",
       " 'C30:0': {'eng': ['melissic acid'], 'ita': []},\n",
       " 'C31:0': {'eng': ['henatriacontylic acid'], 'ita': []},\n",
       " 'C32:0': {'eng': ['lacceroic acid'], 'ita': []},\n",
       " 'C33:0': {'eng': ['psyllic acid'], 'ita': []},\n",
       " 'C34:0': {'eng': ['geddic acid'], 'ita': []},\n",
       " 'C35:0': {'eng': ['ceroplastic acid'], 'ita': []},\n",
       " 'C36:0': {'eng': ['hexatriacontylic acid'], 'ita': []},\n",
       " 'C37:0': {'eng': ['heptatriacontanoic acid'], 'ita': []},\n",
       " 'C38:0': {'eng': ['octatriacontanoic acid'], 'ita': []},\n",
       " 'C18:4': {'eng': ['stearidonic acid'], 'ita': []},\n",
       " 'C20:3': {'eng': ['dihomo-γ-linolenic acid', 'mead acid'], 'ita': []},\n",
       " 'C20:4': {'eng': ['arachidonic acid'], 'ita': []},\n",
       " 'C22:4': {'eng': ['docosatetraenoic acid'], 'ita': []},\n",
       " 'C16:1': {'eng': ['palmitoleic acid'], 'ita': []},\n",
       " 'C18:1': {'eng': ['vaccenic acid', 'oleic acid', 'elaidic acid'], 'ita': []},\n",
       " 'C20:1': {'eng': ['paullinic acid', 'gondoic acid'], 'ita': []},\n",
       " 'C22:1': {'eng': ['erucic acid'], 'ita': []},\n",
       " 'C24:1': {'eng': ['nervonic acid'], 'ita': []},\n",
       " 'C14:1': {'eng': ['myristoleic acid'], 'ita': []},\n",
       " 'C16:1 undifferentiated': {'eng': ['palmitoleic acid'], 'ita': []},\n",
       " 'C18:1 undifferentiated': {'eng': ['oleic acid'], 'ita': []},\n",
       " 'C22:1 undifferentiated': {'eng': ['erucic acid'], 'ita': []},\n",
       " 'C24:1 c': {'eng': ['nervonic acid'], 'ita': []},\n",
       " 'C18:2 undifferentiated': {'eng': ['linoleic acid'], 'ita': []},\n",
       " 'C18:3 undifferentiated': {'eng': ['linolenic acid'], 'ita': []},\n",
       " 'C18:3 n-3 c,c,c': {'eng': ['alpha-linolenic acid'], 'ita': []},\n",
       " 'C18:3 n-6 c,c,c': {'eng': ['gamma-linolenic acid'], 'ita': []},\n",
       " 'C18:4 undifferentiated': {'eng': ['parinaric acid'], 'ita': []},\n",
       " 'C20:4 undifferentiated': {'eng': ['arachidonic acid'], 'ita': []},\n",
       " 'C20:5 n-3': {'eng': ['timnodonic acid'], 'ita': []},\n",
       " 'C22:2': {'eng': ['brassic acid'], 'ita': []},\n",
       " 'C22:5 n-3': {'eng': ['clupanodonic acid'], 'ita': []}}"
      ]
     },
     "execution_count": 6,
     "metadata": {},
     "output_type": "execute_result"
    }
   ],
   "source": [
    "for key, value in eng.items():\n",
    "    merged.setdefault(key,{\"eng\":[],\"ita\":[]})\n",
    "    merged[key][\"ita\"] = value"
   ]
  },
  {
   "cell_type": "code",
   "execution_count": null,
   "metadata": {},
   "outputs": [],
   "source": []
  }
 ],
 "metadata": {
  "kernelspec": {
   "display_name": "Python 3",
   "language": "python",
   "name": "python3"
  },
  "language_info": {
   "codemirror_mode": {
    "name": "ipython",
    "version": 3
   },
   "file_extension": ".py",
   "mimetype": "text/x-python",
   "name": "python",
   "nbconvert_exporter": "python",
   "pygments_lexer": "ipython3",
   "version": "3.7.0"
  }
 },
 "nbformat": 4,
 "nbformat_minor": 2
}
