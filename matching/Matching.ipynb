{
 "cells": [
  {
   "cell_type": "code",
   "execution_count": 1,
   "metadata": {},
   "outputs": [],
   "source": [
    "import os\n",
    "import numpy as np\n",
    "import pandas as pd\n",
    "from sklearn.feature_extraction.text import TfidfVectorizer\n",
    "from sklearn.metrics.pairwise import euclidean_distances\n",
    "from pyscipopt import Model, quicksum\n",
    "from tqdm import tqdm_notebook as tqdm"
   ]
  },
  {
   "cell_type": "code",
   "execution_count": 2,
   "metadata": {},
   "outputs": [],
   "source": [
    "def tfidf_distance(corpus, A, B):\n",
    "    vectorizer = TfidfVectorizer()\n",
    "    vectorizer.fit(corpus)\n",
    "    X = vectorizer.transform(A)\n",
    "    Y = vectorizer.transform(B)\n",
    "\n",
    "    return euclidean_distances(X, Y)"
   ]
  },
  {
   "cell_type": "code",
   "execution_count": 3,
   "metadata": {},
   "outputs": [],
   "source": [
    "def pairwise_matrix_sum(A, B):\n",
    "    return np.nansum(\n",
    "        [A.reshape(A.shape[0], 1, A.shape[1]),\n",
    "         B.reshape(1, *B.shape)], axis=0)\n",
    "\n",
    "\n",
    "def pairwise_vector_sum(A, B):\n",
    "    return np.nansum([A.reshape(-1, 1), B], axis=0)"
   ]
  },
  {
   "cell_type": "code",
   "execution_count": 4,
   "metadata": {},
   "outputs": [],
   "source": [
    "def weighted_mse(A, B):\n",
    "    normalization = pairwise_matrix_sum(A, B)\n",
    "    difference = np.abs(pairwise_matrix_sum(A, -B))\n",
    "    mask = np.logical_or(np.isnan(normalization), normalization == 0)\n",
    "    return np.nanmean(np.divide(difference, normalization, where=~mask), axis=2)"
   ]
  },
  {
   "cell_type": "code",
   "execution_count": 5,
   "metadata": {},
   "outputs": [],
   "source": [
    "def mean_variation(A, B):\n",
    "    X, Y = np.nanmean(A, axis=0), np.nanmean(B, axis=0)\n",
    "    N, M = np.sum(pd.notna(A), axis=0), np.sum(pd.notna(B), axis=0)\n",
    "    mean_delta = pairwise_vector_sum(X, -Y)\n",
    "    size_delta = pairwise_vector_sum(N, -M)\n",
    "    size_sums = pairwise_vector_sum(N, M)\n",
    "    return np.abs((mean_delta*size_delta)/size_sums)"
   ]
  },
  {
   "cell_type": "code",
   "execution_count": 6,
   "metadata": {},
   "outputs": [],
   "source": [
    "def filter_float(df):\n",
    "    return df[[\n",
    "        value.tolist()\n",
    "        for key, value in df.columns.to_series().groupby(df.dtypes).groups.items()\n",
    "        if \"float\" in key.name\n",
    "    ][0]]"
   ]
  },
  {
   "cell_type": "code",
   "execution_count": 7,
   "metadata": {},
   "outputs": [],
   "source": [
    "def tuple_argmin(A, size, axis):\n",
    "    return np.stack([\n",
    "        np.arange(size),\n",
    "        np.nanargmin(A, axis=axis)\n",
    "    ]).T    "
   ]
  },
  {
   "cell_type": "raw",
   "metadata": {},
   "source": [
    "r = np.stack([\n",
    "    np.arange(distance.shape[0]),\n",
    "    np.nanargmin(distance, axis=1)\n",
    "]).T \n",
    "c = np.stack([\n",
    "    np.nanargmin(distance, axis=0),\n",
    "    np.arange(distance.shape[1])\n",
    "]).T\n",
    "matches = c[np.all(r[c[:,0]] == c, axis=1)]\n",
    "return list(\n",
    "    zip(float_A.columns[matches[:, 0]], float_B.columns[matches[:, 1]]))"
   ]
  },
  {
   "cell_type": "code",
   "execution_count": 59,
   "metadata": {},
   "outputs": [],
   "source": [
    "def distance(corpus, A, B, alpha=1):\n",
    "    float_A = filter_float(A)\n",
    "    float_B = filter_float(B)\n",
    "    tfidf = tfidf_distance(corpus, float_A.columns, float_B.columns)\n",
    "    mean = mean_variation(np.array(float_A), np.array(float_B))\n",
    "    tmp =  alpha * tfidf / np.nanmax(tfidf) + (1 - alpha) * mean / np.nanmax(mean)\n",
    "    tmp[np.isnan(tmp)] = np.inf\n",
    "    return tmp"
   ]
  },
  {
   "cell_type": "code",
   "execution_count": 60,
   "metadata": {},
   "outputs": [],
   "source": [
    "def distances(dataframes):\n",
    "    corpus = [c for df in dataframes for c in df.columns]\n",
    "    return [[\n",
    "        distance(corpus, df1, df2) if i != j else None for j, df2 in enumerate(dataframes)\n",
    "        \n",
    "    ] for i, df1 in enumerate(dataframes)]"
   ]
  },
  {
   "cell_type": "markdown",
   "metadata": {},
   "source": [
    "$$\n",
    "\\begin{align*}\n",
    "  \\min f_{1} = \\sum_{r=1}^M \\sum_{\\substack{s=1                                                                                                                                                                                                                   \\\\ s\\neq r}}^{M} \\sum_{i=1}^{N_{r}} \\sum_{j=1}^{N_{s}} c_{risj} e_{risj} \\\\\n",
    "  \\max f_{2} = \\sum_{r=1}^M \\sum_{\\substack{s=1                                                                                                                                                                                                                   \\\\ s\\neq r}}^{M} \\sum_{i=1}^{N_{r}} \\sum_{j=1}^{N_{s}} e_{risj}\\\\\n",
    "  \\underbrace{e_{risj} - e_{sjri} = 0}_{\\text{For simmetry.}}                 & \\quad \\forall r, s \\in \\{1, \\ldots, M\\}: r \\neq s\\; \\forall i \\in \\{1, \\ldots, N_r\\}\\; \\forall j \\in \\{1, \\ldots, N_s\\}                                                           \\\\\n",
    "  \\underbrace{e_{risj} + e_{sjtk} - 2e_{ritk} = 0}_{\\text{For transitivity.}} & \\quad \\forall r, s, t \\in \\{1, \\ldots, M\\}: r \\neq s, r \\neq t, t \\neq s\\; \\forall i \\in \\{1, \\ldots, N_r\\}\\; \\forall j \\in \\{1, \\ldots, N_s\\}\\; \\forall k \\in \\{1, \\ldots, N_k\\} \\\\\n",
    "  e_{risj}                                                                    & \\in \\{0,1\\}                                                                                                                                                                       \\\\\n",
    "  c_{risj}                                                                    & \\in [0,1]                                                                                                                                                                         \\\\\n",
    "\\end{align*}\n",
    "$$"
   ]
  },
  {
   "cell_type": "code",
   "execution_count": 30,
   "metadata": {},
   "outputs": [],
   "source": [
    "def matching(costs, columns_sizes, alpha):\n",
    "    model = Model(\"Multi dimensional matching.\")\n",
    "    M = len(costs)\n",
    "    print(\"Adding variables to model\")\n",
    "    e = {(r, i, s, j): model.addVar(\n",
    "        vtype=\"B\", name=\"e({r},{i},{s},{j})\".format(r=r, s=s, i=i, j=j))\n",
    "         for r in tqdm(range(M)) for s in range(M) if s != r\n",
    "         for i in range(columns_sizes[r]) for j in range(columns_sizes[s])}\n",
    "\n",
    "    print(\"Adding simmetry constraints\")\n",
    "    for r in tqdm(range(M)):\n",
    "        for s in range(M):\n",
    "            if s != r:\n",
    "                for i in range(columns_sizes[r]):\n",
    "                    for j in range(columns_sizes[s]):\n",
    "                        model.addCons(\n",
    "                            e[r, i, s, j] - e[s, j, r, i] == 0,\n",
    "                            \"Simmetry({r},{i},{s},{j})\".format(\n",
    "                                r=r, s=s, i=i, j=j))\n",
    "\n",
    "    print(\"Adding transitivity constraints\")\n",
    "    for r in tqdm(range(M)):\n",
    "        for s in tqdm(range(M), leave=False):\n",
    "            for t in tqdm(range(M), leave=False):\n",
    "                for i in range(columns_sizes[r]):\n",
    "                    for j in range(columns_sizes[s]):\n",
    "                        for k in range(columns_sizes[t]):\n",
    "                            if t == s == r or i==j==k:\n",
    "                                continue\n",
    "                            e1 = e2 = e3 = 0\n",
    "                            if s != r and i!=j:\n",
    "                                e1 = e[r, i, s, j]\n",
    "                            if t != s and j!=k:\n",
    "                                e2 = e[s, j, t, k]\n",
    "                            if t != r and i != k:\n",
    "                                e3 = e[r, i, t, k]\n",
    "                            model.addCons(\n",
    "                                e1 + e2 - 2 * e3 == 0,\n",
    "                                \"Transitivity({r},{i},{s},{j},{t},{k})\".format(\n",
    "                                    r=r, s=s, t=t, i=i, j=j, k=k))\n",
    "\n",
    "    print(\"Adding objective function\")\n",
    "    model.setObjective(\n",
    "        quicksum((alpha - (1 - alpha) * costs[r][s][i, j]) * e[r, i, s, j]\n",
    "                 for r in tqdm(range(M)) for s in range(M) if s != r\n",
    "                 for i in range(columns_sizes[r])\n",
    "                 for j in range(columns_sizes[s])), \"maximize\")\n",
    "    model.data = e\n",
    "    return model"
   ]
  },
  {
   "cell_type": "code",
   "execution_count": 49,
   "metadata": {},
   "outputs": [],
   "source": [
    "path = \"../sanitized_csv/\"\n",
    "csvs = [\n",
    "    csv\n",
    "    for path, dirs, csvs in os.walk(path)\n",
    "    for csv in csvs\n",
    "]\n",
    "dataframes = [\n",
    "    pd.read_csv(\"{path}/{csv}\".format(path=path, csv=csv))\n",
    "    for csv in csvs[:3]\n",
    "]"
   ]
  },
  {
   "cell_type": "code",
   "execution_count": 50,
   "metadata": {},
   "outputs": [],
   "source": [
    "columns_sizes = [filter_float(df).shape[1] for df in dataframes]"
   ]
  },
  {
   "cell_type": "code",
   "execution_count": 61,
   "metadata": {},
   "outputs": [
    {
     "name": "stdout",
     "output_type": "stream",
     "text": [
      "Adding variables to model\n"
     ]
    },
    {
     "data": {
      "application/vnd.jupyter.widget-view+json": {
       "model_id": "62365a4bc8b04c608c6a7b8e8e0c0124",
       "version_major": 2,
       "version_minor": 0
      },
      "text/plain": [
       "HBox(children=(IntProgress(value=0, max=3), HTML(value='')))"
      ]
     },
     "metadata": {},
     "output_type": "display_data"
    },
    {
     "name": "stdout",
     "output_type": "stream",
     "text": [
      "\n",
      "Adding simmetry constraints\n"
     ]
    },
    {
     "data": {
      "application/vnd.jupyter.widget-view+json": {
       "model_id": "092e2d38ec264377b36a59239ca2dd4d",
       "version_major": 2,
       "version_minor": 0
      },
      "text/plain": [
       "HBox(children=(IntProgress(value=0, max=3), HTML(value='')))"
      ]
     },
     "metadata": {},
     "output_type": "display_data"
    },
    {
     "name": "stdout",
     "output_type": "stream",
     "text": [
      "\n",
      "Adding transitivity constraints\n"
     ]
    },
    {
     "data": {
      "application/vnd.jupyter.widget-view+json": {
       "model_id": "60654902bc51462b8d3314377a3e9a6c",
       "version_major": 2,
       "version_minor": 0
      },
      "text/plain": [
       "HBox(children=(IntProgress(value=0, max=3), HTML(value='')))"
      ]
     },
     "metadata": {},
     "output_type": "display_data"
    },
    {
     "data": {
      "application/vnd.jupyter.widget-view+json": {
       "model_id": "",
       "version_major": 2,
       "version_minor": 0
      },
      "text/plain": [
       "HBox(children=(IntProgress(value=0, max=3), HTML(value='')))"
      ]
     },
     "metadata": {},
     "output_type": "display_data"
    },
    {
     "data": {
      "application/vnd.jupyter.widget-view+json": {
       "model_id": "",
       "version_major": 2,
       "version_minor": 0
      },
      "text/plain": [
       "HBox(children=(IntProgress(value=0, max=3), HTML(value='')))"
      ]
     },
     "metadata": {},
     "output_type": "display_data"
    },
    {
     "data": {
      "application/vnd.jupyter.widget-view+json": {
       "model_id": "",
       "version_major": 2,
       "version_minor": 0
      },
      "text/plain": [
       "HBox(children=(IntProgress(value=0, max=3), HTML(value='')))"
      ]
     },
     "metadata": {},
     "output_type": "display_data"
    },
    {
     "data": {
      "application/vnd.jupyter.widget-view+json": {
       "model_id": "",
       "version_major": 2,
       "version_minor": 0
      },
      "text/plain": [
       "HBox(children=(IntProgress(value=0, max=3), HTML(value='')))"
      ]
     },
     "metadata": {},
     "output_type": "display_data"
    },
    {
     "data": {
      "application/vnd.jupyter.widget-view+json": {
       "model_id": "",
       "version_major": 2,
       "version_minor": 0
      },
      "text/plain": [
       "HBox(children=(IntProgress(value=0, max=3), HTML(value='')))"
      ]
     },
     "metadata": {},
     "output_type": "display_data"
    },
    {
     "data": {
      "application/vnd.jupyter.widget-view+json": {
       "model_id": "",
       "version_major": 2,
       "version_minor": 0
      },
      "text/plain": [
       "HBox(children=(IntProgress(value=0, max=3), HTML(value='')))"
      ]
     },
     "metadata": {},
     "output_type": "display_data"
    },
    {
     "data": {
      "application/vnd.jupyter.widget-view+json": {
       "model_id": "",
       "version_major": 2,
       "version_minor": 0
      },
      "text/plain": [
       "HBox(children=(IntProgress(value=0, max=3), HTML(value='')))"
      ]
     },
     "metadata": {},
     "output_type": "display_data"
    },
    {
     "data": {
      "application/vnd.jupyter.widget-view+json": {
       "model_id": "",
       "version_major": 2,
       "version_minor": 0
      },
      "text/plain": [
       "HBox(children=(IntProgress(value=0, max=3), HTML(value='')))"
      ]
     },
     "metadata": {},
     "output_type": "display_data"
    },
    {
     "data": {
      "application/vnd.jupyter.widget-view+json": {
       "model_id": "",
       "version_major": 2,
       "version_minor": 0
      },
      "text/plain": [
       "HBox(children=(IntProgress(value=0, max=3), HTML(value='')))"
      ]
     },
     "metadata": {},
     "output_type": "display_data"
    },
    {
     "data": {
      "application/vnd.jupyter.widget-view+json": {
       "model_id": "",
       "version_major": 2,
       "version_minor": 0
      },
      "text/plain": [
       "HBox(children=(IntProgress(value=0, max=3), HTML(value='')))"
      ]
     },
     "metadata": {},
     "output_type": "display_data"
    },
    {
     "data": {
      "application/vnd.jupyter.widget-view+json": {
       "model_id": "",
       "version_major": 2,
       "version_minor": 0
      },
      "text/plain": [
       "HBox(children=(IntProgress(value=0, max=3), HTML(value='')))"
      ]
     },
     "metadata": {},
     "output_type": "display_data"
    },
    {
     "data": {
      "application/vnd.jupyter.widget-view+json": {
       "model_id": "",
       "version_major": 2,
       "version_minor": 0
      },
      "text/plain": [
       "HBox(children=(IntProgress(value=0, max=3), HTML(value='')))"
      ]
     },
     "metadata": {},
     "output_type": "display_data"
    },
    {
     "name": "stdout",
     "output_type": "stream",
     "text": [
      "\n",
      "Adding objective function\n"
     ]
    },
    {
     "data": {
      "application/vnd.jupyter.widget-view+json": {
       "model_id": "fbc4239c496d4937b7e52109e2a30507",
       "version_major": 2,
       "version_minor": 0
      },
      "text/plain": [
       "HBox(children=(IntProgress(value=0, max=3), HTML(value='')))"
      ]
     },
     "metadata": {},
     "output_type": "display_data"
    },
    {
     "name": "stdout",
     "output_type": "stream",
     "text": [
      "\n"
     ]
    }
   ],
   "source": [
    "model = matching(distances(dataframes), columns_sizes, 0.5)"
   ]
  },
  {
   "cell_type": "code",
   "execution_count": 62,
   "metadata": {},
   "outputs": [],
   "source": [
    "model.optimize()"
   ]
  },
  {
   "cell_type": "code",
   "execution_count": 63,
   "metadata": {},
   "outputs": [
    {
     "data": {
      "text/plain": [
       "105.59999999999988"
      ]
     },
     "execution_count": 63,
     "metadata": {},
     "output_type": "execute_result"
    }
   ],
   "source": [
    "model.getObjVal()"
   ]
  },
  {
   "cell_type": "code",
   "execution_count": 64,
   "metadata": {
    "scrolled": false
   },
   "outputs": [
    {
     "data": {
      "text/plain": [
       "[(0, 0, 1, 0),\n",
       " (0, 1, 1, 1),\n",
       " (0, 2, 1, 2),\n",
       " (0, 3, 1, 3),\n",
       " (0, 4, 1, 4),\n",
       " (0, 5, 1, 5),\n",
       " (0, 6, 1, 6),\n",
       " (0, 7, 1, 7),\n",
       " (0, 8, 1, 8),\n",
       " (0, 9, 1, 9),\n",
       " (0, 10, 1, 10),\n",
       " (0, 11, 1, 11),\n",
       " (0, 12, 1, 12),\n",
       " (0, 13, 1, 13),\n",
       " (0, 14, 1, 14),\n",
       " (0, 15, 1, 15),\n",
       " (0, 16, 1, 16),\n",
       " (0, 0, 2, 0),\n",
       " (0, 1, 2, 1),\n",
       " (0, 2, 2, 2),\n",
       " (0, 3, 2, 3),\n",
       " (0, 4, 2, 4),\n",
       " (0, 5, 2, 5),\n",
       " (0, 6, 2, 6),\n",
       " (0, 7, 2, 7),\n",
       " (0, 8, 2, 8),\n",
       " (0, 9, 2, 9),\n",
       " (0, 10, 2, 10),\n",
       " (0, 11, 2, 11),\n",
       " (0, 12, 2, 12),\n",
       " (0, 13, 2, 13),\n",
       " (0, 14, 2, 14),\n",
       " (0, 15, 2, 15),\n",
       " (0, 16, 2, 16),\n",
       " (0, 17, 2, 17),\n",
       " (0, 18, 2, 18),\n",
       " (0, 19, 2, 19),\n",
       " (0, 20, 2, 20),\n",
       " (0, 21, 2, 21),\n",
       " (0, 22, 2, 22),\n",
       " (0, 23, 2, 23),\n",
       " (0, 24, 2, 24),\n",
       " (0, 25, 2, 25),\n",
       " (0, 26, 2, 26),\n",
       " (0, 27, 2, 27),\n",
       " (0, 28, 2, 28),\n",
       " (0, 29, 2, 29),\n",
       " (0, 30, 2, 30),\n",
       " (0, 31, 2, 31),\n",
       " (1, 0, 0, 0),\n",
       " (1, 1, 0, 1),\n",
       " (1, 2, 0, 2),\n",
       " (1, 3, 0, 3),\n",
       " (1, 4, 0, 4),\n",
       " (1, 5, 0, 5),\n",
       " (1, 6, 0, 6),\n",
       " (1, 7, 0, 7),\n",
       " (1, 8, 0, 8),\n",
       " (1, 9, 0, 9),\n",
       " (1, 10, 0, 10),\n",
       " (1, 11, 0, 11),\n",
       " (1, 12, 0, 12),\n",
       " (1, 13, 0, 13),\n",
       " (1, 14, 0, 14),\n",
       " (1, 15, 0, 15),\n",
       " (1, 16, 0, 16),\n",
       " (1, 0, 2, 0),\n",
       " (1, 1, 2, 1),\n",
       " (1, 2, 2, 2),\n",
       " (1, 3, 2, 3),\n",
       " (1, 4, 2, 4),\n",
       " (1, 5, 2, 5),\n",
       " (1, 6, 2, 6),\n",
       " (1, 7, 2, 7),\n",
       " (1, 8, 2, 8),\n",
       " (1, 9, 2, 9),\n",
       " (1, 10, 2, 10),\n",
       " (1, 11, 2, 11),\n",
       " (1, 12, 2, 12),\n",
       " (1, 13, 2, 13),\n",
       " (1, 14, 2, 14),\n",
       " (1, 15, 2, 15),\n",
       " (1, 16, 2, 16),\n",
       " (2, 0, 0, 0),\n",
       " (2, 1, 0, 1),\n",
       " (2, 2, 0, 2),\n",
       " (2, 3, 0, 3),\n",
       " (2, 4, 0, 4),\n",
       " (2, 5, 0, 5),\n",
       " (2, 6, 0, 6),\n",
       " (2, 7, 0, 7),\n",
       " (2, 8, 0, 8),\n",
       " (2, 9, 0, 9),\n",
       " (2, 10, 0, 10),\n",
       " (2, 11, 0, 11),\n",
       " (2, 12, 0, 12),\n",
       " (2, 13, 0, 13),\n",
       " (2, 14, 0, 14),\n",
       " (2, 15, 0, 15),\n",
       " (2, 16, 0, 16),\n",
       " (2, 17, 0, 17),\n",
       " (2, 18, 0, 18),\n",
       " (2, 19, 0, 19),\n",
       " (2, 20, 0, 20),\n",
       " (2, 21, 0, 21),\n",
       " (2, 22, 0, 22),\n",
       " (2, 23, 0, 23),\n",
       " (2, 24, 0, 24),\n",
       " (2, 25, 0, 25),\n",
       " (2, 26, 0, 26),\n",
       " (2, 27, 0, 27),\n",
       " (2, 28, 0, 28),\n",
       " (2, 29, 0, 29),\n",
       " (2, 30, 0, 30),\n",
       " (2, 31, 0, 31),\n",
       " (2, 0, 1, 0),\n",
       " (2, 1, 1, 1),\n",
       " (2, 2, 1, 2),\n",
       " (2, 3, 1, 3),\n",
       " (2, 4, 1, 4),\n",
       " (2, 5, 1, 5),\n",
       " (2, 6, 1, 6),\n",
       " (2, 7, 1, 7),\n",
       " (2, 8, 1, 8),\n",
       " (2, 9, 1, 9),\n",
       " (2, 10, 1, 10),\n",
       " (2, 11, 1, 11),\n",
       " (2, 12, 1, 12),\n",
       " (2, 13, 1, 13),\n",
       " (2, 14, 1, 14),\n",
       " (2, 15, 1, 15),\n",
       " (2, 16, 1, 16)]"
      ]
     },
     "execution_count": 64,
     "metadata": {},
     "output_type": "execute_result"
    }
   ],
   "source": [
    "e = model.data\n",
    "edges = [key for key, edge in e.items()  if model.getVal(edge)==1]\n",
    "edges"
   ]
  },
  {
   "cell_type": "code",
   "execution_count": 25,
   "metadata": {},
   "outputs": [
    {
     "data": {
      "text/plain": [
       "False"
      ]
     },
     "execution_count": 25,
     "metadata": {},
     "output_type": "execute_result"
    }
   ],
   "source": [
    "0 == 0 == 1"
   ]
  },
  {
   "cell_type": "code",
   "execution_count": null,
   "metadata": {},
   "outputs": [],
   "source": []
  }
 ],
 "metadata": {
  "kernelspec": {
   "display_name": "Python 3",
   "language": "python",
   "name": "python3"
  },
  "language_info": {
   "codemirror_mode": {
    "name": "ipython",
    "version": 3
   },
   "file_extension": ".py",
   "mimetype": "text/x-python",
   "name": "python",
   "nbconvert_exporter": "python",
   "pygments_lexer": "ipython3",
   "version": "3.6.6"
  }
 },
 "nbformat": 4,
 "nbformat_minor": 2
}
