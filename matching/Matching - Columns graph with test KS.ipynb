{
 "cells": [
  {
   "cell_type": "code",
   "execution_count": 1,
   "metadata": {},
   "outputs": [],
   "source": [
    "import os\n",
    "import numpy as np\n",
    "import pandas as pd\n",
    "from sklearn.feature_extraction.text import TfidfVectorizer\n",
    "from sklearn.metrics.pairwise import cosine_distances\n",
    "from scipy.stats import ks_2samp, mannwhitneyu\n",
    "from tqdm import tqdm_notebook as tqdm\n",
    "from typing import List, Callable"
   ]
  },
  {
   "cell_type": "code",
   "execution_count": 2,
   "metadata": {},
   "outputs": [],
   "source": [
    "def _and(*args):\n",
    "    return np.all(args, axis=0)\n",
    "\n",
    "def _or(*args):\n",
    "    return np.any(args, axis=0)\n",
    "\n",
    "def drop_nan(df):\n",
    "    return [df[c][~np.isclose(df[c].values, 0)].dropna() for c in df]"
   ]
  },
  {
   "cell_type": "code",
   "execution_count": 4,
   "metadata": {},
   "outputs": [],
   "source": [
    "def matrix_type_argsort(matrix: np.matrix, df: pd.DataFrame) -> np.matrix:\n",
    "    \"\"\"Return given `matrix` sorted using given `df` DataFrame types.\"\"\"\n",
    "    return matrix[np.argsort(\n",
    "        list(zip(*sorted(zip(df.dtypes, range(len(df.dtypes))))))[1]), :]\n",
    "\n",
    "\n",
    "def double_argsort(floats: np.matrix,\n",
    "                   strings: np.matrix,\n",
    "                   df1: pd.DataFrame,\n",
    "                   df2: pd.DataFrame,\n",
    "                   fill=0) -> np.matrix:\n",
    "    \"\"\"Return combined matrix sorted in both axis using given dataframes types.\"\"\"\n",
    "    ground = np.full((df1.shape[1], df2.shape[1]), float(fill))\n",
    "    if np.all(floats.shape):\n",
    "        ground[:floats.shape[0], :floats.shape[1]] = floats\n",
    "    if np.all(strings.shape):\n",
    "        ground[-strings.shape[0]:, -strings.shape[1]:] = strings\n",
    "    return matrix_type_argsort(matrix_type_argsort(ground, df1).T, df2).T"
   ]
  },
  {
   "cell_type": "code",
   "execution_count": 5,
   "metadata": {},
   "outputs": [],
   "source": [
    "def data_tfidf_distance(df1: pd.DataFrame, df2: pd.DataFrame,\n",
    "                        data_tfidf) -> np.matrix:\n",
    "    \"\"\"Return cosine distance of dataframes columns mean tfidf vectorization.\n",
    "        df1:pd.DataFrame, first string only dataframe.\n",
    "        df2:pd.DataFrame, second string only dataframe.\n",
    "    \"\"\"\n",
    "    if not df1.shape[1] or not df2.shape[1]:\n",
    "        return np.ones((df1.shape[1], df2.shape[1]))\n",
    "    a = np.array([\n",
    "    ]).squeeze(axis=1)\n",
    "    b = np.array([\n",
    "        np.mean(data_tfidf.transform(c), axis=0) for c in drop_nan(df2)\n",
    "    ]).squeeze(axis=1)\n",
    "    return cosine_distances(a, b)"
   ]
  },
  {
   "cell_type": "code",
   "execution_count": 6,
   "metadata": {},
   "outputs": [],
   "source": [
    "def string_data_distances(df1: pd.DataFrame, df2: pd.DataFrame, data_tfidf):\n",
    "    return double_argsort(\n",
    "        np.array([]),\n",
    "        data_tfidf_distance(\n",
    "            df1.select_dtypes(include='object'),\n",
    "            df2.select_dtypes(include='object'),\n",
    "            data_tfidf) < 0.75,\n",
    "        df1,\n",
    "        df2,\n",
    "        fill=False)"
   ]
  },
  {
   "cell_type": "code",
   "execution_count": 7,
   "metadata": {},
   "outputs": [],
   "source": [
    "def pairwise_test(A: pd.DataFrame, B: pd.DataFrame, test:Callable, minimum=100):\n",
    "    df1 = drop_nan(A.select_dtypes(include='float64'))\n",
    "    df2 = drop_nan(B.select_dtypes(include='float64'))\n",
    "    return double_argsort(\n",
    "        np.array([[test(a, b)[1] if a.size > minimum and b.size > minimum else 0 for b in df2] for a in df1]),\n",
    "        np.array([]), A, B, 0)\n",
    "\n",
    "def pairwise_ks(A: pd.DataFrame, B: pd.DataFrame):\n",
    "    return pairwise_test(A, B, ks_2samp)\n",
    "\n",
    "def pairwise_mw(A: pd.DataFrame, B: pd.DataFrame):\n",
    "    return pairwise_test(A, B, mannwhitneyu)\n"
   ]
  },
  {
   "cell_type": "code",
   "execution_count": 8,
   "metadata": {},
   "outputs": [],
   "source": [
    "def columns_tfidf_cosine(A, B, column_tfidf):\n",
    "    return cosine_distances(\n",
    "            column_tfidf.transform(A.columns),\n",
    "            column_tfidf.transform(B.columns)) < 0.5"
   ]
  },
  {
   "cell_type": "code",
   "execution_count": 16,
   "metadata": {},
   "outputs": [],
   "source": [
    "def units_mask(A: np.ndarray, B: np.ndarray):\n",
    "    sep = \" | \"\n",
    "    unit_A, unit_B = [\n",
    "        np.array(\n",
    "            [None if len(c.split(sep)) == 1 else c.split(sep)[1] for c in v])\n",
    "        for v in [A, B]\n",
    "    ]\n",
    "    return unit_A[:, None] == unit_B\n",
    "\n",
    "\n",
    "def sub_incidence_matrix(column_tfidf, data_tfidf, A: pd.DataFrame,\n",
    "                         B: pd.DataFrame):\n",
    "    p = pairwise_mw(A, B)\n",
    "    #_, mk_p = typewise_mk(A, B, data_tfidf)\n",
    "    \n",
    "    #means = string_data_distances(A, B, data_tfidf)\n",
    "    # tfidf = columns_tfidf_cosine(A, B, column_tfidf)\n",
    "    # tfidf<0.75\n",
    "    # print(np.nanmin(ksp), np.nanmax(ksp), np.nanmean(ksp), np.nanvar(ksp))\n",
    "    return p>0.1#_and(means, tfidf, ks_p>1e-3, mk_p>1e-3, units_mask(A.columns, B.columns))\n"
   ]
  },
  {
   "cell_type": "code",
   "execution_count": 17,
   "metadata": {},
   "outputs": [],
   "source": [
    "def incidence_matrix(column_corpus:List[str], data_corpus:List[str], dataframes:List[pd.DataFrame]):\n",
    "    n = sum([df.shape[1] for df in dataframes])\n",
    "    column_tfidf = TfidfVectorizer()\n",
    "    column_tfidf.fit(column_corpus)\n",
    "    data_tfidf = TfidfVectorizer()\n",
    "    data_tfidf.fit(data_corpus)\n",
    "    ground = np.zeros((n, n))\n",
    "    old = np.array([0, 0])\n",
    "    offset = 0\n",
    "    for i, df1 in tqdm(enumerate(dataframes), total=len(dataframes)):\n",
    "        old[1] = offset\n",
    "        for j, df2 in enumerate(dataframes[i:], i):\n",
    "            if i == j:\n",
    "                matrix = np.eye(df1.shape[1])\n",
    "            else:\n",
    "                matrix = sub_incidence_matrix(column_tfidf, data_tfidf, df1, df2)\n",
    "            x = slice(old[0], old[0] + df1.shape[1])\n",
    "            y = slice(old[1], old[1] + df2.shape[1])\n",
    "            ground[x, y] = matrix\n",
    "            ground[y, x] = matrix.T\n",
    "            old[1] += df2.shape[1]\n",
    "        offset += df1.shape[1]\n",
    "        old[0] += df1.shape[1]\n",
    "\n",
    "    return ground.astype(bool)#np.matrix(ground)"
   ]
  },
  {
   "cell_type": "code",
   "execution_count": 18,
   "metadata": {},
   "outputs": [],
   "source": [
    "def matching(dataframes: List[pd.DataFrame]):\n",
    "    corpus = np.array([c for df in dataframes for c in df.columns])\n",
    "    data_corpus = np.concatenate([df.select_dtypes(include='object').values.flatten() for df in dataframes])\n",
    "    data_corpus = data_corpus[~pd.isna(data_corpus)]\n",
    "    return incidence_matrix(corpus, data_corpus, dataframes)"
   ]
  },
  {
   "cell_type": "code",
   "execution_count": 19,
   "metadata": {},
   "outputs": [],
   "source": [
    "path = \"../sanitized_csv/\"\n",
    "csvs = [\n",
    "    csv\n",
    "    for path, dirs, csvs in os.walk(path)\n",
    "    for csv in csvs\n",
    "]\n",
    "dataframes = [\n",
    "    pd.read_csv(\"{path}/{csv}\".format(path=path, csv=csv), index_col=[\"name\"])\n",
    "    for csv in csvs\n",
    "]\n",
    "columns = np.array([c for df in dataframes for c in df.columns])"
   ]
  },
  {
   "cell_type": "code",
   "execution_count": 20,
   "metadata": {
    "scrolled": false
   },
   "outputs": [
    {
     "data": {
      "application/vnd.jupyter.widget-view+json": {
       "model_id": "d6be8c448e8641b7bf8e1ec75f88a3cc",
       "version_major": 2,
       "version_minor": 0
      },
      "text/plain": [
       "HBox(children=(IntProgress(value=0, max=9), HTML(value='')))"
      ]
     },
     "metadata": {},
     "output_type": "display_data"
    },
    {
     "name": "stdout",
     "output_type": "stream",
     "text": [
      "\n"
     ]
    }
   ],
   "source": [
    "M = matching(dataframes)"
   ]
  },
  {
   "cell_type": "code",
   "execution_count": 21,
   "metadata": {},
   "outputs": [],
   "source": [
    "m = np.matrix(M)"
   ]
  },
  {
   "cell_type": "code",
   "execution_count": 22,
   "metadata": {
    "scrolled": false
   },
   "outputs": [
    {
     "name": "stdout",
     "output_type": "stream",
     "text": [
      "['acqua | g' 'acqua | g' 'acqua | g' 'acqua | g' 'acqua | g']\n",
      "['calorie | kcal' 'calorie | kcal' 'energy kcal'\n",
      " 'energia, ric con fibra | kcal' 'energia, ricalcolata | kcal'\n",
      " 'valore calorico | kcal' 'energia | kcal']\n",
      "['fibra alimentare | g' 'acidi grassi saturi | g' 'istidina | g'\n",
      " 'monoinsaturi totali | g' 'saturi totali | g'\n",
      " 'carboidrati solubili (mse) | g' 'fibra alimentare totale | g'\n",
      " 'lipidi totali | g']\n",
      "['proteine totali | g' 'protein' 'nutrition score france' 'grassi | g'\n",
      " 'lipidi totali | g' 'carboidrati disponibili (mse) | g' 'iodio | g'\n",
      " 'proteine totali | g']\n",
      "['proteine animali | g' 'proteine : | %' 'proteine | g']\n",
      "['proteine vegetali | g' 'sugars' 'fibra alimentare | g' 'c18:1 | g'\n",
      " 'zuccheri solubili | g' 'zuccheri solubili | g']\n",
      "['glucidi disponibili | g' 'carbohydrates, available' 'grassi | g'\n",
      " 'leucina | g' 'lisina | g' 'proteine | g']\n",
      "['glucidi solubili | g' 'fat, total' 'carboidrati disponibili | g'\n",
      " 'tirosina | g' 'treonina | g' 'selenio | g' 'zuccheri | g'\n",
      " 'carboidrati disponibili | g']\n",
      "['amido | g' 'retinolo eq. (re) | g' 'ß-carotene eq. | g']\n",
      "['lipidi totali | g' 'fenilalanina | g' 'isoleucina | g' 'grassi | g']\n",
      "['lipidi animali | g' 'starch' 'zuccheri | g' 'amido (mse) | g'\n",
      " 'lipidi animali | g']\n",
      "['lipidi vegetali | g' 'specific gravity' 'c16:0 | g'\n",
      " 'polinsaturi totali | g' 'triptofano | g' 'acido glutammico | g'\n",
      " 'lattosio (mse) | g' 'vitamina b12 | g' 'grassi monoinsaturi | g'\n",
      " 'c18:1 | g']\n",
      "['lipidi saturi totali | g' 'c18:2 | g'\n",
      " 'acidi grassi monoinsaturi totali | g' 'acidi grassi saturi totali | g'\n",
      " 'acido palmitico | g' 'glucosio | g' 'grassi saturi | g'\n",
      " 'acido aspartico | g' 'c16:0 | g' 'rapporto polinsaturi/saturi']\n",
      "['acido oleico | g' 'acido oleico | g' 'grassi polinsaturi | g']\n",
      "['monoinsaturi totali | g' 'lipidi vegetali | g']\n",
      "['acido linoleico | g' 'acido linoleico | g' 'fenilalanina | g'\n",
      " 'glicina | g' 'isoleucina | g' 'serina | g' 'treonina | g'\n",
      " 'vitamina d | g' 'c18:0 | g' 'tirosina | g' 'treonina | g']\n",
      "['altri polinsaturi | g' 'c16:1 | g' 'potassio | g' 'acido laurico | g'\n",
      " 'acido miristico | g' 'istidina | g' 'metionina | g' 'metionina | g']\n",
      "['polinsaturi totali | g' 'acido aspartico | g' 'leucina | g']\n",
      "['colesterolo | g' 'sodium' 'colesterolo | g' 'acido arachidico | g'\n",
      " 'acido erucico | g' 'altri acidi grassi polinsaturi | g' 'cloro | g'\n",
      " 'colesterolo | g' 'colesterolo | g']\n",
      "['ferro | g' 'ferro | g' 'niacina | g' 'ferro | g' 'vitamina c | g']\n",
      "['calcio | g' 'sodio | g' 'sodio | g']\n",
      "['sodio | g' 'zolfo | g']\n",
      "['potassio | g' 'acido palmitoleico | g' 'potassio | g' 'potassio | g'\n",
      " 'potassio | g']\n",
      "['fosforo | g' 'c18:3 | g' 'c20:1 | g' 'c20:4 | g' 'acidi eicosenoico | g'\n",
      " 'acido miristoleico | g' 'cistina | g' 'fosforo | g' 'triptofano | g'\n",
      " 'c18:3 | g' 'c20:4 | g' 'triptofano | g']\n",
      "['zinco | g' 'niacin' 'iron' 'zinc' 'zinco | g' 'ferro | g']\n",
      "['tiamina (vitamina b1) | g' 'vitamin b1' 'vitamina b1, tiamina | g']\n",
      "['riboflavina | g' 'vitamin b6' 'riboflavina | g' 'tiamina | g'\n",
      " 'vitamina b2, riboflavina | g' 'vitamina a | g' 'vitamina k | g'\n",
      " 'riboflavina | g']\n",
      "['retinolo (equivalente) | g' 'luteina + zeaxantina | g' 'manganese | g']\n",
      "['carotene | g' 'selenio | g' 'vitamina b11 | g' 'vitamina d | g']\n",
      "['vitamina d | g' 'vitamin d']\n",
      "['vitamina e | g' 'vitamina b5 | g' 'vitamina e | g']\n",
      "['alpha-tocoferolo (vitamina e) | g' 'pantothenic acid'\n",
      " 'acido pantotenico | g' 'vitamina e (ate) | g']\n",
      "['carotene, beta | g' 'beta-carotene']\n",
      "['colesterolo | g' 'colesterolo | g']\n",
      "['colina totale (vitamina j) | g' 'calcio | g' 'calcio | g']\n",
      "['criptoxantina, beta | g' 'folate']\n",
      "['fillochinone (vitamina k) | g' 'vitamina a retinolo eq. | g']\n",
      "['dietary fibres' 'metionina | g' 'fruttosio | g' 'proteine vegetali | g'\n",
      " 'saccarosio (mse) | g' 'acido glutamico | g']\n",
      "['cholesterol' 'sodio | g']\n",
      "['fatty acids, monounsaturated' 'fibre alimentari | g']\n",
      "['fatty acids, polyunsaturated' 'c18:0 | g'\n",
      " 'acidi grassi polinsaturi totali | g' 'lisina | g'\n",
      " 'somma degli acidi butirrico, caproico, caprilico e caprico | g'\n",
      " 'arginina | g' 'lisina | g']\n",
      "['vitamin b2' 'tiamina | g']\n",
      "['potassium' 'c14:0 | g' 'sodio | g']\n",
      "['chloride' 'sodio | g' 'acido arachidonico | g' 'c14:0 | g' 'cistina | g']\n",
      "['magnesium' 'magnesio | g']\n",
      "['carboidrati | g' 'retinolo | g']\n",
      "['proteine | g' 'lipidi | g']\n",
      "['sale | g' 'tirosina | g' 'istidina | g']\n",
      "['fosforo | g' 'acido decosaesaenoico (dha) | g' 'c16:1 | g' 'fosforo | g']\n",
      "['parte edibile | %' 'parte edibile | %']\n",
      "['acido stearico | g' 'alanina | g' 'c18:2 | g' 'valina | g']\n",
      "['calcio | g' 'calcio | g']\n",
      "['prolina | g' 'fenilalanina | g' 'glicina | g' 'isoleucina | g'\n",
      " 'prolina | g' 'serina | g']\n",
      "['proteine animali | g' 'carboidrati | g']\n",
      "['rame | g' 'vitamina b12 | g']\n",
      "['vitamina b3 | g' 'niacina | g']\n"
     ]
    }
   ],
   "source": [
    "M0 = np.copy(m)\n",
    "for i, row in enumerate(M0):\n",
    "    if np.sum(row) > 1:\n",
    "        rows = np.where(row)\n",
    "        M0[rows] = 0 \n",
    "        M0[:,rows] = 0 \n",
    "        print(columns[rows])"
   ]
  },
  {
   "cell_type": "code",
   "execution_count": null,
   "metadata": {},
   "outputs": [],
   "source": []
  },
  {
   "cell_type": "code",
   "execution_count": null,
   "metadata": {},
   "outputs": [],
   "source": []
  }
 ],
 "metadata": {
  "kernelspec": {
   "display_name": "Python 3",
   "language": "python",
   "name": "python3"
  },
  "language_info": {
   "codemirror_mode": {
    "name": "ipython",
    "version": 3
   },
   "file_extension": ".py",
   "mimetype": "text/x-python",
   "name": "python",
   "nbconvert_exporter": "python",
   "pygments_lexer": "ipython3",
   "version": "3.6.6"
  }
 },
 "nbformat": 4,
 "nbformat_minor": 2
}
