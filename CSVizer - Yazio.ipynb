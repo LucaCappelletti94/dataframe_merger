{
 "cells": [
  {
   "cell_type": "code",
   "execution_count": 1,
   "metadata": {},
   "outputs": [],
   "source": [
    "import os\n",
    "import re\n",
    "import numpy as np\n",
    "import pandas as pd\n",
    "from pprint import pprint\n",
    "from tqdm import tqdm_notebook as tqdm"
   ]
  },
  {
   "cell_type": "markdown",
   "metadata": {},
   "source": [
    "### Determining food names and tables"
   ]
  },
  {
   "cell_type": "code",
   "execution_count": 2,
   "metadata": {},
   "outputs": [],
   "source": [
    "path = \"./yazio\"\n",
    "regex = re.compile(r\"^([\\w-]+)-([\\w]+\\s?[\\w]+)\\.csv$\")\n",
    "foods = list({re.findall(regex, file)[0][0] for file in next(os.walk(path))[2] if file.endswith(\".csv\")})\n",
    "tables = list({re.findall(regex, file)[0][1] for file in next(os.walk(path))[2] if file.endswith(\".csv\")})"
   ]
  },
  {
   "cell_type": "markdown",
   "metadata": {},
   "source": [
    "### Merging csv files"
   ]
  },
  {
   "cell_type": "code",
   "execution_count": 3,
   "metadata": {},
   "outputs": [
    {
     "data": {
      "application/vnd.jupyter.widget-view+json": {
       "model_id": "0afbf0392b86430cb38c3838c9a44fa7",
       "version_major": 2,
       "version_minor": 0
      },
      "text/plain": [
       "HBox(children=(IntProgress(value=0, max=2758), HTML(value='')))"
      ]
     },
     "metadata": {},
     "output_type": "display_data"
    },
    {
     "name": "stdout",
     "output_type": "stream",
     "text": [
      "\n"
     ]
    }
   ],
   "source": [
    "yazio = pd.DataFrame([])\n",
    "yazio.index.name=\"name\"\n",
    "for path_name in tqdm(list(foods)):\n",
    "    name = path_name.replace(\"-\", \" \")\n",
    "    df = pd.DataFrame([], columns=[\"per porzione\"])\n",
    "    for table in tables:\n",
    "        file_path = \"{path}/{name}-{table}.csv\".format(path=path, name=path_name, table=table)\n",
    "        if os.path.exists(file_path):\n",
    "            df = df.append(pd.read_csv(file_path, usecols=[\"per porzione\", table], index_col=table))\n",
    "    df = df.transpose()\n",
    "    df.index = [name]\n",
    "    df.index.name = yazio.index.name\n",
    "    yazio = yazio.append(df)"
   ]
  },
  {
   "cell_type": "markdown",
   "metadata": {},
   "source": [
    "### Adding units to columns"
   ]
  },
  {
   "cell_type": "code",
   "execution_count": 4,
   "metadata": {},
   "outputs": [],
   "source": [
    "units = [[re.findall(\"[a-z]+\", v)[0].replace(\"mg\", \"g\") for v in yazio[c].values if pd.notna(v)][0] for c in yazio.columns]"
   ]
  },
  {
   "cell_type": "code",
   "execution_count": 5,
   "metadata": {},
   "outputs": [],
   "source": [
    "new_columns = [\"{c} | {unit}\".format(c=c, unit=u).lower() for c, u in zip(*[yazio.columns, units])]"
   ]
  },
  {
   "cell_type": "code",
   "execution_count": 6,
   "metadata": {},
   "outputs": [],
   "source": [
    "yazio.columns = new_columns"
   ]
  },
  {
   "cell_type": "markdown",
   "metadata": {},
   "source": [
    "### Converting values to kcal, grams and floats"
   ]
  },
  {
   "cell_type": "code",
   "execution_count": 7,
   "metadata": {},
   "outputs": [],
   "source": [
    "for c in yazio.columns:\n",
    "    for i in yazio.index:\n",
    "        v = yazio[c][i]\n",
    "        if pd.notna(v) and isinstance(v, str):\n",
    "            v = v.replace(\".\", \"\").replace(\",\", \".\")\n",
    "            if \"kcal\" in v:\n",
    "                yazio[c][i] = float(v.split(\"kcal\")[0])\n",
    "            elif \"<\" in v and \"mg\" in v:\n",
    "                yazio[c][i] = 0.1*1e-3\n",
    "            elif \"<\" in v and \"g\" in v:\n",
    "                yazio[c][i] = 0.05\n",
    "            elif \"mg\" in v:\n",
    "                yazio[c][i] = float(v.split(\"mg\")[0])*1e-3\n",
    "            elif \"g\" in v:\n",
    "                yazio[c][i] = float(v.split(\"g\")[0])\n",
    "            else:\n",
    "                yazio[c][i] = float(v)"
   ]
  },
  {
   "cell_type": "markdown",
   "metadata": {},
   "source": [
    "### Dropping food items with nan values in required columns"
   ]
  },
  {
   "cell_type": "code",
   "execution_count": 8,
   "metadata": {},
   "outputs": [],
   "source": [
    "yazio = yazio.drop(yazio.index[np.any(\n",
    "    pd.isna(yazio[[\n",
    "        'acqua | g', 'carboidrati | g', 'grassi | g', 'proteine | g',\n",
    "        'valore calorico | kcal'\n",
    "    ]]),\n",
    "    axis=1)])"
   ]
  },
  {
   "cell_type": "markdown",
   "metadata": {},
   "source": [
    "### Dropping food items with carbohidrates lower than sugars"
   ]
  },
  {
   "cell_type": "code",
   "execution_count": 9,
   "metadata": {},
   "outputs": [],
   "source": [
    "mask = yazio['carboidrati | g']<yazio['zuccheri | g']\n",
    "yazio = yazio.drop(yazio.index[mask])"
   ]
  },
  {
   "cell_type": "markdown",
   "metadata": {},
   "source": [
    "### Dropping column 'sale | g' as it contains nearly only nan values"
   ]
  },
  {
   "cell_type": "code",
   "execution_count": 10,
   "metadata": {},
   "outputs": [],
   "source": [
    "yazio = yazio.drop(columns=['sale | g'])"
   ]
  },
  {
   "cell_type": "markdown",
   "metadata": {},
   "source": [
    "### Dropping 0 rows"
   ]
  },
  {
   "cell_type": "code",
   "execution_count": 11,
   "metadata": {},
   "outputs": [],
   "source": [
    "yazio = yazio.drop(yazio.index[np.mean(yazio == 0, axis=1) == 1])"
   ]
  },
  {
   "cell_type": "markdown",
   "metadata": {},
   "source": [
    "### Normalizing dataset to range '100g'"
   ]
  },
  {
   "cell_type": "code",
   "execution_count": 12,
   "metadata": {},
   "outputs": [],
   "source": [
    "norm_columns = list(set(yazio.columns)-set(['grassi monoinsaturi | g', 'grassi polinsaturi | g',\n",
    "       'grassi saturi | g', 'valore calorico | kcal', 'zuccheri | g']))\n",
    "yazio = (yazio.transpose() / np.sum(yazio[norm_columns], axis=1) * 100).transpose()"
   ]
  },
  {
   "cell_type": "markdown",
   "metadata": {},
   "source": [
    "### Saving dataset"
   ]
  },
  {
   "cell_type": "code",
   "execution_count": 13,
   "metadata": {},
   "outputs": [],
   "source": [
    "yazio.to_csv(\"csv/yazio.csv\")"
   ]
  }
 ],
 "metadata": {
  "kernelspec": {
   "display_name": "Python 3",
   "language": "python",
   "name": "python3"
  },
  "language_info": {
   "codemirror_mode": {
    "name": "ipython",
    "version": 3
   },
   "file_extension": ".py",
   "mimetype": "text/x-python",
   "name": "python",
   "nbconvert_exporter": "python",
   "pygments_lexer": "ipython3",
   "version": "3.6.6"
  }
 },
 "nbformat": 4,
 "nbformat_minor": 2
}
