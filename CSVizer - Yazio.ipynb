{
 "cells": [
  {
   "cell_type": "code",
   "execution_count": 145,
   "metadata": {},
   "outputs": [],
   "source": [
    "import os\n",
    "import re\n",
    "import numpy as np\n",
    "import pandas as pd\n",
    "from pprint import pprint\n",
    "from tqdm import tqdm_notebook as tqdm"
   ]
  },
  {
   "cell_type": "raw",
   "metadata": {},
   "source": [
    "path = \"./yazio\"\n",
    "regex = re.compile(r\"^([\\w-]+)-([\\w]+\\s?[\\w]+)\\.csv$\")\n",
    "foods = list({re.findall(regex, file)[0][0] for file in next(os.walk(path))[2] if file.endswith(\".csv\")})\n",
    "tables = list({re.findall(regex, file)[0][1] for file in next(os.walk(path))[2] if file.endswith(\".csv\")})"
   ]
  },
  {
   "cell_type": "raw",
   "metadata": {
    "scrolled": false
   },
   "source": [
    "yazio_df = pd.DataFrame([], columns=columns)\n",
    "yazio_df.index.name=\"name\"\n",
    "for path_name in tqdm(list(foods)):\n",
    "    name = path_name.replace(\"-\", \" \")\n",
    "    df = pd.DataFrame([], columns=[\"per porzione\"])\n",
    "    for table in tables:\n",
    "        file_path = \"{path}/{name}-{table}.csv\".format(path=path, name=path_name, table=table)\n",
    "        if os.path.exists(file_path):\n",
    "            df = df.append(pd.read_csv(file_path, usecols=[\"per porzione\", table], index_col=table))\n",
    "    df = df.transpose()\n",
    "    df.index = [name]\n",
    "    df.index.name = yazio_df.index.name\n",
    "    yazio_df = yazio_df.append(df)"
   ]
  },
  {
   "cell_type": "code",
   "execution_count": 181,
   "metadata": {},
   "outputs": [],
   "source": [
    "yazio = pd.read_csv(\"csv/yazio.csv\", index_col=\"name\")"
   ]
  },
  {
   "cell_type": "code",
   "execution_count": 183,
   "metadata": {},
   "outputs": [
    {
     "data": {
      "application/vnd.jupyter.widget-view+json": {
       "model_id": "01dc95fd207d4c549105a41fb6127344",
       "version_major": 2,
       "version_minor": 0
      },
      "text/plain": [
       "HBox(children=(IntProgress(value=0, max=34), HTML(value='')))"
      ]
     },
     "metadata": {},
     "output_type": "display_data"
    }
   ],
   "source": [
    "units = [[re.findall(\"[a-z]+\", v)[0] for v in yazio[c].values if pd.notna(v)][0] for c in tqdm(yazio.columns)]"
   ]
  },
  {
   "cell_type": "code",
   "execution_count": 194,
   "metadata": {},
   "outputs": [],
   "source": [
    "for c in yazio.columns:\n",
    "    for i in yazio.index:\n",
    "        v = yazio[c][i]\n",
    "        if pd.notna(v) and isinstance(v, str):\n",
    "            if \"kcal\" in v:\n",
    "                yazio[c][i] = float(v.split(\"kcal\")[0])"
   ]
  },
  {
   "cell_type": "code",
   "execution_count": 186,
   "metadata": {},
   "outputs": [],
   "source": [
    "units = [u.replace(\"mg\", \"g\") for u in units]"
   ]
  },
  {
   "cell_type": "code",
   "execution_count": 187,
   "metadata": {},
   "outputs": [],
   "source": [
    "new_columns = [\"{c} | {unit}\".format(c=c, unit=u) for c, u in zip(*[yazio.columns, units])]"
   ]
  },
  {
   "cell_type": "code",
   "execution_count": 190,
   "metadata": {},
   "outputs": [],
   "source": [
    "yazio.columns = new_columns"
   ]
  },
  {
   "cell_type": "code",
   "execution_count": null,
   "metadata": {},
   "outputs": [],
   "source": []
  }
 ],
 "metadata": {
  "kernelspec": {
   "display_name": "Python 3",
   "language": "python",
   "name": "python3"
  },
  "language_info": {
   "codemirror_mode": {
    "name": "ipython",
    "version": 3
   },
   "file_extension": ".py",
   "mimetype": "text/x-python",
   "name": "python",
   "nbconvert_exporter": "python",
   "pygments_lexer": "ipython3",
   "version": "3.6.6"
  }
 },
 "nbformat": 4,
 "nbformat_minor": 2
}
