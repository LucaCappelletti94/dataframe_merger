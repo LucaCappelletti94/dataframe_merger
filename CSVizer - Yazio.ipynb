{
 "cells": [
  {
   "cell_type": "code",
   "execution_count": 17,
   "metadata": {},
   "outputs": [],
   "source": [
    "import os\n",
    "import re\n",
    "import numpy as np\n",
    "import pandas as pd\n",
    "from pprint import pprint\n",
    "from tqdm import tqdm_notebook as tqdm"
   ]
  },
  {
   "cell_type": "code",
   "execution_count": 133,
   "metadata": {},
   "outputs": [],
   "source": [
    "path = \"./yazio\"\n",
    "regex = re.compile(r\"^([\\w-]+)-([\\w]+\\s?[\\w]+)\\.csv$\")\n",
    "foods = list({re.findall(regex, file)[0][0] for file in next(os.walk(path))[2] if file.endswith(\".csv\")})\n",
    "tables = list({re.findall(regex, file)[0][1] for file in next(os.walk(path))[2] if file.endswith(\".csv\")})"
   ]
  },
  {
   "cell_type": "code",
   "execution_count": 142,
   "metadata": {
    "scrolled": false
   },
   "outputs": [
    {
     "data": {
      "application/vnd.jupyter.widget-view+json": {
       "model_id": "e8213c23e3ef4158ad8fcb52484508bd",
       "version_major": 2,
       "version_minor": 0
      },
      "text/plain": [
       "HBox(children=(IntProgress(value=0, max=2758), HTML(value='')))"
      ]
     },
     "metadata": {},
     "output_type": "display_data"
    }
   ],
   "source": [
    "yazio_df = pd.DataFrame([], columns=columns)\n",
    "yazio_df.index.name=\"name\"\n",
    "for path_name in tqdm(list(foods)):\n",
    "    name = path_name.replace(\"-\", \" \")\n",
    "    df = pd.DataFrame([], columns=[\"per porzione\"])\n",
    "    for table in tables:\n",
    "        file_path = \"{path}/{name}-{table}.csv\".format(path=path, name=path_name, table=table)\n",
    "        if os.path.exists(file_path):\n",
    "            df = df.append(pd.read_csv(file_path, usecols=[\"per porzione\", table], index_col=table))\n",
    "    df = df.transpose()\n",
    "    df.index = [name]\n",
    "    df.index.name = yazio_df.index.name\n",
    "    yazio_df = yazio_df.append(df)"
   ]
  },
  {
   "cell_type": "code",
   "execution_count": 144,
   "metadata": {
    "scrolled": false
   },
   "outputs": [],
   "source": [
    "yazio_df.to_csv(\"csv/yazio.csv\")"
   ]
  }
 ],
 "metadata": {
  "kernelspec": {
   "display_name": "Python 3",
   "language": "python",
   "name": "python3"
  },
  "language_info": {
   "codemirror_mode": {
    "name": "ipython",
    "version": 3
   },
   "file_extension": ".py",
   "mimetype": "text/x-python",
   "name": "python",
   "nbconvert_exporter": "python",
   "pygments_lexer": "ipython3",
   "version": "3.6.6"
  }
 },
 "nbformat": 4,
 "nbformat_minor": 2
}
