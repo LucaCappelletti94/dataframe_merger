{
 "cells": [
  {
   "cell_type": "code",
   "execution_count": 1,
   "metadata": {},
   "outputs": [],
   "source": [
    "import os\n",
    "import re\n",
    "import numpy as np\n",
    "import pandas as pd\n",
    "import json\n",
    "from pprint import pprint\n",
    "from tqdm import tqdm_notebook as tqdm\n",
    "import re\n",
    "from multiprocessing import Pool, cpu_count\n",
    "regex = r\"(\\([^\\)]+\\))\""
   ]
  },
  {
   "cell_type": "code",
   "execution_count": 2,
   "metadata": {},
   "outputs": [],
   "source": [
    "path = \"../raw/www.my-personaltrainer.it\"\n",
    "foods = [food for food in os.listdir(path) if food[0] != \".\"]\n",
    "tables = [table.split(\".csv\")[0] for table in os.listdir(\"{path}/{food}\".format(path=path, food=foods[0])) if table.endswith(\".csv\")]"
   ]
  },
  {
   "cell_type": "markdown",
   "metadata": {},
   "source": [
    "# Functions"
   ]
  },
  {
   "cell_type": "code",
   "execution_count": 3,
   "metadata": {},
   "outputs": [],
   "source": [
    "def parse_value(value):\n",
    "    if pd.isna(value):\n",
    "        return np.nan\n",
    "    elif \"%\" in value:\n",
    "        if value[:-1] == \"\":\n",
    "            return np.nan\n",
    "        return float(value[:-1].replace(\",\",\".\"))\n",
    "    elif \"µg\" in value:\n",
    "        return float(value[:-2].replace(\",\",\".\"))  / (1e6)\n",
    "    elif \"mg\" in value:\n",
    "        return float(value[:-2].replace(\",\",\".\")) / 1000\n",
    "    elif \"g\" in value:\n",
    "        return float(value[:-1].replace(\",\",\".\"))\n",
    "    elif value.replace('.','',1).isdigit():\n",
    "        return float(value)\n",
    "    elif value.lower() == \"tr\":\n",
    "        return 0\n",
    "    else:\n",
    "        return np.nan"
   ]
  },
  {
   "cell_type": "code",
   "execution_count": 4,
   "metadata": {},
   "outputs": [],
   "source": [
    "def parse_proteins(food):\n",
    "    file_path = \"{path}/{name}/{table}.csv\".format(path=path, name=food, table=1)\n",
    "    df = pd.read_csv(file_path)\n",
    "    df = df.iloc[1:] # Drop the titles\n",
    "    df.iloc[0,3] = df.iloc[0][2] # set the formatted percentage in the right cell\n",
    "    df = df.iloc[:,[1,3]]    # drop the useless columns\n",
    "    df = df.set_index(\"0\")\n",
    "\n",
    "    parsed_values = []\n",
    "    renamer = {}\n",
    "    for name, (value) in df.iterrows():\n",
    "        value = value[0]\n",
    "        old_name = name\n",
    "        \n",
    "        name = name.lower().strip()\n",
    "        name = re.sub(regex, \"\", name, 0, re.MULTILINE)\n",
    "        name = name.replace(\"  \",\" \")\n",
    "        \n",
    "        if \"%\" in name or (not pd.isna(value) and \"%\" in value):\n",
    "            renamer[old_name] = name + \" | %\"\n",
    "        else:\n",
    "            renamer[old_name] = name + \" | g\"\n",
    "\n",
    "        parsed_values.append(parse_value(value))\n",
    "\n",
    "    df = df.rename(columns={\"2\":\"1\"})\n",
    "    df = df.rename(index=renamer) # rename the columns\n",
    "    df.iloc[:,[0]] = np.array(parsed_values).reshape((len(df),1)) # update the dataframe with the new parsed data\n",
    "    return df"
   ]
  },
  {
   "cell_type": "code",
   "execution_count": 5,
   "metadata": {},
   "outputs": [],
   "source": [
    "def parse_general(food):\n",
    "    file_path = \"{path}/{name}/{table}.csv\".format(path=path, name=food, table=0)\n",
    "    df = pd.read_csv(file_path)\n",
    "    df = df.iloc[1:] # Drop the titles\n",
    "    df = df.iloc[:,[1,2]] # Drop the RDA col\n",
    "    df = df.set_index(\"0\") # Set the first col as the index\n",
    "    parsed_values = []\n",
    "    renamer = {}\n",
    "    for name, (value) in df.iterrows():\n",
    "        value = value[0]\n",
    "        old_name = name\n",
    "    \n",
    "        name = name.lower().strip()\n",
    "        name = re.sub(regex, \"\", name, 0, re.MULTILINE)\n",
    "        name = name.replace(\"  \",\" \")\n",
    "        \n",
    "        if \"%\" in name or (not pd.isna(value) and \"%\" in value):\n",
    "            renamer[old_name] = name + \" | %\"\n",
    "        else:\n",
    "            renamer[old_name] = name + \" | g\"\n",
    "\n",
    "        parsed_values.append(parse_value(value))\n",
    "\n",
    "\n",
    "    df = df.rename(index=renamer) # rename the columns\n",
    "    df.iloc[:,[0]] = np.array(parsed_values).reshape((len(df),1)) # update the dataframe with the new parsed data\n",
    "    return df"
   ]
  },
  {
   "cell_type": "code",
   "execution_count": 6,
   "metadata": {},
   "outputs": [],
   "source": [
    "def parse_fats(food):\n",
    "    file_path = \"{path}/{name}/{table}.csv\".format(path=path, name=food, table=2)\n",
    "    df = pd.read_csv(file_path)\n",
    "    df = df.iloc[1:] # Drop the titles\n",
    "    df = df.iloc[:,[1,2]] # Drop the index col\n",
    "    df = df.set_index(\"0\") # Set the first col as the index\n",
    "\n",
    "    parsed_values = []\n",
    "    renamer = {}\n",
    "    for name, (value) in df.iterrows():\n",
    "        value = value[0]\n",
    "        old_name = name\n",
    "        \n",
    "        \n",
    "        if name[0] == \"C\": # Grassi\n",
    "            name = name.replace(\" \",\":\")\n",
    "\n",
    "        name = name.lower().strip()\n",
    "        name = re.sub(regex, \"\", name, 0, re.MULTILINE) \n",
    "        name = name.replace(\"  \",\" \")\n",
    "        \n",
    "        if \"%\" in name or (not pd.isna(value) and \"%\" in value):    \n",
    "            renamer[old_name] = name + \" | %\"\n",
    "        else: \n",
    "            renamer[old_name] = name + \" | g\"\n",
    "\n",
    "        parsed_values.append(parse_value(value))\n",
    "\n",
    "\n",
    "    df = df.rename(index=renamer) # rename the columns\n",
    "    df.iloc[:,[0]] = np.array(parsed_values).reshape((len(df),1)) # update the dataframe with the new parsed data\n",
    "    return df"
   ]
  },
  {
   "cell_type": "code",
   "execution_count": 7,
   "metadata": {},
   "outputs": [],
   "source": [
    "def parse_category(food):\n",
    "    file_path = \"{path}/{name}/metadata.json\".format(path=path, name=food)\n",
    "    with open(file_path,\"r\") as f:\n",
    "        dic = json.load(f)  \n",
    "    df = pd.DataFrame(dic[\"category\"],[\"category\"],[\"1\"])\n",
    "    df.columns.name = \"0\"\n",
    "    return df"
   ]
  },
  {
   "cell_type": "markdown",
   "metadata": {},
   "source": [
    "# Merge all the data"
   ]
  },
  {
   "cell_type": "code",
   "execution_count": 8,
   "metadata": {},
   "outputs": [],
   "source": [
    "def get_single_row(food):\n",
    "    proteins, general, fats, category = parse_proteins(food), parse_general(food), parse_fats(food), parse_category(food)\n",
    "    single_row = pd.concat([general,proteins,fats,category]).T\n",
    "    single_row = single_row.rename({\"1\":food})\n",
    "    single_row = single_row.iloc[:,~single_row.columns.duplicated()]\n",
    "    del single_row.columns.name\n",
    "    return single_row"
   ]
  },
  {
   "cell_type": "code",
   "execution_count": null,
   "metadata": {},
   "outputs": [
    {
     "data": {
      "application/vnd.jupyter.widget-view+json": {
       "model_id": "d6b2f794c5c64827b9c114e201486be6",
       "version_major": 2,
       "version_minor": 0
      },
      "text/plain": [
       "HBox(children=(IntProgress(value=0, max=706), HTML(value='')))"
      ]
     },
     "metadata": {},
     "output_type": "display_data"
    },
    {
     "name": "stdout",
     "output_type": "stream",
     "text": [
      "\n"
     ]
    }
   ],
   "source": [
    "with Pool(cpu_count()) as p:\n",
    "    final_df = pd.concat(list(tqdm(p.imap(get_single_row, foods), total=len(foods))),sort=True)"
   ]
  },
  {
   "cell_type": "code",
   "execution_count": null,
   "metadata": {},
   "outputs": [],
   "source": [
    "final_df.columns[np.mean(pd.notna(final_df))<0.05]"
   ]
  },
  {
   "cell_type": "code",
   "execution_count": null,
   "metadata": {},
   "outputs": [],
   "source": [
    "final_df = final_df.drop(columns=final_df.columns[np.mean(pd.notna(final_df))<0.05])\n",
    "final_df.index.name = \"name\""
   ]
  },
  {
   "cell_type": "code",
   "execution_count": null,
   "metadata": {},
   "outputs": [],
   "source": [
    "for i , col in enumerate(final_df.columns):\n",
    "    if col != \"category\":\n",
    "        final_df.iloc[:,i] = final_df.iloc[:,i].astype(np.float)"
   ]
  },
  {
   "cell_type": "code",
   "execution_count": null,
   "metadata": {},
   "outputs": [],
   "source": [
    "final_df.to_csv(\"../csv/my_personal_trainer.csv\")"
   ]
  },
  {
   "cell_type": "code",
   "execution_count": null,
   "metadata": {},
   "outputs": [],
   "source": [
    "final_df.describe()"
   ]
  },
  {
   "cell_type": "code",
   "execution_count": null,
   "metadata": {},
   "outputs": [],
   "source": []
  },
  {
   "cell_type": "code",
   "execution_count": null,
   "metadata": {},
   "outputs": [],
   "source": []
  }
 ],
 "metadata": {
  "kernelspec": {
   "display_name": "Python 3",
   "language": "python",
   "name": "python3"
  },
  "language_info": {
   "codemirror_mode": {
    "name": "ipython",
    "version": 3
   },
   "file_extension": ".py",
   "mimetype": "text/x-python",
   "name": "python",
   "nbconvert_exporter": "python",
   "pygments_lexer": "ipython3",
   "version": "3.7.0"
  }
 },
 "nbformat": 4,
 "nbformat_minor": 2
}
