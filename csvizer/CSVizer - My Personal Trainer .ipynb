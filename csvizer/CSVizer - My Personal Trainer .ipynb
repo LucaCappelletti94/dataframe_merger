{
 "cells": [
  {
   "cell_type": "code",
   "execution_count": 1,
   "metadata": {},
   "outputs": [],
   "source": [
    "import os\n",
    "import re\n",
    "import numpy as np\n",
    "import pandas as pd\n",
    "import json\n",
    "from pprint import pprint\n",
    "from tqdm import tqdm_notebook as tqdm"
   ]
  },
  {
   "cell_type": "code",
   "execution_count": 2,
   "metadata": {},
   "outputs": [],
   "source": [
    "path = \"../raw/www.my-personaltrainer.it\"\n",
    "foods = [food for food in os.listdir(path) if food[0] != \".\"]\n",
    "tables = [table.split(\".csv\")[0] for table in os.listdir(\"{path}/{food}\".format(path=path, food=foods[0])) if table.endswith(\".csv\")]"
   ]
  },
  {
   "cell_type": "markdown",
   "metadata": {},
   "source": [
    "# Functions"
   ]
  },
  {
   "cell_type": "code",
   "execution_count": 3,
   "metadata": {},
   "outputs": [],
   "source": [
    "def parse_value(value):\n",
    "    if pd.isna(value):\n",
    "        return np.nan\n",
    "    elif \"%\" in value:\n",
    "        if value[:-1] == \"\":\n",
    "            return np.nan\n",
    "        return float(value[:-1].replace(\",\",\".\"))\n",
    "    elif \"µg\" in value:\n",
    "        return float(value[:-2].replace(\",\",\".\"))  / (1e6)\n",
    "    elif \"mg\" in value:\n",
    "        return float(value[:-2].replace(\",\",\".\")) / 1000\n",
    "    elif \"g\" in value:\n",
    "        return float(value[:-1].replace(\",\",\".\"))\n",
    "    elif value.replace('.','',1).isdigit():\n",
    "        return float(value)\n",
    "    elif value.lower() == \"tr\":\n",
    "        return 0\n",
    "    else:\n",
    "        return np.nan"
   ]
  },
  {
   "cell_type": "code",
   "execution_count": 4,
   "metadata": {},
   "outputs": [],
   "source": [
    "def parse_proteins(food):\n",
    "    file_path = \"{path}/{name}/{table}.csv\".format(path=path, name=food, table=1)\n",
    "    df = pd.read_csv(file_path)\n",
    "    df = df.iloc[1:] # Drop the titles\n",
    "    df.iloc[0,3] = df.iloc[0][2] # set the formatted percentage in the right cell\n",
    "    df = df.iloc[:,[1,3]]    # drop the useless columns\n",
    "    df = df.set_index(\"0\")\n",
    "\n",
    "    parsed_values = []\n",
    "    renamer = {}\n",
    "    for name, (value) in df.iterrows():\n",
    "        value = value[0]\n",
    "\n",
    "        if \"%\" in name or (not pd.isna(value) and \"%\" in value):\n",
    "            renamer[name] = name.lower() + \" | %\"\n",
    "        else:\n",
    "            renamer[name] = name.lower() + \" | g\"\n",
    "\n",
    "        parsed_values.append(parse_value(value))\n",
    "\n",
    "    df = df.rename(columns={\"2\":\"1\"})\n",
    "    df = df.rename(index=renamer) # rename the columns\n",
    "    df.iloc[:,[0]] = np.array(parsed_values).reshape((len(df),1)) # update the dataframe with the new parsed data\n",
    "    return df"
   ]
  },
  {
   "cell_type": "code",
   "execution_count": 5,
   "metadata": {},
   "outputs": [],
   "source": [
    "def parse_general(food):\n",
    "    file_path = \"{path}/{name}/{table}.csv\".format(path=path, name=foods[8], table=0)\n",
    "    df = pd.read_csv(file_path)\n",
    "    df = df.iloc[1:] # Drop the titles\n",
    "    df = df.iloc[:,[1,2]] # Drop the RDA col\n",
    "    df = df.set_index(\"0\") # Set the first col as the index\n",
    "    parsed_values = []\n",
    "    renamer = {}\n",
    "    for name, (value) in df.iterrows():\n",
    "        value = value[0]\n",
    "\n",
    "        if \"%\" in name or (not pd.isna(value) and \"%\" in value):\n",
    "            renamer[name] = name.lower() + \" | %\"\n",
    "        else:\n",
    "            renamer[name] = name.lower() + \" | g\"\n",
    "\n",
    "        parsed_values.append(parse_value(value))\n",
    "\n",
    "\n",
    "    df = df.rename(index=renamer) # rename the columns\n",
    "    df.iloc[:,[0]] = np.array(parsed_values).reshape((len(df),1)) # update the dataframe with the new parsed data\n",
    "    return df"
   ]
  },
  {
   "cell_type": "code",
   "execution_count": 6,
   "metadata": {},
   "outputs": [],
   "source": [
    "def parse_fats(food):\n",
    "    file_path = \"{path}/{name}/{table}.csv\".format(path=path, name=foods[8], table=2)\n",
    "    df = pd.read_csv(file_path)\n",
    "    df = df.iloc[1:] # Drop the titles\n",
    "    df = df.iloc[:,[1,2]] # Drop the index col\n",
    "    df = df.set_index(\"0\") # Set the first col as the index\n",
    "\n",
    "    parsed_values = []\n",
    "    renamer = {}\n",
    "    for name, (value) in df.iterrows():\n",
    "        value = value[0]\n",
    "\n",
    "\n",
    "        if \"%\" in name or (not pd.isna(value) and \"%\" in value):    \n",
    "            if name[0] == \"C\": # Grassi\n",
    "                renamer[name] = name.lower().replace(\" \",\":\") + \" | %\"\n",
    "            else:\n",
    "                renamer[name] = name.lower() + \" | %\"\n",
    "        else: \n",
    "            if name[0] == \"C\": # Grassi\n",
    "                renamer[name] = name.lower().replace(\" \",\":\") + \" | g\"\n",
    "            else:\n",
    "                renamer[name] = name.lower() + \" | g\"\n",
    "\n",
    "        parsed_values.append(parse_value(value))\n",
    "\n",
    "\n",
    "    df = df.rename(index=renamer) # rename the columns\n",
    "    df.iloc[:,[0]] = np.array(parsed_values).reshape((len(df),1)) # update the dataframe with the new parsed data\n",
    "    return df"
   ]
  },
  {
   "cell_type": "markdown",
   "metadata": {},
   "source": [
    "# Merge all the data"
   ]
  },
  {
   "cell_type": "code",
   "execution_count": 7,
   "metadata": {},
   "outputs": [],
   "source": [
    "columns = set([])"
   ]
  },
  {
   "cell_type": "code",
   "execution_count": 9,
   "metadata": {},
   "outputs": [],
   "source": [
    "for food in foods:\n",
    "    proteins, general, fats = parse_proteins(food), parse_general(food), parse_fats(food)\n",
    "    \n",
    "    single_row = pd.concat([general,proteins,fats]).T\n",
    "    single_row = single_row.rename({\"1\":food})\n",
    "    single_row = single_row.iloc[:,~single_row.columns.duplicated()]\n",
    "    del single_row.columns.name\n",
    "    columns |= set(single_row.columns)"
   ]
  },
  {
   "cell_type": "code",
   "execution_count": 10,
   "metadata": {},
   "outputs": [],
   "source": [
    "final_df = pd.DataFrame(columns=columns)"
   ]
  },
  {
   "cell_type": "code",
   "execution_count": 11,
   "metadata": {},
   "outputs": [],
   "source": [
    "for food in foods:\n",
    "    proteins, general, fats = parse_proteins(food), parse_general(food), parse_fats(food)\n",
    "    \n",
    "    single_row = pd.concat([general,proteins,fats]).T\n",
    "    single_row = single_row.rename({\"1\":food})\n",
    "    single_row = single_row.iloc[:,~single_row.columns.duplicated()]\n",
    "    del single_row.columns.name\n",
    "    # Add to the main csv\n",
    "    final_df = pd.concat([final_df,single_row],axis=0,sort=True)"
   ]
  },
  {
   "cell_type": "code",
   "execution_count": 13,
   "metadata": {},
   "outputs": [],
   "source": [
    "final_df.to_csv(\"../csv/my_personal_trainer.csv\")"
   ]
  },
  {
   "cell_type": "code",
   "execution_count": null,
   "metadata": {},
   "outputs": [],
   "source": []
  }
 ],
 "metadata": {
  "kernelspec": {
   "display_name": "Python 3",
   "language": "python",
   "name": "python3"
  },
  "language_info": {
   "codemirror_mode": {
    "name": "ipython",
    "version": 3
   },
   "file_extension": ".py",
   "mimetype": "text/x-python",
   "name": "python",
   "nbconvert_exporter": "python",
   "pygments_lexer": "ipython3",
   "version": "3.7.0"
  }
 },
 "nbformat": 4,
 "nbformat_minor": 2
}
