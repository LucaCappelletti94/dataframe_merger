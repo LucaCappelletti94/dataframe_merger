{
 "cells": [
  {
   "cell_type": "code",
   "execution_count": 1,
   "metadata": {},
   "outputs": [],
   "source": [
    "import os\n",
    "import re\n",
    "import numpy as np\n",
    "import pandas as pd\n",
    "import json\n",
    "from pprint import pprint\n",
    "from tqdm import tqdm_notebook as tqdm\n",
    "from multiprocessing import Pool, cpu_count\n",
    "from IPython.display import display"
   ]
  },
  {
   "cell_type": "markdown",
   "metadata": {},
   "source": [
    "### Determining food names and tables"
   ]
  },
  {
   "cell_type": "code",
   "execution_count": 2,
   "metadata": {},
   "outputs": [],
   "source": [
    "root = \"../raw/www.valori-alimenti.com\"\n",
    "foods = [food for food in os.listdir(root) if food[0] != \".\"]"
   ]
  },
  {
   "cell_type": "markdown",
   "metadata": {},
   "source": [
    "### Merging csv files"
   ]
  },
  {
   "cell_type": "code",
   "execution_count": 3,
   "metadata": {},
   "outputs": [],
   "source": [
    "def parse_food(food):\n",
    "    root = \"../raw/www.valori-alimenti.com\"\n",
    "    file_path = \"{path}/{name}/0.csv\".format(path=root, name=food)\n",
    "    df = pd.read_csv(file_path)\n",
    "    if df.empty or df.columns.size == 1:\n",
    "        return None\n",
    "    for index, value in df.iterrows():\n",
    "        if pd.isna(value).any():\n",
    "            df = df.drop(index)\n",
    "        elif value[1] == \"kj\":\n",
    "            df = df.drop(index)\n",
    "    df.index = df[\"0\"]\n",
    "    df = df.drop(columns=[\"0\"])\n",
    "    for index, (unit, value) in df.iterrows():\n",
    "        if isinstance(value, str) and \"tr\" in value:\n",
    "            value = 0.05\n",
    "        if unit in [\"mg\", \"mcg\", \"g\", \"kcal\"]:\n",
    "            if unit == \"mg\":\n",
    "                value = float(value) * 1e-3\n",
    "                unit = \"g\"\n",
    "            elif unit == \"mcg\":\n",
    "                value = float(value) * 1e-6\n",
    "                unit = \"g\"\n",
    "            elif unit:\n",
    "                value = float(value)\n",
    "            df.loc[index] = value\n",
    "        else:\n",
    "            df = df.drop(index)\n",
    "        new_index = \"{index} | {unit}\".format(\n",
    "            index=index, unit=unit).lower().strip().replace(\"  \", \" \")\n",
    "        df = df.rename(index={index: new_index})\n",
    "    df = df.drop(columns=[\"1\"])\n",
    "    df = df.transpose()\n",
    "    with open(\"{path}/{name}/metadata.json\".format(path=root, name=food),\n",
    "              \"r\") as f:\n",
    "        df[\"category\"] = json.load(f)[\"category\"]\n",
    "    df.index = [food]\n",
    "    df.index.name = \"name\"\n",
    "    del df.columns.name\n",
    "    return df"
   ]
  },
  {
   "cell_type": "code",
   "execution_count": 4,
   "metadata": {},
   "outputs": [
    {
     "data": {
      "application/vnd.jupyter.widget-view+json": {
       "model_id": "5364bd3da60e4704b52d55aa36742bd2",
       "version_major": 2,
       "version_minor": 0
      },
      "text/plain": [
       "HBox(children=(IntProgress(value=0, max=3263), HTML(value='')))"
      ]
     },
     "metadata": {},
     "output_type": "display_data"
    },
    {
     "name": "stdout",
     "output_type": "stream",
     "text": [
      "\n"
     ]
    }
   ],
   "source": [
    "with Pool(cpu_count()) as p:\n",
    "    valori_alimenti = pd.concat(list(tqdm(p.imap(parse_food, foods), total=len(foods))))"
   ]
  },
  {
   "cell_type": "markdown",
   "metadata": {},
   "source": [
    "### Drop rows without required columns"
   ]
  },
  {
   "cell_type": "code",
   "execution_count": 5,
   "metadata": {},
   "outputs": [],
   "source": [
    "required_columns = [\n",
    "    \"grassi | g\", \"carboidrati | g\", \"proteine | g\", \"fibre | g\", \"acqua | g\",\n",
    "    \"ceneri | g\"\n",
    "]"
   ]
  },
  {
   "cell_type": "code",
   "execution_count": 6,
   "metadata": {},
   "outputs": [],
   "source": [
    "valori_alimenti = valori_alimenti.drop(index=valori_alimenti.index[np.any(\n",
    "    pd.isna(valori_alimenti[required_columns]), axis=1)])"
   ]
  },
  {
   "cell_type": "markdown",
   "metadata": {},
   "source": [
    "### Drop rows whose sum isn't close to 100g"
   ]
  },
  {
   "cell_type": "code",
   "execution_count": 7,
   "metadata": {},
   "outputs": [],
   "source": [
    "grams = [\n",
    "    \"alcol etilico | g\",\n",
    "    \"caffeina | g\",\n",
    "    \"teobromina | g\",\n",
    "    \"grassi | g\",\n",
    "    \"carboidrati | g\",\n",
    "    \"proteine | g\",\n",
    "    \"fibre | g\",\n",
    "    \"acqua | g\",\n",
    "    \"ceneri | g\",\n",
    "    \"calcio | g\",\n",
    "    \"sodio | g\",\n",
    "    \"fosforo | g\",\n",
    "    \"potassio | g\",\n",
    "    \"ferro | g\",\n",
    "    \"magnesio | g\",\n",
    "    \"zinco | g\",\n",
    "    \"rame | g\",\n",
    "    \"manganese | g\",\n",
    "    \"selenio | g\",\n",
    "    \"retinolo (vit. a) | g\",\n",
    "    \"betaina | g\",\n",
    "    \"tiamina (vit. b1) | g\",\n",
    "    \"riboflavina (vit. b2) | g\",\n",
    "    \"niacina (vit. b3) | g\",\n",
    "    \"acido pantotenico (vit. b5) | g\",\n",
    "    \"piridossina (vit. b6) | g\",\n",
    "    \"acido folico (vit. b9 o m o folacina) | g\",\n",
    "    \"folato alimentare | g\",\n",
    "    \"folati, totali | g\",\n",
    "    \"cobalamina (vit. b12) | g\",\n",
    "    \"vitamina b-12, aggiunta | g\",\n",
    "    \"acido ascorbico (vit. c) | g\",\n",
    "    \"vitamina d (d2+d3) | g\",\n",
    "    \"vitamina d3 | g\",\n",
    "    \"alpha-tocoferolo (vit. e) | g\",\n",
    "    \"vitamina e, aggiunta | g\",\n",
    "    \"fillochinone (vit. k) | g\",\n",
    "    \"colina totale (vit. j) | g\",\n",
    "    \"carotene, beta | g\",\n",
    "    \"carotene, alfa | g\",\n",
    "    \"criptoxantina, beta | g\",\n",
    "    \"licopene | g\",\n",
    "    \"luteina + zeaxantina | g\"\n",
    "]"
   ]
  },
  {
   "cell_type": "code",
   "execution_count": 8,
   "metadata": {},
   "outputs": [],
   "source": [
    "to_normalize = list(set(valori_alimenti.columns) - set([\"category\"]))"
   ]
  },
  {
   "cell_type": "code",
   "execution_count": 9,
   "metadata": {},
   "outputs": [],
   "source": [
    "with open(\"./sanitization_parameters.json\", \"r\") as f:\n",
    "    window = json.load(f)[\"grams_maximal_window\"]"
   ]
  },
  {
   "cell_type": "code",
   "execution_count": 10,
   "metadata": {},
   "outputs": [],
   "source": [
    "def _and(*args):\n",
    "    return np.all(args, axis=0)\n",
    "\n",
    "def _or(*args):\n",
    "    return np.any(args, axis=0)"
   ]
  },
  {
   "cell_type": "code",
   "execution_count": 11,
   "metadata": {},
   "outputs": [
    {
     "data": {
      "text/plain": [
       "0.4249677283075551"
      ]
     },
     "execution_count": 11,
     "metadata": {},
     "output_type": "execute_result"
    }
   ],
   "source": [
    "np.mean(pd.isna(valori_alimenti.values))"
   ]
  },
  {
   "cell_type": "code",
   "execution_count": 12,
   "metadata": {},
   "outputs": [],
   "source": [
    "sums = np.sum(valori_alimenti[grams], axis=1)"
   ]
  },
  {
   "cell_type": "code",
   "execution_count": 13,
   "metadata": {},
   "outputs": [],
   "source": [
    "sums = np.sum(valori_alimenti[grams], axis=1)\n",
    "around_100g = valori_alimenti.iloc[_and(sums < 100 + window,\n",
    "                                        sums > 100 - window)].copy()\n",
    "around_100g[to_normalize] = around_100g[to_normalize].divide(\n",
    "    np.sum(around_100g[grams], axis=1), axis=\"index\") * 100\n",
    "\n",
    "valori_alimenti = around_100g"
   ]
  },
  {
   "cell_type": "code",
   "execution_count": 14,
   "metadata": {},
   "outputs": [
    {
     "data": {
      "text/plain": [
       "0.42619198263401287"
      ]
     },
     "execution_count": 14,
     "metadata": {},
     "output_type": "execute_result"
    }
   ],
   "source": [
    "np.mean(pd.isna(valori_alimenti.values))"
   ]
  },
  {
   "cell_type": "code",
   "execution_count": 15,
   "metadata": {},
   "outputs": [],
   "source": [
    "valori_alimenti.to_csv(\"../csv/valori_nutrizionali.csv\")"
   ]
  }
 ],
 "metadata": {
  "kernelspec": {
   "display_name": "Python 3",
   "language": "python",
   "name": "python3"
  },
  "language_info": {
   "codemirror_mode": {
    "name": "ipython",
    "version": 3
   },
   "file_extension": ".py",
   "mimetype": "text/x-python",
   "name": "python",
   "nbconvert_exporter": "python",
   "pygments_lexer": "ipython3",
   "version": "3.6.6"
  }
 },
 "nbformat": 4,
 "nbformat_minor": 2
}
