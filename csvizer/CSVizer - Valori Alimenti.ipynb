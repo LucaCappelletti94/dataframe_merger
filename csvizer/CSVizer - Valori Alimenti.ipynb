{
 "cells": [
  {
   "cell_type": "code",
   "execution_count": 22,
   "metadata": {},
   "outputs": [],
   "source": [
    "import os\n",
    "import re\n",
    "import numpy as np\n",
    "import pandas as pd\n",
    "import json\n",
    "from pprint import pprint\n",
    "from tqdm import tqdm_notebook as tqdm\n",
    "from multiprocessing import Pool, cpu_count"
   ]
  },
  {
   "cell_type": "markdown",
   "metadata": {},
   "source": [
    "### Determining food names and tables"
   ]
  },
  {
   "cell_type": "code",
   "execution_count": 29,
   "metadata": {},
   "outputs": [],
   "source": [
    "root = \"../raw/www.valori-alimenti.com\"\n",
    "foods = [food for food in os.listdir(root) if food[0] != \".\"]"
   ]
  },
  {
   "cell_type": "markdown",
   "metadata": {},
   "source": [
    "### Merging csv files"
   ]
  },
  {
   "cell_type": "code",
   "execution_count": 30,
   "metadata": {},
   "outputs": [],
   "source": [
    "def parse_food(food):\n",
    "    root = \"../raw/www.valori-alimenti.com\"\n",
    "    file_path = \"{path}/{name}/0.csv\".format(path=root, name=food)\n",
    "    df = pd.read_csv(file_path, index_col=0)\n",
    "    if df.empty:\n",
    "        return None\n",
    "    try:\n",
    "        for index, value in df.iterrows():\n",
    "            if pd.isna(value).any():\n",
    "                df = df.drop(index)\n",
    "        for index, (unit, value) in df.iterrows():\n",
    "            if isinstance(value, str) and \"tr\" in value:\n",
    "                value = 0.05\n",
    "            if unit not in [\"mg\", \"mcg\", \"g\", \"kcal\"]:\n",
    "                df = df.iloc[[0] + list(range(2, len(df.columns)))]\n",
    "                continue\n",
    "            if unit in [\"mg\", \"mcg\"]:\n",
    "                if unit == \"mg\":\n",
    "                    df.loc[index] = float(value) * 1e-3\n",
    "                elif unit == \"mcg\":\n",
    "                    df.loc[index] = float(value) * 1e-6\n",
    "                unit = \"g\"\n",
    "            df = df.rename(\n",
    "                index={\n",
    "                    index:\n",
    "                    \"{index} | {unit}\".format(index=index, unit=unit).lower()\n",
    "                    .strip().replace(\"  \", \" \")\n",
    "                })\n",
    "    except Exception as e:\n",
    "        pprint(food)\n",
    "        pprint(df)\n",
    "        raise e\n",
    "    df = df.drop(columns=[\"1\"])\n",
    "    df = df.transpose()\n",
    "    with open(\"{path}/{name}/metadata.json\".format(path=root, name=food),\n",
    "              \"r\") as f:\n",
    "        df[\"category\"] = json.load(f)[\"category\"]\n",
    "    df.index = [food]\n",
    "    df.index.name = \"name\"\n",
    "    del df.columns.name\n",
    "    return df"
   ]
  },
  {
   "cell_type": "code",
   "execution_count": null,
   "metadata": {},
   "outputs": [
    {
     "data": {
      "application/vnd.jupyter.widget-view+json": {
       "model_id": "d637fe9df634487ca1a03f8f55e6910e",
       "version_major": 2,
       "version_minor": 0
      },
      "text/plain": [
       "HBox(children=(IntProgress(value=0, max=3263), HTML(value='')))"
      ]
     },
     "metadata": {},
     "output_type": "display_data"
    }
   ],
   "source": [
    "from IPython.display import display\n",
    "with Pool(cpu_count()) as p:\n",
    "    valori_alimenti = pd.concat(list(tqdm(p.imap(parse_food, foods), total=len(foods))))\n",
    "valori_alimenti.index.name = \"name\"\n",
    "valori_alimenti.to_csv(\"../csv/valori_nutrizionali.csv\")"
   ]
  },
  {
   "cell_type": "code",
   "execution_count": null,
   "metadata": {},
   "outputs": [],
   "source": [
    "valori_alimenti"
   ]
  },
  {
   "cell_type": "code",
   "execution_count": null,
   "metadata": {},
   "outputs": [],
   "source": []
  }
 ],
 "metadata": {
  "kernelspec": {
   "display_name": "Python 3",
   "language": "python",
   "name": "python3"
  },
  "language_info": {
   "codemirror_mode": {
    "name": "ipython",
    "version": 3
   },
   "file_extension": ".py",
   "mimetype": "text/x-python",
   "name": "python",
   "nbconvert_exporter": "python",
   "pygments_lexer": "ipython3",
   "version": "3.6.6"
  }
 },
 "nbformat": 4,
 "nbformat_minor": 2
}
