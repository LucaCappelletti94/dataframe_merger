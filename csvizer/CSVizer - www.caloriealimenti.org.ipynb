{
 "cells": [
  {
   "cell_type": "code",
   "execution_count": 2,
   "metadata": {},
   "outputs": [],
   "source": [
    "import os\n",
    "import re\n",
    "import numpy as np\n",
    "import pandas as pd\n",
    "import json\n",
    "from pprint import pprint\n",
    "from tqdm import tqdm_notebook as tqdm"
   ]
  },
  {
   "cell_type": "markdown",
   "metadata": {},
   "source": [
    "### Determining food names"
   ]
  },
  {
   "cell_type": "code",
   "execution_count": 18,
   "metadata": {},
   "outputs": [],
   "source": [
    "root = \"../raw/www.caloriealimenti.org\"\n",
    "foods = [food.split(\".csv\")[0] for food in os.listdir(root) if food.endswith(\".csv\")]"
   ]
  },
  {
   "cell_type": "markdown",
   "metadata": {},
   "source": [
    "### Merging csv files and normalizing columns and unit"
   ]
  },
  {
   "cell_type": "code",
   "execution_count": 21,
   "metadata": {},
   "outputs": [],
   "source": [
    "caloriealimenti = pd.DataFrame([])\n",
    "for food in foods:\n",
    "    df = pd.read_csv(\"{root}/{food}.csv\".format(root=root, food=food), index_col=\"Alimento\").drop(columns=[\"Unnamed: 0\", \"Kilojoule\", \"Porzione.1\", \"Porzione\"])\n",
    "    df[\"category\"] = food\n",
    "    df.columns = [\"calorie | kcal\", \"category\"]\n",
    "    for index, (calories, category) in df.iterrows():\n",
    "        df.loc[index, \"calorie | kcal\"] = float(str(calories).split(\"kcal\")[0])    \n",
    "    df.index.name=\"name\"\n",
    "    caloriealimenti = caloriealimenti.append(df)\n",
    "caloriealimenti.to_csv(\"../csv/caloriealimenti.csv\")"
   ]
  }
 ],
 "metadata": {
  "kernelspec": {
   "display_name": "Python 3",
   "language": "python",
   "name": "python3"
  },
  "language_info": {
   "codemirror_mode": {
    "name": "ipython",
    "version": 3
   },
   "file_extension": ".py",
   "mimetype": "text/x-python",
   "name": "python",
   "nbconvert_exporter": "python",
   "pygments_lexer": "ipython3",
   "version": "3.6.6"
  }
 },
 "nbformat": 4,
 "nbformat_minor": 2
}
