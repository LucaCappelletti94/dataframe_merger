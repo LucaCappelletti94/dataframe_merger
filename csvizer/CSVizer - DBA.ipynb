{
 "cells": [
  {
   "cell_type": "code",
   "execution_count": 1,
   "metadata": {},
   "outputs": [],
   "source": [
    "import os\n",
    "import re\n",
    "import numpy as np\n",
    "import pandas as pd\n",
    "import json\n",
    "from pprint import pprint\n",
    "from tqdm import tqdm_notebook as tqdm\n",
    "from multiprocessing import Pool, cpu_count"
   ]
  },
  {
   "cell_type": "markdown",
   "metadata": {},
   "source": [
    "### Determining food names and tables"
   ]
  },
  {
   "cell_type": "code",
   "execution_count": 2,
   "metadata": {},
   "outputs": [],
   "source": [
    "path = \"../raw/www.bda-ieo.it\"\n",
    "foods = [food for food in os.listdir(path) if food[0] != \".\"]"
   ]
  },
  {
   "cell_type": "markdown",
   "metadata": {},
   "source": [
    "### Merging csv files"
   ]
  },
  {
   "cell_type": "code",
   "execution_count": 3,
   "metadata": {},
   "outputs": [],
   "source": [
    "def create_row(food):\n",
    "    path = \"../raw/www.bda-ieo.it\"\n",
    "    file_path = \"{path}/{name}/0.csv\".format(path=path, name=food)\n",
    "    df = pd.read_csv(file_path, usecols=(\"0\", \"1\"))\n",
    "    for index, value in df.iterrows():\n",
    "        if pd.isna(value).any():\n",
    "            df = df.drop(index)\n",
    "    df= df.reset_index().drop(columns=[\"index\"])\n",
    "    df.columns = df.iloc[0]\n",
    "    df.index = df[\"Componenti Alimentari\"]\n",
    "    df = df.drop(columns=[\"Componenti Alimentari\"])\n",
    "    df = df.drop(\"Componenti Alimentari\")\n",
    "    df = df.drop([c for c in df.index if \"kJ\" in c])\n",
    "    for index, value in df.iterrows():\n",
    "        value = value[\"Valore\"]\n",
    "        if isinstance(value, str) and \"tr\" in value:\n",
    "            value = 0.05\n",
    "        if any([unit in index for unit in [\"mg\", \"mcg\"]]):\n",
    "            if \", mg\" in index:\n",
    "                value = float(value)*1e-3\n",
    "            elif \", mcg\" in index or \", µg\" in index:\n",
    "                value = float(value)*1e-6\n",
    "        else:\n",
    "            value = float(value)\n",
    "        df.loc[index] = value\n",
    "        replace = {\n",
    "            \"mg\":\"g\",\n",
    "            \"µg\": \"g\",\n",
    "            \"mcg\": \"g\",\n",
    "            \"kcal\":\"kcal\",\n",
    "            \"g\":\"g\",\n",
    "            \"%\": \"%\"\n",
    "        }\n",
    "        new_index = index\n",
    "        for unit in replace:\n",
    "            new_index = new_index.replace(\", {unit}\".format(unit=unit), \" | {unit}\".format(unit=replace[unit]))\n",
    "        new_index = new_index.replace(\"  \", \" \")\n",
    "        df = df.rename(index={index:new_index})\n",
    "    df = df.transpose()\n",
    "    del df.columns.name\n",
    "    df.index = [food]\n",
    "    df.index.name = \"name\"\n",
    "    return df.astype(float)"
   ]
  },
  {
   "cell_type": "code",
   "execution_count": 4,
   "metadata": {},
   "outputs": [
    {
     "data": {
      "application/vnd.jupyter.widget-view+json": {
       "model_id": "49fbf9030fd3406d8793691d35e9ec0c",
       "version_major": 2,
       "version_minor": 0
      },
      "text/plain": [
       "HBox(children=(IntProgress(value=0, max=978), HTML(value='')))"
      ]
     },
     "metadata": {},
     "output_type": "display_data"
    },
    {
     "name": "stdout",
     "output_type": "stream",
     "text": [
      "\n"
     ]
    }
   ],
   "source": [
    "from IPython.display import display\n",
    "\n",
    "with Pool(cpu_count()) as p:\n",
    "    bda = pd.concat(list(tqdm(p.imap(create_row, foods), total=len(foods))))\n",
    "bda.to_csv(\"../csv/bda.csv\")"
   ]
  },
  {
   "cell_type": "code",
   "execution_count": null,
   "metadata": {},
   "outputs": [],
   "source": []
  }
 ],
 "metadata": {
  "kernelspec": {
   "display_name": "Python 3",
   "language": "python",
   "name": "python3"
  },
  "language_info": {
   "codemirror_mode": {
    "name": "ipython",
    "version": 3
   },
   "file_extension": ".py",
   "mimetype": "text/x-python",
   "name": "python",
   "nbconvert_exporter": "python",
   "pygments_lexer": "ipython3",
   "version": "3.6.6"
  }
 },
 "nbformat": 4,
 "nbformat_minor": 2
}
