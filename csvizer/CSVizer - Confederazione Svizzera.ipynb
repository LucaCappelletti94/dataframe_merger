{
 "cells": [
  {
   "cell_type": "markdown",
   "metadata": {},
   "source": [
    "# Source\n",
    "http://www.valorinutritivi.ch/request?xml=MessageData&xml=MetaData&xsl=Download&lan=it&pageKey=Start"
   ]
  },
  {
   "cell_type": "code",
   "execution_count": 1,
   "metadata": {},
   "outputs": [],
   "source": [
    "import pandas as pd\n",
    "from pprint import pprint"
   ]
  },
  {
   "cell_type": "code",
   "execution_count": 2,
   "metadata": {},
   "outputs": [],
   "source": [
    "path = \"../raw/Swiss Food Comp Data V5.3.xlsx\""
   ]
  },
  {
   "cell_type": "code",
   "execution_count": 3,
   "metadata": {},
   "outputs": [],
   "source": [
    "df = pd.read_excel(path)"
   ]
  },
  {
   "cell_type": "code",
   "execution_count": 4,
   "metadata": {},
   "outputs": [],
   "source": [
    "df.columns = df.iloc[1]\n",
    "df.reindex(df.index.drop(1))\n",
    "df = df.drop([0,1])\n",
    "df = df.drop(columns=['ID','ID V 4.0','ID SwissFIR','name D','synonyms D','name F','synonyms F','name E','synonyms E','category D','category F',\n",
    " 'category E'])\n",
    "df.columns = [\"name\",\"synonyms\",\"category\"] + list(df.columns[3:])\n",
    "df = df.drop(columns=[\"record has changed\",'matrix unit', 'value type', 'source'])\n",
    "df = df.set_index(\"name\")"
   ]
  },
  {
   "cell_type": "code",
   "execution_count": 5,
   "metadata": {},
   "outputs": [
    {
     "data": {
      "text/html": [
       "<div>\n",
       "<style scoped>\n",
       "    .dataframe tbody tr th:only-of-type {\n",
       "        vertical-align: middle;\n",
       "    }\n",
       "\n",
       "    .dataframe tbody tr th {\n",
       "        vertical-align: top;\n",
       "    }\n",
       "\n",
       "    .dataframe thead th {\n",
       "        text-align: right;\n",
       "    }\n",
       "</style>\n",
       "<table border=\"1\" class=\"dataframe\">\n",
       "  <thead>\n",
       "    <tr style=\"text-align: right;\">\n",
       "      <th></th>\n",
       "      <th>synonyms</th>\n",
       "      <th>category</th>\n",
       "      <th>specific gravity</th>\n",
       "      <th>energy kJ</th>\n",
       "      <th>unit</th>\n",
       "      <th>energy kcal</th>\n",
       "      <th>unit</th>\n",
       "      <th>protein</th>\n",
       "      <th>unit</th>\n",
       "      <th>alcohol</th>\n",
       "      <th>...</th>\n",
       "      <th>magnesium (Mg)</th>\n",
       "      <th>unit</th>\n",
       "      <th>phosphorus (P)</th>\n",
       "      <th>unit</th>\n",
       "      <th>iron (Fe)</th>\n",
       "      <th>unit</th>\n",
       "      <th>iodide (I)</th>\n",
       "      <th>unit</th>\n",
       "      <th>zinc (Zn)</th>\n",
       "      <th>unit</th>\n",
       "    </tr>\n",
       "  </thead>\n",
       "  <tbody>\n",
       "    <tr>\n",
       "      <th>count</th>\n",
       "      <td>96</td>\n",
       "      <td>999</td>\n",
       "      <td>124.0</td>\n",
       "      <td>999</td>\n",
       "      <td>999</td>\n",
       "      <td>999</td>\n",
       "      <td>999</td>\n",
       "      <td>999.0</td>\n",
       "      <td>999</td>\n",
       "      <td>996.0</td>\n",
       "      <td>...</td>\n",
       "      <td>991.0</td>\n",
       "      <td>991</td>\n",
       "      <td>991.0</td>\n",
       "      <td>991</td>\n",
       "      <td>992.0</td>\n",
       "      <td>992</td>\n",
       "      <td>970.0</td>\n",
       "      <td>970</td>\n",
       "      <td>992.0</td>\n",
       "      <td>992</td>\n",
       "    </tr>\n",
       "    <tr>\n",
       "      <th>unique</th>\n",
       "      <td>67</td>\n",
       "      <td>118</td>\n",
       "      <td>11.0</td>\n",
       "      <td>584</td>\n",
       "      <td>1</td>\n",
       "      <td>426</td>\n",
       "      <td>1</td>\n",
       "      <td>285.0</td>\n",
       "      <td>1</td>\n",
       "      <td>28.0</td>\n",
       "      <td>...</td>\n",
       "      <td>156.0</td>\n",
       "      <td>1</td>\n",
       "      <td>172.0</td>\n",
       "      <td>1</td>\n",
       "      <td>83.0</td>\n",
       "      <td>1</td>\n",
       "      <td>144.0</td>\n",
       "      <td>1</td>\n",
       "      <td>70.0</td>\n",
       "      <td>1</td>\n",
       "    </tr>\n",
       "    <tr>\n",
       "      <th>top</th>\n",
       "      <td>Trito</td>\n",
       "      <td>Verdure/Verdure cotte (incl. conserve)</td>\n",
       "      <td>1.0</td>\n",
       "      <td>1490</td>\n",
       "      <td>kilojoule</td>\n",
       "      <td>30</td>\n",
       "      <td>kilocalorie</td>\n",
       "      <td>0.0</td>\n",
       "      <td>gram</td>\n",
       "      <td>0.0</td>\n",
       "      <td>...</td>\n",
       "      <td>18.0</td>\n",
       "      <td>milligram</td>\n",
       "      <td>110.0</td>\n",
       "      <td>milligram</td>\n",
       "      <td>0.5</td>\n",
       "      <td>milligram</td>\n",
       "      <td>0.0</td>\n",
       "      <td>microgram</td>\n",
       "      <td>0.1</td>\n",
       "      <td>milligram</td>\n",
       "    </tr>\n",
       "    <tr>\n",
       "      <th>freq</th>\n",
       "      <td>4</td>\n",
       "      <td>53</td>\n",
       "      <td>60.0</td>\n",
       "      <td>12</td>\n",
       "      <td>999</td>\n",
       "      <td>13</td>\n",
       "      <td>999</td>\n",
       "      <td>36.0</td>\n",
       "      <td>999</td>\n",
       "      <td>951.0</td>\n",
       "      <td>...</td>\n",
       "      <td>46.0</td>\n",
       "      <td>991</td>\n",
       "      <td>40.0</td>\n",
       "      <td>991</td>\n",
       "      <td>72.0</td>\n",
       "      <td>992</td>\n",
       "      <td>71.0</td>\n",
       "      <td>970</td>\n",
       "      <td>91.0</td>\n",
       "      <td>992</td>\n",
       "    </tr>\n",
       "  </tbody>\n",
       "</table>\n",
       "<p>4 rows × 77 columns</p>\n",
       "</div>"
      ],
      "text/plain": [
       "       synonyms                                category  specific gravity  \\\n",
       "count        96                                     999             124.0   \n",
       "unique       67                                     118              11.0   \n",
       "top       Trito  Verdure/Verdure cotte (incl. conserve)               1.0   \n",
       "freq          4                                      53              60.0   \n",
       "\n",
       "        energy kJ       unit  energy kcal         unit  protein  unit  \\\n",
       "count         999        999          999          999    999.0   999   \n",
       "unique        584          1          426            1    285.0     1   \n",
       "top          1490  kilojoule           30  kilocalorie      0.0  gram   \n",
       "freq           12        999           13          999     36.0   999   \n",
       "\n",
       "        alcohol    ...     magnesium (Mg)       unit phosphorus (P)  \\\n",
       "count     996.0    ...              991.0        991          991.0   \n",
       "unique     28.0    ...              156.0          1          172.0   \n",
       "top         0.0    ...               18.0  milligram          110.0   \n",
       "freq      951.0    ...               46.0        991           40.0   \n",
       "\n",
       "             unit iron (Fe)       unit iodide (I)       unit zinc (Zn)  \\\n",
       "count         991     992.0        992      970.0        970     992.0   \n",
       "unique          1      83.0          1      144.0          1      70.0   \n",
       "top     milligram       0.5  milligram        0.0  microgram       0.1   \n",
       "freq          991      72.0        992       71.0        970      91.0   \n",
       "\n",
       "             unit  \n",
       "count         992  \n",
       "unique          1  \n",
       "top     milligram  \n",
       "freq          992  \n",
       "\n",
       "[4 rows x 77 columns]"
      ]
     },
     "execution_count": 5,
     "metadata": {},
     "output_type": "execute_result"
    }
   ],
   "source": [
    "df.describe()"
   ]
  },
  {
   "cell_type": "code",
   "execution_count": 6,
   "metadata": {},
   "outputs": [],
   "source": [
    "# Drop energy in kj\n",
    "df = df.iloc[:,[i for i,x in enumerate(df.columns) if i not in [3,4]]]"
   ]
  },
  {
   "cell_type": "code",
   "execution_count": 7,
   "metadata": {},
   "outputs": [],
   "source": [
    "# Coefficents to convert units to the sandards (kcal, g)\n",
    "conversion = {\n",
    "    \"kilocalorie\":1,\n",
    "    \"gram\":1,\n",
    "    \"milligram\":1e-3,\n",
    "    \"microgram\":1e-6\n",
    "}"
   ]
  },
  {
   "cell_type": "code",
   "execution_count": 8,
   "metadata": {},
   "outputs": [],
   "source": [
    "# normalize the data\n",
    "cols_to_skips = []\n",
    "for i in range(5,len(df.columns),2):\n",
    "    if \"retinol equivalent\" in df.iloc[:,i+1].tolist():\n",
    "        cols_to_skips.append(i)\n",
    "        continue \n",
    "    if \"beta-carotene equivalent\" in df.iloc[:,i+1].tolist():\n",
    "        cols_to_skips.append(i)\n",
    "        continue \n",
    "    if \"alpha-tocopherol equivalent\" in df.iloc[:,i+1].tolist():\n",
    "        cols_to_skips.append(i)\n",
    "        continue \n",
    "    df.iloc[:,i] *= [conversion[x] if not pd.isna(x) else 1 for x in df.iloc[:,i+1] ]"
   ]
  },
  {
   "cell_type": "code",
   "execution_count": 9,
   "metadata": {},
   "outputs": [
    {
     "name": "stdout",
     "output_type": "stream",
     "text": [
      "[0, 1, 2, 3, 5, 7, 9, 11, 13, 15, 17, 19, 21, 23, 25, 27, 29, 31, 33, 35, 37, 39, 41, 43, 45, 47, 49, 51, 53, 55, 57, 59, 61, 63, 65, 67, 69, 71, 73]\n"
     ]
    }
   ],
   "source": [
    "#drop unit cols\n",
    "index = [0,1,2] + list(range(3,len(df.columns),2))\n",
    "print(index)\n",
    "for i in cols_to_skips:\n",
    "    index.remove(i)\n",
    "df = df.iloc[:,index]"
   ]
  },
  {
   "cell_type": "code",
   "execution_count": 10,
   "metadata": {},
   "outputs": [],
   "source": [
    "import re\n",
    "regex = r\"(\\([^\\)]+\\))\"\n",
    "df.columns = [re.sub(regex, \"\", x, 0, re.MULTILINE).lower().strip() for x in df.columns]"
   ]
  },
  {
   "cell_type": "code",
   "execution_count": 11,
   "metadata": {},
   "outputs": [],
   "source": [
    "tofloat = [\n",
    "    \"energy kcal\", 'protein', 'alcohol', 'water', 'carbohydrates, available',\n",
    "    'starch', 'sugars', 'dietary fibres', 'fat, total', 'cholesterol',\n",
    "    'fatty acids, monounsaturated', 'fatty acids, saturated',\n",
    "    'fatty acids, polyunsaturated', 'beta-carotene', 'vitamin b1',\n",
    "    'specific gravity', 'vitamin b2', 'vitamin b6', 'vitamin b12', 'niacin',\n",
    "    'folate', 'pantothenic acid', 'vitamin c', 'vitamin d', 'sodium',\n",
    "    'potassium', 'chloride', 'calcium', 'magnesium', 'phosphorus', 'iron',\n",
    "    'iodide', 'zinc'\n",
    "]\n",
    "df = df.astype({k: float for k in tofloat})"
   ]
  },
  {
   "cell_type": "code",
   "execution_count": 12,
   "metadata": {},
   "outputs": [
    {
     "data": {
      "text/plain": [
       "Index(['synonyms', 'category', 'specific gravity', 'energy kcal', 'protein',\n",
       "       'alcohol', 'water', 'carbohydrates, available', 'starch', 'sugars',\n",
       "       'dietary fibres', 'fat, total', 'cholesterol',\n",
       "       'fatty acids, monounsaturated', 'fatty acids, saturated',\n",
       "       'fatty acids, polyunsaturated', 'beta-carotene', 'vitamin b1',\n",
       "       'vitamin b2', 'vitamin b6', 'vitamin b12', 'niacin', 'folate',\n",
       "       'pantothenic acid', 'vitamin c', 'vitamin d', 'sodium', 'potassium',\n",
       "       'chloride', 'calcium', 'magnesium', 'phosphorus', 'iron', 'iodide',\n",
       "       'zinc'],\n",
       "      dtype='object')"
      ]
     },
     "execution_count": 12,
     "metadata": {},
     "output_type": "execute_result"
    }
   ],
   "source": [
    "df.columns"
   ]
  },
  {
   "cell_type": "code",
   "execution_count": 13,
   "metadata": {},
   "outputs": [
    {
     "ename": "ValueError",
     "evalue": "Length mismatch: Expected axis has 35 elements, new values have 36 elements",
     "output_type": "error",
     "traceback": [
      "\u001b[0;31m---------------------------------------------------------------------------\u001b[0m",
      "\u001b[0;31mValueError\u001b[0m                                Traceback (most recent call last)",
      "\u001b[0;32m<ipython-input-13-f791440d4a7b>\u001b[0m in \u001b[0;36m<module>\u001b[0;34m()\u001b[0m\n\u001b[1;32m      1\u001b[0m \u001b[0;31m# remove white spaces and add units\u001b[0m\u001b[0;34m\u001b[0m\u001b[0;34m\u001b[0m\u001b[0m\n\u001b[0;32m----> 2\u001b[0;31m \u001b[0mdf\u001b[0m\u001b[0;34m.\u001b[0m\u001b[0mcolumns\u001b[0m \u001b[0;34m=\u001b[0m \u001b[0;34m[\u001b[0m\u001b[0;34m'synonyms'\u001b[0m\u001b[0;34m,\u001b[0m \u001b[0;34m'category'\u001b[0m\u001b[0;34m,\u001b[0m\u001b[0;34m'specific gravity'\u001b[0m\u001b[0;34m]\u001b[0m \u001b[0;34m+\u001b[0m \u001b[0;34m[\u001b[0m\u001b[0;34m\"energy | kcal\"\u001b[0m\u001b[0;34m]\u001b[0m \u001b[0;34m+\u001b[0m \u001b[0;34m[\u001b[0m\u001b[0mre\u001b[0m\u001b[0;34m.\u001b[0m\u001b[0msub\u001b[0m\u001b[0;34m(\u001b[0m\u001b[0;34mr\"(\\s+)\"\u001b[0m\u001b[0;34m,\u001b[0m \u001b[0;34m\" \"\u001b[0m\u001b[0;34m,\u001b[0m \u001b[0mx\u001b[0m\u001b[0;34m,\u001b[0m \u001b[0;36m0\u001b[0m\u001b[0;34m,\u001b[0m \u001b[0mre\u001b[0m\u001b[0;34m.\u001b[0m\u001b[0mMULTILINE\u001b[0m\u001b[0;34m)\u001b[0m\u001b[0;34m.\u001b[0m\u001b[0mstrip\u001b[0m\u001b[0;34m(\u001b[0m\u001b[0;34m)\u001b[0m \u001b[0;34m+\u001b[0m \u001b[0;34m\" | g\"\u001b[0m \u001b[0;32mfor\u001b[0m \u001b[0mx\u001b[0m \u001b[0;32min\u001b[0m \u001b[0mtofloat\u001b[0m\u001b[0;34m[\u001b[0m\u001b[0;36m1\u001b[0m\u001b[0;34m:\u001b[0m\u001b[0;34m]\u001b[0m\u001b[0;34m]\u001b[0m\u001b[0;34m\u001b[0m\u001b[0m\n\u001b[0m",
      "\u001b[0;32m~/anaconda3/lib/python3.7/site-packages/pandas/core/generic.py\u001b[0m in \u001b[0;36m__setattr__\u001b[0;34m(self, name, value)\u001b[0m\n\u001b[1;32m   4387\u001b[0m         \u001b[0;32mtry\u001b[0m\u001b[0;34m:\u001b[0m\u001b[0;34m\u001b[0m\u001b[0m\n\u001b[1;32m   4388\u001b[0m             \u001b[0mobject\u001b[0m\u001b[0;34m.\u001b[0m\u001b[0m__getattribute__\u001b[0m\u001b[0;34m(\u001b[0m\u001b[0mself\u001b[0m\u001b[0;34m,\u001b[0m \u001b[0mname\u001b[0m\u001b[0;34m)\u001b[0m\u001b[0;34m\u001b[0m\u001b[0m\n\u001b[0;32m-> 4389\u001b[0;31m             \u001b[0;32mreturn\u001b[0m \u001b[0mobject\u001b[0m\u001b[0;34m.\u001b[0m\u001b[0m__setattr__\u001b[0m\u001b[0;34m(\u001b[0m\u001b[0mself\u001b[0m\u001b[0;34m,\u001b[0m \u001b[0mname\u001b[0m\u001b[0;34m,\u001b[0m \u001b[0mvalue\u001b[0m\u001b[0;34m)\u001b[0m\u001b[0;34m\u001b[0m\u001b[0m\n\u001b[0m\u001b[1;32m   4390\u001b[0m         \u001b[0;32mexcept\u001b[0m \u001b[0mAttributeError\u001b[0m\u001b[0;34m:\u001b[0m\u001b[0;34m\u001b[0m\u001b[0m\n\u001b[1;32m   4391\u001b[0m             \u001b[0;32mpass\u001b[0m\u001b[0;34m\u001b[0m\u001b[0m\n",
      "\u001b[0;32mpandas/_libs/properties.pyx\u001b[0m in \u001b[0;36mpandas._libs.properties.AxisProperty.__set__\u001b[0;34m()\u001b[0m\n",
      "\u001b[0;32m~/anaconda3/lib/python3.7/site-packages/pandas/core/generic.py\u001b[0m in \u001b[0;36m_set_axis\u001b[0;34m(self, axis, labels)\u001b[0m\n\u001b[1;32m    644\u001b[0m \u001b[0;34m\u001b[0m\u001b[0m\n\u001b[1;32m    645\u001b[0m     \u001b[0;32mdef\u001b[0m \u001b[0m_set_axis\u001b[0m\u001b[0;34m(\u001b[0m\u001b[0mself\u001b[0m\u001b[0;34m,\u001b[0m \u001b[0maxis\u001b[0m\u001b[0;34m,\u001b[0m \u001b[0mlabels\u001b[0m\u001b[0;34m)\u001b[0m\u001b[0;34m:\u001b[0m\u001b[0;34m\u001b[0m\u001b[0m\n\u001b[0;32m--> 646\u001b[0;31m         \u001b[0mself\u001b[0m\u001b[0;34m.\u001b[0m\u001b[0m_data\u001b[0m\u001b[0;34m.\u001b[0m\u001b[0mset_axis\u001b[0m\u001b[0;34m(\u001b[0m\u001b[0maxis\u001b[0m\u001b[0;34m,\u001b[0m \u001b[0mlabels\u001b[0m\u001b[0;34m)\u001b[0m\u001b[0;34m\u001b[0m\u001b[0m\n\u001b[0m\u001b[1;32m    647\u001b[0m         \u001b[0mself\u001b[0m\u001b[0;34m.\u001b[0m\u001b[0m_clear_item_cache\u001b[0m\u001b[0;34m(\u001b[0m\u001b[0;34m)\u001b[0m\u001b[0;34m\u001b[0m\u001b[0m\n\u001b[1;32m    648\u001b[0m \u001b[0;34m\u001b[0m\u001b[0m\n",
      "\u001b[0;32m~/anaconda3/lib/python3.7/site-packages/pandas/core/internals.py\u001b[0m in \u001b[0;36mset_axis\u001b[0;34m(self, axis, new_labels)\u001b[0m\n\u001b[1;32m   3321\u001b[0m             raise ValueError(\n\u001b[1;32m   3322\u001b[0m                 \u001b[0;34m'Length mismatch: Expected axis has {old} elements, new '\u001b[0m\u001b[0;34m\u001b[0m\u001b[0m\n\u001b[0;32m-> 3323\u001b[0;31m                 'values have {new} elements'.format(old=old_len, new=new_len))\n\u001b[0m\u001b[1;32m   3324\u001b[0m \u001b[0;34m\u001b[0m\u001b[0m\n\u001b[1;32m   3325\u001b[0m         \u001b[0mself\u001b[0m\u001b[0;34m.\u001b[0m\u001b[0maxes\u001b[0m\u001b[0;34m[\u001b[0m\u001b[0maxis\u001b[0m\u001b[0;34m]\u001b[0m \u001b[0;34m=\u001b[0m \u001b[0mnew_labels\u001b[0m\u001b[0;34m\u001b[0m\u001b[0m\n",
      "\u001b[0;31mValueError\u001b[0m: Length mismatch: Expected axis has 35 elements, new values have 36 elements"
     ]
    }
   ],
   "source": [
    "# remove white spaces and add units\n",
    "df.columns = ['synonyms', 'category','specific gravity'] + [\"energy | kcal\"] + [re.sub(r\"(\\s+)\", \" \", x, 0, re.MULTILINE).strip() + \" | g\" for x in tofloat[1:]]"
   ]
  },
  {
   "cell_type": "code",
   "execution_count": null,
   "metadata": {},
   "outputs": [],
   "source": [
    "df.columns.to_series().groupby(df.dtypes).groups"
   ]
  },
  {
   "cell_type": "code",
   "execution_count": null,
   "metadata": {},
   "outputs": [],
   "source": [
    "df.to_csv(\"../csv/confederazione_svizzera.csv\")"
   ]
  },
  {
   "cell_type": "code",
   "execution_count": null,
   "metadata": {},
   "outputs": [],
   "source": [
    "df"
   ]
  },
  {
   "cell_type": "code",
   "execution_count": null,
   "metadata": {},
   "outputs": [],
   "source": []
  }
 ],
 "metadata": {
  "kernelspec": {
   "display_name": "Python 3",
   "language": "python",
   "name": "python3"
  },
  "language_info": {
   "codemirror_mode": {
    "name": "ipython",
    "version": 3
   },
   "file_extension": ".py",
   "mimetype": "text/x-python",
   "name": "python",
   "nbconvert_exporter": "python",
   "pygments_lexer": "ipython3",
   "version": "3.7.0"
  }
 },
 "nbformat": 4,
 "nbformat_minor": 2
}
