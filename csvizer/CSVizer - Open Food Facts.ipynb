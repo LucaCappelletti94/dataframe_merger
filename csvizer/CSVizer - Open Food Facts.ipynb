{
 "cells": [
  {
   "cell_type": "code",
   "execution_count": 1,
   "metadata": {},
   "outputs": [],
   "source": [
    "import os\n",
    "import re\n",
    "import numpy as np\n",
    "import pandas as pd\n",
    "import json\n",
    "from pprint import pprint\n",
    "from tqdm import tqdm_notebook as tqdm\n",
    "from multiprocessing import Pool, cpu_count"
   ]
  },
  {
   "cell_type": "markdown",
   "metadata": {},
   "source": [
    "### Determining food names and tables"
   ]
  },
  {
   "cell_type": "code",
   "execution_count": 2,
   "metadata": {},
   "outputs": [],
   "source": [
    "root = \"../raw/it.openfoodfacts.org\"\n",
    "foods = [food for food in os.listdir(root) if food[0] != \".\"]"
   ]
  },
  {
   "cell_type": "markdown",
   "metadata": {},
   "source": [
    "### Merging csv files"
   ]
  },
  {
   "cell_type": "code",
   "execution_count": 3,
   "metadata": {},
   "outputs": [],
   "source": [
    "def parse_food(food):\n",
    "    textual = set([\n",
    "        \"Categorie\", \"Confezionamento\", \"Etichette, certificazioni, premi\",\n",
    "        \"Nutrition score  France\", \"barcode\",\n",
    "        \"Link alla pagina del prodotto sul sito ufficiale del produttore\",\n",
    "        \"Quantità\", \"Luoghi di produzione o lavorazione\", \"Marche\", \"Negozi\",\n",
    "        \"Nome generico\", \"NutriScore\", \"Origine degli ingredienti\",\n",
    "        \"Paesi di vendita\", \"additives\", \"codice EMB\", \"ingredients\", \"name\"\n",
    "    ])\n",
    "    root = \"../raw/it.openfoodfacts.org\"\n",
    "    file_path = \"{path}/{name}/Informazioni nutrizionali.csv\".format(\n",
    "        path=root, name=food)\n",
    "    try:\n",
    "        df = pd.read_csv(\n",
    "            file_path,\n",
    "            usecols=[\n",
    "                \"Informazioni nutrizionali\", \"Come vendutoper 100 g / 100 ml\"\n",
    "            ],\n",
    "            index_col=\"Informazioni nutrizionali\")\n",
    "    except Exception as e:\n",
    "        return None\n",
    "    if (df == \"?\").any().any():\n",
    "        return None\n",
    "    for index, value in df.iterrows():\n",
    "        value = value[\"Come vendutoper 100 g / 100 ml\"]\n",
    "        if isinstance(value, str):\n",
    "            unit = \"\"\n",
    "            value = value.replace(\".\", \"\").replace(\",\", \".\").replace(\"<\", \"\")\n",
    "            if \"mg\" in value:\n",
    "                value = float(value.split(\"mg\")[0]) * 1e-3\n",
    "                unit = \"g\"\n",
    "            elif \"µg\" in value:\n",
    "                value = float(value.split(\"µg\")[0]) * 1e-6\n",
    "                unit = \"g\"\n",
    "            elif \"g\" in value:\n",
    "                value = float(value.split(\"g\")[0])\n",
    "                unit = \"g\"\n",
    "            elif \"% vol\" in value:\n",
    "                value = float(value.split(\"% vol\")[0])\n",
    "                unit = \"% vol\"\n",
    "            elif \"%\" in value:\n",
    "                value = float(value.split(\"%\")[0])\n",
    "                unit = \"%\"\n",
    "            elif re.match(\"-?[\\dA-Z]\", value):\n",
    "                pass\n",
    "            else:\n",
    "                raise ValueError(str((value, index)))\n",
    "            df.loc[index] = value\n",
    "            if unit:\n",
    "                df = df.rename(\n",
    "                    index={\n",
    "                        index:\n",
    "                        \"{index} | {unit}\".format(index=index, unit=unit)\n",
    "                        .lower().strip().replace(\"  \", \" \")\n",
    "                    })\n",
    "\n",
    "    df = df.transpose()\n",
    "    with open(\"{path}/{name}/metadata.json\".format(path=root, name=food),\n",
    "              \"r\") as f:\n",
    "        for key, value in json.load(f).items():\n",
    "            if value:\n",
    "                df[key] = value.replace(\"\\n\", \"; \")\n",
    "    df.index = df[\"name\"]\n",
    "    df.index.name = \"name\"\n",
    "    df = df.drop(columns=[\"name\"])\n",
    "    df.columns = [c.replace(\"-\", \"\").strip() for c in df.columns]\n",
    "    del df.columns.name\n",
    "    df = df.astype({\n",
    "        c:float\n",
    "        for c in set(df.columns) - textual\n",
    "    })\n",
    "    return df"
   ]
  },
  {
   "cell_type": "code",
   "execution_count": 4,
   "metadata": {},
   "outputs": [
    {
     "data": {
      "application/vnd.jupyter.widget-view+json": {
       "model_id": "19134f74c3be42e9b56faed4cb567af9",
       "version_major": 2,
       "version_minor": 0
      },
      "text/plain": [
       "HBox(children=(IntProgress(value=0, max=867), HTML(value='')))"
      ]
     },
     "metadata": {},
     "output_type": "display_data"
    },
    {
     "name": "stdout",
     "output_type": "stream",
     "text": [
      "\n"
     ]
    }
   ],
   "source": [
    "from IPython.display import display\n",
    "with Pool(cpu_count()) as p:\n",
    "    open_food_facts = pd.concat(\n",
    "        list(tqdm(p.imap(parse_food, foods), total=len(foods))))"
   ]
  },
  {
   "cell_type": "code",
   "execution_count": 5,
   "metadata": {},
   "outputs": [],
   "source": [
    "tofloat = [\n",
    "    'zuccheri | g'\n",
    "]\n",
    "open_food_facts = open_food_facts.astype({k: float for k in tofloat})"
   ]
  },
  {
   "cell_type": "markdown",
   "metadata": {},
   "source": [
    "### Drop columns that have more than 90% of nan values"
   ]
  },
  {
   "cell_type": "code",
   "execution_count": 6,
   "metadata": {},
   "outputs": [],
   "source": [
    "open_food_facts = open_food_facts.drop(columns=open_food_facts.columns[np.mean(pd.isna(open_food_facts))>0.9])"
   ]
  },
  {
   "cell_type": "code",
   "execution_count": 7,
   "metadata": {},
   "outputs": [
    {
     "data": {
      "text/plain": [
       "Index(['Categorie', 'Confezionamento', 'Etichette, certificazioni, premi',\n",
       "       'Link alla pagina del prodotto sul sito ufficiale del produttore',\n",
       "       'Luoghi di produzione o lavorazione', 'Marche', 'Negozi',\n",
       "       'Nome generico', 'NutriScore', 'Nutrition score  France',\n",
       "       'Origine degli ingredienti', 'Paesi di vendita', 'Quantità',\n",
       "       'acidi grassi saturi | g', 'additives', 'barcode', 'carboidrati | g',\n",
       "       'codice EMB', 'fibra alimentare | g', 'grassi | g', 'ingredients',\n",
       "       'proteine | g', 'sale | g', 'sodio | g', 'zuccheri | g'],\n",
       "      dtype='object')"
      ]
     },
     "execution_count": 7,
     "metadata": {},
     "output_type": "execute_result"
    }
   ],
   "source": [
    "open_food_facts.columns"
   ]
  },
  {
   "cell_type": "code",
   "execution_count": 8,
   "metadata": {},
   "outputs": [],
   "source": [
    "grams = [\n",
    "    'carboidrati | g', 'proteine | g', 'sale | g', 'sodio | g',\n",
    "    'fibra alimentare | g', 'grassi | g'\n",
    "]"
   ]
  },
  {
   "cell_type": "code",
   "execution_count": 9,
   "metadata": {},
   "outputs": [],
   "source": [
    "to_normalize = [c for c in open_food_facts.columns if \"| g\" in c]"
   ]
  },
  {
   "cell_type": "code",
   "execution_count": 10,
   "metadata": {},
   "outputs": [],
   "source": [
    "def _and(*args):\n",
    "    return np.all(args, axis=0)\n",
    "\n",
    "def _or(*args):\n",
    "    return np.any(args, axis=0)"
   ]
  },
  {
   "cell_type": "code",
   "execution_count": 11,
   "metadata": {},
   "outputs": [],
   "source": [
    "with open(\"./sanitization_parameters.json\", \"r\") as f:\n",
    "    window = json.load(f)[\"grams_maximal_window\"]\n",
    "sums = np.sum(open_food_facts[grams], axis=1)\n",
    "around_100g = open_food_facts.iloc[_and(sums<100+window, sums>100-window)].copy()\n",
    "around_100g[to_normalize] = around_100g[to_normalize].divide(np.sum(around_100g[grams], axis=1), axis=\"index\")*100\n",
    "open_food_facts=around_100g"
   ]
  },
  {
   "cell_type": "markdown",
   "metadata": {},
   "source": [
    "### Drop columns that don't sum to 100"
   ]
  },
  {
   "cell_type": "code",
   "execution_count": 12,
   "metadata": {},
   "outputs": [],
   "source": [
    "open_food_facts.to_csv(\"../csv/openfoodsfacts.csv\")"
   ]
  },
  {
   "cell_type": "code",
   "execution_count": null,
   "metadata": {},
   "outputs": [],
   "source": []
  }
 ],
 "metadata": {
  "kernelspec": {
   "display_name": "Python 3",
   "language": "python",
   "name": "python3"
  },
  "language_info": {
   "codemirror_mode": {
    "name": "ipython",
    "version": 3
   },
   "file_extension": ".py",
   "mimetype": "text/x-python",
   "name": "python",
   "nbconvert_exporter": "python",
   "pygments_lexer": "ipython3",
   "version": "3.6.6"
  }
 },
 "nbformat": 4,
 "nbformat_minor": 2
}
