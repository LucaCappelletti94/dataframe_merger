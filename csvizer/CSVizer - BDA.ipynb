{
 "cells": [
  {
   "cell_type": "code",
   "execution_count": 74,
   "metadata": {},
   "outputs": [],
   "source": [
    "import os\n",
    "import numpy as np\n",
    "import pandas as pd\n",
    "from tqdm import tqdm_notebook as tqdm\n",
    "from pprint import pprint"
   ]
  },
  {
   "cell_type": "code",
   "execution_count": 15,
   "metadata": {},
   "outputs": [],
   "source": [
    "path = \"Downloads/bda\""
   ]
  },
  {
   "cell_type": "code",
   "execution_count": 18,
   "metadata": {},
   "outputs": [],
   "source": [
    "names = np.array([\n",
    "    name.split(\".json\")[0] for path, dirs, names in os.walk(path)\n",
    "    for name in names if name.endswith(\".json\")\n",
    "])"
   ]
  },
  {
   "cell_type": "code",
   "execution_count": 99,
   "metadata": {},
   "outputs": [
    {
     "data": {
      "text/plain": [
       "978"
      ]
     },
     "execution_count": 99,
     "metadata": {},
     "output_type": "execute_result"
    }
   ],
   "source": [
    "len(names)"
   ]
  },
  {
   "cell_type": "code",
   "execution_count": 53,
   "metadata": {},
   "outputs": [
    {
     "name": "stdout",
     "output_type": "stream",
     "text": [
      "Parte edibile | % 75\n",
      "Energia,  ricalcolata | kJ 172\n",
      "Energia,  Ric con fibra | kJ 190\n",
      "Energia,  ricalcolata | kcal 40\n",
      "Energia,  Ric con fibra | kcal 45\n",
      "Proteine totali | g 0,9\n",
      "   Proteine animali | g 0,0\n",
      "   Proteine vegetali | g 0,9\n",
      "Lipidi totali | g 0,6\n",
      "   Lipidi animali | g 0,0\n",
      "   Lipidi vegetali | g 0,6\n",
      "Colesterolo | mg 0\n",
      "Carboidrati disponibili (MSE) | g 8,4\n",
      "   Amido (MSE) | g 0,0\n",
      "   Carboidrati solubili (MSE) | g 8,4\n",
      "Fibra alimentare totale | g 2,3\n",
      "Alcol | g 0,0\n",
      "Acqua | g 80,0\n",
      "Ferro | mg 1,5\n",
      "Calcio | mg 14\n",
      "Sodio | mg 2\n",
      "Potassio | mg 347\n",
      "Fosforo | mg 63\n",
      "Zinco | mg 0,56\n",
      "Vitamina B1,  Tiamina | mg 0,14\n",
      "Vitamina B2,  Riboflavina | mg 0,02\n",
      "Vitamina C | mg 5\n",
      "Niacina | mg 1,30\n",
      "Vitamina B6 | mg 0,21\n",
      "Folati totali | µg 3\n",
      "   Retinolo eq. (RE) | µg 5\n",
      "   Retinolo | µg 0\n",
      "   ß-carotene eq. | µg 30\n",
      "Vitamina E (ATE) | mg 0,01\n",
      "Vitamina D | µg 0,00\n",
      "Acidi grassi saturi totali | g 0,11\n",
      "Acidi grassi monoinsaturi totali | g 0,01\n",
      "Acido oleico | g 0,01\n",
      "Acidi grassi polinsaturi totali | g 0,30\n",
      "Acido linoleico | g 0,27\n",
      "Acido linolenico | g 0,02\n",
      "Altri acidi grassi polinsaturi | g 0,01\n"
     ]
    }
   ],
   "source": [
    "df = pd.read_csv(\"{path}/{name}.csv\".format(path=path, name=names[0]))\n",
    "df = df.drop(columns=['Unnamed: 0'])\n",
    "df[\"components\"] = df[\"components\"] + \" |\" + df[\"unit\"]\n",
    "for c, v in zip(df[\"components\"], df[\"value\"]):\n",
    "    print(c, v)"
   ]
  },
  {
   "cell_type": "code",
   "execution_count": 96,
   "metadata": {
    "scrolled": false
   },
   "outputs": [
    {
     "data": {
      "application/vnd.jupyter.widget-view+json": {
       "model_id": "18a3ec271db1422fb8a0d6b71a949c35",
       "version_major": 2,
       "version_minor": 0
      },
      "text/plain": [
       "HBox(children=(IntProgress(value=0, max=978), HTML(value='')))"
      ]
     },
     "metadata": {},
     "output_type": "display_data"
    },
    {
     "name": "stdout",
     "output_type": "stream",
     "text": [
      "\n"
     ]
    }
   ],
   "source": [
    "merged = pd.DataFrame([], columns=chiavi_uniche.keys())\n",
    "for name in tqdm(names):\n",
    "    row = np.zeros((1, len(chiavi_uniche)))\n",
    "    df = pd.read_csv(\"{path}/{name}.csv\".format(path=path, name=name))\n",
    "    df[\"components\"] = df[\"components\"] + \" |\" + df[\"unit\"]\n",
    "    for c, v in zip(df[\"components\"], df[\"value\"]):\n",
    "        row[0, chiavi_uniche[c]] = v.replace(\",\", \".\").replace(\"tr\", \"0\")\n",
    "    rowdf = pd.DataFrame(row, columns=chiavi_uniche.keys())\n",
    "    rowdf[\"name\"] = name.lower().strip() # add name informations\n",
    "    merged = merged.append(rowdf)\n",
    "    \n",
    "merged = merged.set_index(\"name\") # set name as the index of the DataFrame"
   ]
  },
  {
   "cell_type": "code",
   "execution_count": 98,
   "metadata": {
    "scrolled": false
   },
   "outputs": [],
   "source": [
    "merged.to_csv(\"bda.csv\")"
   ]
  },
  {
   "cell_type": "code",
   "execution_count": 43,
   "metadata": {},
   "outputs": [
    {
     "data": {
      "text/html": [
       "<div>\n",
       "<style scoped>\n",
       "    .dataframe tbody tr th:only-of-type {\n",
       "        vertical-align: middle;\n",
       "    }\n",
       "\n",
       "    .dataframe tbody tr th {\n",
       "        vertical-align: top;\n",
       "    }\n",
       "\n",
       "    .dataframe thead th {\n",
       "        text-align: right;\n",
       "    }\n",
       "</style>\n",
       "<table border=\"1\" class=\"dataframe\">\n",
       "  <thead>\n",
       "    <tr style=\"text-align: right;\">\n",
       "      <th></th>\n",
       "      <th>Isoleucina</th>\n",
       "      <th>Sodio</th>\n",
       "      <th>Acido oleico</th>\n",
       "      <th>Acido glutammico</th>\n",
       "      <th>Acido miristoleico</th>\n",
       "      <th>Fruttosio</th>\n",
       "      <th>Fosforo</th>\n",
       "      <th>Fenilalanina</th>\n",
       "      <th>Valina</th>\n",
       "      <th>Alanina</th>\n",
       "      <th>...</th>\n",
       "      <th>Lipidi animali</th>\n",
       "      <th>Vitamina K</th>\n",
       "      <th>Biotina</th>\n",
       "      <th>Cloro</th>\n",
       "      <th>Treonina</th>\n",
       "      <th>Acido pantotenico</th>\n",
       "      <th>Acido linolenico</th>\n",
       "      <th>Folati totali</th>\n",
       "      <th>Energia,  ricalcolata</th>\n",
       "      <th>Selenio</th>\n",
       "    </tr>\n",
       "  </thead>\n",
       "  <tbody>\n",
       "  </tbody>\n",
       "</table>\n",
       "<p>0 rows × 89 columns</p>\n",
       "</div>"
      ],
      "text/plain": [
       "Empty DataFrame\n",
       "Columns: [Isoleucina, Sodio, Acido oleico, Acido glutammico, Acido miristoleico, Fruttosio, Fosforo, Fenilalanina, Valina, Alanina, Acidi grassi saturi totali, Carboidrati disponibili (MSE), Zolfo, Metionina, Ferro, Acido eicosapentaenoico (EPA), Serina, Fibra alimentare totale, Proteine totali, Acido miristico,    Lipidi vegetali, Acido erucico, Glucosio, Manganese,    Retinolo, Galattosio, Arginina, Saccarosio (MSE), Vitamina B1,  Tiamina, Prolina, Altri acidi grassi polinsaturi, Lisina, Potassio, Alcol, Acido linoleico, Acido decosaesaenoico (DHA), Lipidi totali, Acido palmitico, Parte edibile, Vitamina D, Acqua, Energia,  Ric con fibra, Zinco, Acidi eicosenoico, Colesterolo, Leucina,    Carboidrati solubili (MSE), Acido arachidonico, Acido palmitoleico,    ß-carotene eq., Calcio, Tirosina, Glicina, Vitamina B12, Vitamina C, Niacina, Maltosio (MSE), Vitamina E (ATE),    Amido (MSE), Istidina, Somma degli acidi butirrico,  caproico,  caprilico e caprico, Acido laurico, Acidi grassi polinsaturi totali, Triptofano, Magnesio, Cistina, Lattosio (MSE), Acido aspartico,    Retinolo eq. (RE), Acido beenico,    Proteine vegetali, Acido stearico, Rame, Vitamina B2,  Riboflavina, Acidi grassi monoinsaturi totali, Vitamina B6,    Proteine animali, Acido arachidico, Iodio,    Lipidi animali, Vitamina K, Biotina, Cloro, Treonina, Acido pantotenico, Acido linolenico, Folati totali, Energia,  ricalcolata, Selenio]\n",
       "Index: []\n",
       "\n",
       "[0 rows x 89 columns]"
      ]
     },
     "execution_count": 43,
     "metadata": {},
     "output_type": "execute_result"
    }
   ],
   "source": [
    "total_sets = [set(pd.read_csv(\"{path}/{name}.csv\".format(\n",
    "    path=path, name=name))['components']) for name in names]"
   ]
  },
  {
   "cell_type": "code",
   "execution_count": 56,
   "metadata": {},
   "outputs": [],
   "source": [
    "total = set()\n",
    "for name in names:\n",
    "    df = pd.read_csv(\"{path}/{name}.csv\".format(path=path, name=name))\n",
    "    df[\"components\"] = df[\"components\"] + \" |\" + df[\"unit\"]\n",
    "    total |= set(df[\"components\"])"
   ]
  },
  {
   "cell_type": "code",
   "execution_count": 57,
   "metadata": {},
   "outputs": [],
   "source": [
    "chiavi_uniche = {key:i for i,key in enumerate(total)}"
   ]
  },
  {
   "cell_type": "code",
   "execution_count": 59,
   "metadata": {},
   "outputs": [
    {
     "data": {
      "text/plain": [
       "91"
      ]
     },
     "execution_count": 59,
     "metadata": {},
     "output_type": "execute_result"
    }
   ],
   "source": [
    "len(chiavi_uniche)"
   ]
  },
  {
   "cell_type": "code",
   "execution_count": null,
   "metadata": {},
   "outputs": [],
   "source": [
    "df = pd.read_csv(\"{path}/{name}.csv\".format(\n",
    "    path=path, name=names[2]))\n",
    "df = df.drop(columns=['Unnamed: 0'])\n",
    "len(df)"
   ]
  }
 ],
 "metadata": {
  "kernelspec": {
   "display_name": "Python 3",
   "language": "python",
   "name": "python3"
  },
  "language_info": {
   "codemirror_mode": {
    "name": "ipython",
    "version": 3
   },
   "file_extension": ".py",
   "mimetype": "text/x-python",
   "name": "python",
   "nbconvert_exporter": "python",
   "pygments_lexer": "ipython3",
   "version": "3.6.6"
  }
 },
 "nbformat": 4,
 "nbformat_minor": 2
}
