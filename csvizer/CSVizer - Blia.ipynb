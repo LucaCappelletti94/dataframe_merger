{
 "cells": [
  {
   "cell_type": "code",
   "execution_count": 1,
   "metadata": {},
   "outputs": [],
   "source": [
    "import os\n",
    "import re\n",
    "import numpy as np\n",
    "import pandas as pd\n",
    "import json\n",
    "from pprint import pprint\n",
    "from tqdm import tqdm_notebook as tqdm\n",
    "from multiprocessing import Pool, cpu_count"
   ]
  },
  {
   "cell_type": "markdown",
   "metadata": {},
   "source": [
    "### Determining food names and tables"
   ]
  },
  {
   "cell_type": "code",
   "execution_count": 2,
   "metadata": {},
   "outputs": [],
   "source": [
    "root = \"../raw/blia.it\"\n",
    "foods = [food.split(\".csv\")[0] for food in os.listdir(root) if food.endswith(\".csv\")]"
   ]
  },
  {
   "cell_type": "markdown",
   "metadata": {},
   "source": [
    "### Merging csv files and normalizing columns and unit"
   ]
  },
  {
   "cell_type": "code",
   "execution_count": 3,
   "metadata": {},
   "outputs": [],
   "source": [
    "def build(food):\n",
    "    initial_index_name = \"valori\"\n",
    "    final_index_name = \"name\"\n",
    "    units_column = \"u.m.\"\n",
    "    value_column = \"quantità\"\n",
    "    factors = {\n",
    "        \"mg\":1e-3,\n",
    "        \"mcg\":1e-6\n",
    "    }\n",
    "    root = \"../raw/blia.it\"\n",
    "    path = \"{root}/{food}.csv\".format(root=root, food=food)\n",
    "    df = pd.read_csv(path, index_col=0, usecols=[0, 1, 2, 3])\n",
    "    df = df.rename(columns=df.iloc[0]).drop(0)\n",
    "    df.columns = [c.strip().lower() for c in [initial_index_name, *df.columns[1:]]]\n",
    "    df.index = df[initial_index_name]\n",
    "    df = df.drop(columns=[initial_index_name])\n",
    "    for index, (unit, value) in df.iterrows():\n",
    "        if unit in [\"mg\", \"mcg\"]:\n",
    "            df.loc[index] = \"g\", float(value)*factors[unit]\n",
    "        else:\n",
    "            df.loc[index][value_column] = float(value)\n",
    "        df = df.rename(index={index: \"{index} | {unit}\".format(index=index.lower(), unit=df.loc[index][units_column])})\n",
    "    del df.index.name\n",
    "    df = df.drop(columns=[units_column]).transpose()\n",
    "    df.index = [food]\n",
    "    df.index.name = final_index_name\n",
    "    return df.astype(float)"
   ]
  },
  {
   "cell_type": "code",
   "execution_count": 4,
   "metadata": {},
   "outputs": [
    {
     "data": {
      "application/vnd.jupyter.widget-view+json": {
       "model_id": "dd4e6f07322b4c4fa087d3b8cf2f0741",
       "version_major": 2,
       "version_minor": 0
      },
      "text/plain": [
       "HBox(children=(IntProgress(value=0, max=791), HTML(value='')))"
      ]
     },
     "metadata": {},
     "output_type": "display_data"
    },
    {
     "name": "stdout",
     "output_type": "stream",
     "text": [
      "\n"
     ]
    }
   ],
   "source": [
    "with Pool(cpu_count()) as p:\n",
    "    blia = pd.concat(list(tqdm(p.imap(build, foods), total=len(foods))))"
   ]
  },
  {
   "cell_type": "code",
   "execution_count": 5,
   "metadata": {},
   "outputs": [],
   "source": [
    "grams = [\n",
    "    \"acqua | g\",\n",
    "    \"fibra alimentare | g\",\n",
    "    \"proteine totali | g\",\n",
    "    \"glucidi disponibili | g\",\n",
    "    \"lipidi totali | g\",\n",
    "    \"alcool | g\",\n",
    "    \"acido folico | g\",\n",
    "    \"niacina (vit. pp) | g\",\n",
    "    \"retinolo | g\",\n",
    "    \"carotene | g\",\n",
    "    \"vitamina d | g\",\n",
    "    \"vitamina e | g\",\n",
    "    \"vitamina b6 | g\",\n",
    "    \"vitamina c | g\",\n",
    "    \"tiamina (vit.b1) | g\",\n",
    "    \"zinco | g\",\n",
    "    \"fosforo | g\",\n",
    "    \"potassio | g\",\n",
    "    \"sodio | g\",\n",
    "    \"calcio | g\",\n",
    "    \"ferro | g\"\n",
    "]"
   ]
  },
  {
   "cell_type": "code",
   "execution_count": 6,
   "metadata": {},
   "outputs": [],
   "source": [
    "def _and(*args):\n",
    "    return np.all(args, axis=0)\n",
    "\n",
    "def _or(*args):\n",
    "    return np.any(args, axis=0)"
   ]
  },
  {
   "cell_type": "code",
   "execution_count": 7,
   "metadata": {},
   "outputs": [],
   "source": [
    "with open(\"./sanitization_parameters.json\", \"r\") as f:\n",
    "    window = json.load(f)[\"grams_maximal_window\"]\n",
    "sums = np.sum(blia[grams], axis=1)\n",
    "around_100g = blia.iloc[_and(sums<100+window, sums>100-window)]\n",
    "blia = around_100g.divide(np.sum(around_100g[grams], axis=1), axis=\"index\")*100"
   ]
  },
  {
   "cell_type": "code",
   "execution_count": 8,
   "metadata": {},
   "outputs": [],
   "source": [
    "blia.to_csv(\"../csv/blia.csv\")"
   ]
  }
 ],
 "metadata": {
  "kernelspec": {
   "display_name": "Python 3",
   "language": "python",
   "name": "python3"
  },
  "language_info": {
   "codemirror_mode": {
    "name": "ipython",
    "version": 3
   },
   "file_extension": ".py",
   "mimetype": "text/x-python",
   "name": "python",
   "nbconvert_exporter": "python",
   "pygments_lexer": "ipython3",
   "version": "3.6.6"
  }
 },
 "nbformat": 4,
 "nbformat_minor": 2
}
