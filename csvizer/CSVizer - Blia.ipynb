{
 "cells": [
  {
   "cell_type": "code",
   "execution_count": 1,
   "metadata": {},
   "outputs": [],
   "source": [
    "import os\n",
    "import re\n",
    "import numpy as np\n",
    "import pandas as pd\n",
    "import json\n",
    "from pprint import pprint\n",
    "from tqdm import tqdm_notebook as tqdm"
   ]
  },
  {
   "cell_type": "markdown",
   "metadata": {},
   "source": [
    "### Determining food names and tables"
   ]
  },
  {
   "cell_type": "code",
   "execution_count": 3,
   "metadata": {},
   "outputs": [],
   "source": [
    "root = \"../raw/blia.it\"\n",
    "foods = [food.split(\".csv\")[0] for food in os.listdir(root) if food.endswith(\".csv\")]"
   ]
  },
  {
   "cell_type": "markdown",
   "metadata": {},
   "source": [
    "### Merging csv files and normalizing columns and unit"
   ]
  },
  {
   "cell_type": "code",
   "execution_count": 4,
   "metadata": {},
   "outputs": [
    {
     "data": {
      "application/vnd.jupyter.widget-view+json": {
       "model_id": "99d2bf9f79d8484abf18ea4755f58cd7",
       "version_major": 2,
       "version_minor": 0
      },
      "text/plain": [
       "HBox(children=(IntProgress(value=0, max=791), HTML(value='')))"
      ]
     },
     "metadata": {},
     "output_type": "display_data"
    },
    {
     "name": "stdout",
     "output_type": "stream",
     "text": [
      "\n"
     ]
    }
   ],
   "source": [
    "from IPython.display import display\n",
    "\n",
    "initial_index_name = \"valori\"\n",
    "final_index_name = \"name\"\n",
    "units_column = \"u.m.\"\n",
    "value_column = \"quantità\"\n",
    "factors = {\n",
    "    \"mg\":1e-3,\n",
    "    \"mcg\":1e-6\n",
    "}\n",
    "blia = pd.DataFrame([])\n",
    "blia.index.name=final_index_name\n",
    "for food in tqdm(foods):\n",
    "    path = \"{root}/{food}.csv\".format(root=root, food=food)\n",
    "    df = pd.read_csv(path, index_col=0, usecols=[0, 1, 2, 3])\n",
    "    df = df.rename(columns=df.iloc[0]).drop(0)\n",
    "    df.columns = [c.strip().lower() for c in [initial_index_name, *df.columns[1:]]]\n",
    "    df.index = df[initial_index_name]\n",
    "    df = df.drop(columns=[initial_index_name])\n",
    "    for index, (unit, value) in df.iterrows():\n",
    "        if unit in [\"mg\", \"mcg\"]:\n",
    "            df.loc[index] = \"g\", float(value)*factors[unit]\n",
    "        else:\n",
    "            df.loc[index][value_column] = float(value)\n",
    "        df = df.rename(index={index: \"{index} | {unit}\".format(index=index.lower(), unit=df.loc[index][units_column])})\n",
    "    del df.index.name\n",
    "    df = df.drop(columns=[units_column]).transpose()\n",
    "    df.index = [food]\n",
    "    df.index.name = final_index_name\n",
    "    blia = blia.append(df)\n",
    "\n",
    "blia.to_csv(\"../csv/blia.csv\")"
   ]
  }
 ],
 "metadata": {
  "kernelspec": {
   "display_name": "Python 3",
   "language": "python",
   "name": "python3"
  },
  "language_info": {
   "codemirror_mode": {
    "name": "ipython",
    "version": 3
   },
   "file_extension": ".py",
   "mimetype": "text/x-python",
   "name": "python",
   "nbconvert_exporter": "python",
   "pygments_lexer": "ipython3",
   "version": "3.6.6"
  }
 },
 "nbformat": 4,
 "nbformat_minor": 2
}
