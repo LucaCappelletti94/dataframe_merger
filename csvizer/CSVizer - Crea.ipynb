{
 "cells": [
  {
   "cell_type": "code",
   "execution_count": 1,
   "metadata": {},
   "outputs": [],
   "source": [
    "import os\n",
    "import re\n",
    "import numpy as np\n",
    "import pandas as pd\n",
    "import json\n",
    "from pprint import pprint\n",
    "import requests\n",
    "from bs4 import BeautifulSoup\n",
    "from tqdm import tqdm_notebook as tqdm\n",
    "from IPython.display import display"
   ]
  },
  {
   "cell_type": "markdown",
   "metadata": {},
   "source": [
    "### Determining food names and tables"
   ]
  },
  {
   "cell_type": "code",
   "execution_count": 2,
   "metadata": {},
   "outputs": [],
   "source": [
    "root = \"../raw/nut.entecra.it/\"\n",
    "foods = [food for food in os.listdir(root) if food[0] != \".\"]\n",
    "tables = [\n",
    "    table.split(\".csv\")[0]\n",
    "    for table in os.listdir(\"{root}/{food}\".format(root=root, food=foods[0]))\n",
    "    if table.endswith(\".csv\")\n",
    "]"
   ]
  },
  {
   "cell_type": "markdown",
   "metadata": {},
   "source": [
    "### Merging csv files"
   ]
  },
  {
   "cell_type": "code",
   "execution_count": 3,
   "metadata": {},
   "outputs": [
    {
     "data": {
      "application/vnd.jupyter.widget-view+json": {
       "model_id": "597f4afdb3e8437d97f5100b564c1603",
       "version_major": 2,
       "version_minor": 0
      },
      "text/plain": [
       "HBox(children=(IntProgress(value=0, max=790), HTML(value='')))"
      ]
     },
     "metadata": {},
     "output_type": "display_data"
    },
    {
     "name": "stdout",
     "output_type": "stream",
     "text": [
      "\n"
     ]
    }
   ],
   "source": [
    "crea = pd.concat([pd.concat([pd.read_csv(\"{path}/{table}.csv\".format(\n",
    "            path=\"{root}/{food}\".format(root=root, food=food), table=table), usecols=[\"0\", \"1\"], index_col=\"0\") for table in tables]).transpose() for food in tqdm(foods)])\n",
    "crea.index = foods\n",
    "crea.index.name = \"name\""
   ]
  },
  {
   "cell_type": "code",
   "execution_count": 4,
   "metadata": {},
   "outputs": [],
   "source": [
    "crea = crea.drop(columns=[c for c in crea.columns if any([s in c for s in [\"(%)\", \"÷\"]])])"
   ]
  },
  {
   "cell_type": "markdown",
   "metadata": {},
   "source": [
    "### Renaming columns"
   ]
  },
  {
   "cell_type": "code",
   "execution_count": 5,
   "metadata": {},
   "outputs": [],
   "source": [
    "crea.columns = [re.sub(\"\\(([\\w\\W]+)\\)\", r\" | \\1\", c.lower().strip(\":\")).replace(\"  \", \" \") for c in crea.columns]\n"
   ]
  },
  {
   "cell_type": "markdown",
   "metadata": {},
   "source": [
    "### Dropping near entirely NaN columns"
   ]
  },
  {
   "cell_type": "code",
   "execution_count": 6,
   "metadata": {},
   "outputs": [
    {
     "name": "stdout",
     "output_type": "stream",
     "text": [
      "Dropping Index(['note'], dtype='object')\n"
     ]
    }
   ],
   "source": [
    "print(\"Dropping {columns}\".format(columns = crea.columns[np.mean(pd.notna(crea))<0.1]))\n",
    "crea = crea.drop(columns=crea.columns[np.mean(pd.notna(crea))<0.1])"
   ]
  },
  {
   "cell_type": "markdown",
   "metadata": {},
   "source": [
    "### Adding missing units"
   ]
  },
  {
   "cell_type": "code",
   "execution_count": 7,
   "metadata": {
    "scrolled": false
   },
   "outputs": [],
   "source": [
    "url = \"http://nut.entecra.it/646/tabelle_di_composizione_degli_alimenti.html?idalimento=104020&quant=100\"\n",
    "response = requests.get(url)\n",
    "soup = BeautifulSoup(response.text, \"html5lib\")\n",
    "mg_columns = [\n",
    "    c.lower().strip(\":\") for c in pd.read_html(str(soup))[3][0][1:]\n",
    "    if \"%\" not in c and c.lower().strip(\":\") not in [\"aminoacido limitante\", \"indice chimico\"]\n",
    "]\n",
    "g_columns = [\n",
    "    c.lower().strip(\":\") for c in pd.read_html(str(soup))[4][0][1:]\n",
    "    if all([s not in c for s in [\"%\", \"/\"]])\n",
    "]"
   ]
  },
  {
   "cell_type": "code",
   "execution_count": 8,
   "metadata": {},
   "outputs": [],
   "source": [
    "crea.columns = [\n",
    "    \"{c} | g\".format(c=c) if c in g_columns else \"{c} | mg\".format(c=c)\n",
    "    if c in mg_columns else c for c in crea.columns\n",
    "]"
   ]
  },
  {
   "cell_type": "code",
   "execution_count": 9,
   "metadata": {},
   "outputs": [],
   "source": [
    "crea[\"colesterolo | mg\"][\"cervello di bovino\"] = 3100"
   ]
  },
  {
   "cell_type": "code",
   "execution_count": 10,
   "metadata": {},
   "outputs": [
    {
     "data": {
      "application/vnd.jupyter.widget-view+json": {
       "model_id": "1eaa204ba9e74b9f9ec32c3c3480559b",
       "version_major": 2,
       "version_minor": 0
      },
      "text/plain": [
       "HBox(children=(IntProgress(value=0, max=69), HTML(value='')))"
      ]
     },
     "metadata": {},
     "output_type": "display_data"
    },
    {
     "name": "stdout",
     "output_type": "stream",
     "text": [
      "\n"
     ]
    }
   ],
   "source": [
    "factors = {\n",
    "    \"mg\":1e-3,\n",
    "    \"mcg\":1e-6,\n",
    "    \"µg\":1e-6\n",
    "}\n",
    "\n",
    "string_columns = [\"aminoacido limitante\", \"categoria\", \"nome scientifico\"]\n",
    "for c in tqdm(crea.columns):\n",
    "    if c in string_columns:\n",
    "        continue\n",
    "    for i in crea.index:\n",
    "        value = crea[c][i]\n",
    "        if pd.notna(value):\n",
    "            if value==\"tr\":\n",
    "                value = 0.05\n",
    "            elif isinstance(value, str) and \">\" in value:\n",
    "                value = float(value.replace(\">\", \"\"))\n",
    "            else:\n",
    "                value = float(value)\n",
    "            for unit, factor in factors.items():\n",
    "                if unit in c:\n",
    "                    value*=factor\n",
    "                    break\n",
    "            crea[c][i] = value"
   ]
  },
  {
   "cell_type": "code",
   "execution_count": 11,
   "metadata": {},
   "outputs": [],
   "source": [
    "crea = crea.rename(columns={\n",
    "    c:c.replace(f, \"g\") for c in crea.columns for f in factors if f in c\n",
    "})"
   ]
  },
  {
   "cell_type": "code",
   "execution_count": 13,
   "metadata": {},
   "outputs": [],
   "source": [
    "crea.to_csv(\"../csv/crea.csv\")"
   ]
  }
 ],
 "metadata": {
  "kernelspec": {
   "display_name": "Python 3",
   "language": "python",
   "name": "python3"
  },
  "language_info": {
   "codemirror_mode": {
    "name": "ipython",
    "version": 3
   },
   "file_extension": ".py",
   "mimetype": "text/x-python",
   "name": "python",
   "nbconvert_exporter": "python",
   "pygments_lexer": "ipython3",
   "version": "3.6.6"
  }
 },
 "nbformat": 4,
 "nbformat_minor": 2
}
