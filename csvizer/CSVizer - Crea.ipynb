{
 "cells": [
  {
   "cell_type": "code",
   "execution_count": 1,
   "metadata": {},
   "outputs": [],
   "source": [
    "import os\n",
    "import re\n",
    "import numpy as np\n",
    "import pandas as pd\n",
    "import json\n",
    "from pprint import pprint\n",
    "import requests\n",
    "from bs4 import BeautifulSoup\n",
    "from tqdm import tqdm_notebook as tqdm\n",
    "from IPython.display import display"
   ]
  },
  {
   "cell_type": "markdown",
   "metadata": {},
   "source": [
    "### Determining food names and tables"
   ]
  },
  {
   "cell_type": "code",
   "execution_count": 2,
   "metadata": {},
   "outputs": [],
   "source": [
    "root = \"../raw/nut.entecra.it/\"\n",
    "foods = [food for food in os.listdir(root) if food[0] != \".\"]\n",
    "tables = [\n",
    "    table.split(\".csv\")[0]\n",
    "    for table in os.listdir(\"{root}/{food}\".format(root=root, food=foods[0]))\n",
    "    if table.endswith(\".csv\")\n",
    "]"
   ]
  },
  {
   "cell_type": "markdown",
   "metadata": {},
   "source": [
    "### Merging csv files"
   ]
  },
  {
   "cell_type": "code",
   "execution_count": 3,
   "metadata": {},
   "outputs": [
    {
     "data": {
      "application/vnd.jupyter.widget-view+json": {
       "model_id": "2ddc79159bb640c3967a949fc03c36f2",
       "version_major": 2,
       "version_minor": 0
      },
      "text/plain": [
       "HBox(children=(IntProgress(value=0, max=790), HTML(value='')))"
      ]
     },
     "metadata": {},
     "output_type": "display_data"
    },
    {
     "name": "stdout",
     "output_type": "stream",
     "text": [
      "\n"
     ]
    }
   ],
   "source": [
    "crea = pd.concat([pd.concat([pd.read_csv(\"{path}/{table}.csv\".format(\n",
    "            path=\"{root}/{food}\".format(root=root, food=food), table=table), usecols=[\"0\", \"1\"], index_col=\"0\") for table in tables]).transpose() for food in tqdm(foods)])\n",
    "crea.index = foods\n",
    "crea.index.name = \"name\""
   ]
  },
  {
   "cell_type": "code",
   "execution_count": 4,
   "metadata": {},
   "outputs": [],
   "source": [
    "crea = crea.drop(columns=[c for c in crea.columns if any([s in c for s in [\"(%): \", \"÷\"]])])"
   ]
  },
  {
   "cell_type": "markdown",
   "metadata": {},
   "source": [
    "### Renaming columns"
   ]
  },
  {
   "cell_type": "code",
   "execution_count": 5,
   "metadata": {},
   "outputs": [],
   "source": [
    "crea.columns = [re.sub(\"\\(([\\w\\W]+)\\)\", r\" | \\1\", c.lower().strip(\":\")).replace(\"  \", \" \") for c in crea.columns]\n"
   ]
  },
  {
   "cell_type": "markdown",
   "metadata": {},
   "source": [
    "### Dropping near entirely NaN columns"
   ]
  },
  {
   "cell_type": "code",
   "execution_count": 6,
   "metadata": {},
   "outputs": [
    {
     "name": "stdout",
     "output_type": "stream",
     "text": [
      "Dropping Index(['lipidi totali | %', 'note', 'proteine | %'], dtype='object')\n"
     ]
    }
   ],
   "source": [
    "print(\"Dropping {columns}\".format(columns = crea.columns[np.mean(pd.notna(crea))<0.1]))\n",
    "crea = crea.drop(columns=crea.columns[np.mean(pd.notna(crea))<0.1])"
   ]
  },
  {
   "cell_type": "markdown",
   "metadata": {},
   "source": [
    "### Adding missing units"
   ]
  },
  {
   "cell_type": "code",
   "execution_count": 7,
   "metadata": {},
   "outputs": [],
   "source": [
    "path = \"./example_crea_page.html\"\n",
    "if not os.path.exists(path):\n",
    "    url = \"http://nut.entecra.it/646/tabelle_di_composizione_degli_alimenti.html?idalimento=104020&quant=100\"\n",
    "    response = requests.get(url)\n",
    "    with open(path, \"w\") as f:\n",
    "        f.write(response.text)\n",
    "with open(path, \"r\") as f:\n",
    "    page = f.read()"
   ]
  },
  {
   "cell_type": "code",
   "execution_count": 8,
   "metadata": {
    "scrolled": false
   },
   "outputs": [],
   "source": [
    "soup = BeautifulSoup(page, \"html5lib\")\n",
    "mg_columns = [\n",
    "    c.lower().strip(\":\") for c in pd.read_html(str(soup))[3][0][1:]\n",
    "    if \"%\" not in c and c.lower().strip(\":\") not in [\"aminoacido limitante\", \"indice chimico\"]\n",
    "]\n",
    "g_columns = [\n",
    "    c.lower().strip(\":\") for c in pd.read_html(str(soup))[4][0][1:]\n",
    "    if all([s not in c for s in [\"%\", \"/\"]])\n",
    "]"
   ]
  },
  {
   "cell_type": "code",
   "execution_count": 9,
   "metadata": {},
   "outputs": [],
   "source": [
    "crea.columns = [\n",
    "    \"{c} | g\".format(c=c) if c in g_columns else \"{c} | mg\".format(c=c)\n",
    "    if c in mg_columns else c for c in crea.columns\n",
    "]"
   ]
  },
  {
   "cell_type": "code",
   "execution_count": 10,
   "metadata": {},
   "outputs": [],
   "source": [
    "crea = crea.drop(columns=[\"energia | kj\"])"
   ]
  },
  {
   "cell_type": "code",
   "execution_count": 11,
   "metadata": {},
   "outputs": [],
   "source": [
    "crea[\"colesterolo | mg\"][\"cervello di bovino\"] = 3100"
   ]
  },
  {
   "cell_type": "code",
   "execution_count": 12,
   "metadata": {},
   "outputs": [
    {
     "data": {
      "application/vnd.jupyter.widget-view+json": {
       "model_id": "066d6f7835be407692ba5af9636205c2",
       "version_major": 2,
       "version_minor": 0
      },
      "text/plain": [
       "HBox(children=(IntProgress(value=0, max=72), HTML(value='')))"
      ]
     },
     "metadata": {},
     "output_type": "display_data"
    },
    {
     "name": "stdout",
     "output_type": "stream",
     "text": [
      "\n"
     ]
    }
   ],
   "source": [
    "factors = {\n",
    "    \"mg\":1e-3,\n",
    "    \"mcg\":1e-6,\n",
    "    \"µg\":1e-6\n",
    "}\n",
    "\n",
    "string_columns = [\"aminoacido limitante\", \"categoria\", \"nome scientifico\", \"codice alimento\"]\n",
    "for c in tqdm(crea.columns):\n",
    "    if c in string_columns:\n",
    "        continue\n",
    "    for i in crea.index:\n",
    "        value = crea[c][i]\n",
    "        if pd.notna(value):\n",
    "            if value==\"tr\":\n",
    "                value = 0.05\n",
    "            elif isinstance(value, str) and \">\" in value:\n",
    "                value = float(value.replace(\">\", \"\"))\n",
    "            else:\n",
    "                value = float(value)\n",
    "            for unit, factor in factors.items():\n",
    "                if unit in c:\n",
    "                    value*=factor\n",
    "                    break\n",
    "            crea[c][i] = value"
   ]
  },
  {
   "cell_type": "code",
   "execution_count": 13,
   "metadata": {},
   "outputs": [],
   "source": [
    "crea = crea.rename(columns={\n",
    "    c:c.replace(f, \"g\") for c in crea.columns for f in factors if f in c\n",
    "})"
   ]
  },
  {
   "cell_type": "markdown",
   "metadata": {},
   "source": [
    "### Dropping rows without most important columns"
   ]
  },
  {
   "cell_type": "code",
   "execution_count": 14,
   "metadata": {},
   "outputs": [],
   "source": [
    "required_columns = [\n",
    "    'acqua | g', 'proteine | g', 'lipidi | g', 'carboidrati disponibili | g'\n",
    "]"
   ]
  },
  {
   "cell_type": "code",
   "execution_count": 15,
   "metadata": {},
   "outputs": [],
   "source": [
    "crea = crea.loc[crea.index[~np.any(pd.isna(crea[required_columns]), axis=1)]]"
   ]
  },
  {
   "cell_type": "markdown",
   "metadata": {},
   "source": [
    "### Checking for sum to 100g"
   ]
  },
  {
   "cell_type": "code",
   "execution_count": 16,
   "metadata": {},
   "outputs": [],
   "source": [
    "floats_columns = crea.columns[~crea.columns.isin(string_columns)]\n",
    "crea[floats_columns] = crea[floats_columns].astype(\"float64\")"
   ]
  },
  {
   "cell_type": "code",
   "execution_count": 17,
   "metadata": {},
   "outputs": [],
   "source": [
    "grams = [\n",
    "    # Principali\n",
    "    'acqua | g',\n",
    "    'proteine | g',\n",
    "    'lipidi | g',\n",
    "    'colesterolo | g',\n",
    "    'carboidrati disponibili | g',\n",
    "    'fibra totale | g',\n",
    "    'alcol | g',\n",
    "    # Minerali\n",
    "    'sodio | g',\n",
    "    'potassio | g',\n",
    "    'ferro | g',\n",
    "    'calcio | g',\n",
    "    'fosforo | g',\n",
    "    'magnesio | g',\n",
    "    'zinco | g',\n",
    "    'rame | g',\n",
    "    'selenio | g',\n",
    "    # Amminoacidi e vitamine\n",
    "    'tiamina | g',\n",
    "    'riboflavina | g',\n",
    "    'niacina | g',\n",
    "    'vitamina a retinolo eq. | g',\n",
    "    'vitamina c | g',\n",
    "    'vitamina e | g',\n",
    "    'acido fitico | g',\n",
    "]"
   ]
  },
  {
   "cell_type": "code",
   "execution_count": 18,
   "metadata": {},
   "outputs": [],
   "source": [
    "to_normalize = list(set(crea.columns) - set(string_columns) - set([c for c in crea.columns if \"%\" in c]))\n"
   ]
  },
  {
   "cell_type": "code",
   "execution_count": 19,
   "metadata": {},
   "outputs": [],
   "source": [
    "def _and(*args):\n",
    "    return np.all(args, axis=0)\n",
    "\n",
    "def _or(*args):\n",
    "    return np.any(args, axis=0)"
   ]
  },
  {
   "cell_type": "code",
   "execution_count": 20,
   "metadata": {},
   "outputs": [],
   "source": [
    "with open(\"./sanitization_parameters.json\", \"r\") as f:\n",
    "    window = json.load(f)[\"grams_maximal_window\"]"
   ]
  },
  {
   "cell_type": "code",
   "execution_count": 21,
   "metadata": {},
   "outputs": [
    {
     "data": {
      "text/plain": [
       "0.4868782299741602"
      ]
     },
     "execution_count": 21,
     "metadata": {},
     "output_type": "execute_result"
    }
   ],
   "source": [
    "np.mean(pd.isna(crea.values))"
   ]
  },
  {
   "cell_type": "code",
   "execution_count": 22,
   "metadata": {},
   "outputs": [],
   "source": [
    "sums = np.sum(crea[grams], axis=1)\n",
    "around_100g = crea.iloc[_and(sums<100+window, sums>100-window)].copy()\n",
    "around_100g[to_normalize] = around_100g[to_normalize].divide(np.sum(around_100g[grams], axis=1), axis=\"index\")*100\n",
    "crea = around_100g"
   ]
  },
  {
   "cell_type": "code",
   "execution_count": 23,
   "metadata": {},
   "outputs": [
    {
     "data": {
      "text/plain": [
       "0.471917744050965"
      ]
     },
     "execution_count": 23,
     "metadata": {},
     "output_type": "execute_result"
    }
   ],
   "source": [
    "np.mean(pd.isna(crea.values))"
   ]
  },
  {
   "cell_type": "code",
   "execution_count": 24,
   "metadata": {},
   "outputs": [],
   "source": [
    "crea.to_csv(\"../csv/crea.csv\")"
   ]
  }
 ],
 "metadata": {
  "kernelspec": {
   "display_name": "Python 3",
   "language": "python",
   "name": "python3"
  },
  "language_info": {
   "codemirror_mode": {
    "name": "ipython",
    "version": 3
   },
   "file_extension": ".py",
   "mimetype": "text/x-python",
   "name": "python",
   "nbconvert_exporter": "python",
   "pygments_lexer": "ipython3",
   "version": "3.6.6"
  }
 },
 "nbformat": 4,
 "nbformat_minor": 2
}
