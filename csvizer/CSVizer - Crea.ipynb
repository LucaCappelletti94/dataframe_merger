{
 "cells": [
  {
   "cell_type": "code",
   "execution_count": 19,
   "metadata": {},
   "outputs": [],
   "source": [
    "import os\n",
    "import numpy as np\n",
    "import pandas as pd\n",
    "from pprint import pprint"
   ]
  },
  {
   "cell_type": "code",
   "execution_count": 33,
   "metadata": {},
   "outputs": [],
   "source": [
    "path = \"Downloads/crea\"\n",
    "prefixes = [\n",
    "    \"3-Composizione alimento in aminoacidi-\",\n",
    "    \"2-Composizione chimica e valore energetico-\",\n",
    "    \"4-Composizione chimica e valore energetico-\",\n",
    "    \"5-Tabella degli alimenti-\",\n",
    "    \"1-Ripartizione percentuale dell'energia.-\"\n",
    "]"
   ]
  },
  {
   "cell_type": "code",
   "execution_count": 34,
   "metadata": {},
   "outputs": [],
   "source": [
    "names = np.array([\n",
    "    name.split(\".\")[0] for path, dirs, names in os.walk(path)\n",
    "    for name in names if name.endswith(\".json\")\n",
    "])"
   ]
  },
  {
   "cell_type": "code",
   "execution_count": 38,
   "metadata": {
    "scrolled": false
   },
   "outputs": [],
   "source": [
    "total_set = set([])\n",
    "for name in names:\n",
    "    composed = pd.DataFrame([], columns=[\"Composizione\", \"mg/100g di parte edibile\"])\n",
    "    for prefix in prefixes:\n",
    "        df = pd.read_csv(\"{path}/{prefix}{name}.csv\".format(\n",
    "            path=path, prefix=prefix, name=names[i]))\n",
    "        df = df.drop(columns=['Unnamed: 0'])\n",
    "        df.columns = [\"Composizione\", \"mg/100g di parte edibile\"]\n",
    "        composed = composed.append(df)\n",
    "    total_set |= set(composed[\"Composizione\"])"
   ]
  },
  {
   "cell_type": "code",
   "execution_count": 40,
   "metadata": {},
   "outputs": [],
   "source": [
    "keys = {key:i for i, key in enumerate(total_set)}"
   ]
  },
  {
   "cell_type": "code",
   "execution_count": null,
   "metadata": {},
   "outputs": [],
   "source": []
  }
 ],
 "metadata": {
  "kernelspec": {
   "display_name": "Python 3",
   "language": "python",
   "name": "python3"
  },
  "language_info": {
   "codemirror_mode": {
    "name": "ipython",
    "version": 3
   },
   "file_extension": ".py",
   "mimetype": "text/x-python",
   "name": "python",
   "nbconvert_exporter": "python",
   "pygments_lexer": "ipython3",
   "version": "3.6.6"
  }
 },
 "nbformat": 4,
 "nbformat_minor": 2
}
