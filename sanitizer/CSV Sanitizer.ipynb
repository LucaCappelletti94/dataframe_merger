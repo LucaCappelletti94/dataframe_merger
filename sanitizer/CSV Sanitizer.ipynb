{
 "cells": [
  {
   "cell_type": "code",
   "execution_count": 1,
   "metadata": {},
   "outputs": [],
   "source": [
    "import pandas as pd\n",
    "import numpy as np\n",
    "import os\n",
    "from multiprocessing import Pool, cpu_count\n",
    "from tqdm import tqdm_notebook as tqdm"
   ]
  },
  {
   "cell_type": "code",
   "execution_count": 84,
   "metadata": {},
   "outputs": [],
   "source": [
    "def nan_score(df):\n",
    "    return np.mean(np.mean(pd.notna(df)))\n",
    "\n",
    "\n",
    "def nan_sanitization(args):\n",
    "    \"\"\"Drop iteratively columns and rows at step of <step> percent until the dataset has ration (non null values)/(all values) >= <percentage>\"\"\"\n",
    "    path, df = args\n",
    "    iteration = 0\n",
    "    percentage = 0.70\n",
    "    step = 0.01\n",
    "    while nan_score(df) < percentage:\n",
    "        if (iteration % 2) == 0:\n",
    "            df = df.drop(columns=df.columns[np.mean(pd.notna(df)) < step])\n",
    "        else:\n",
    "            df = df.drop(df.index[np.mean(pd.notna(df), axis=1) < step])\n",
    "        iteration += 1\n",
    "        step *= 1.01\n",
    "\n",
    "    df.to_csv(path)"
   ]
  },
  {
   "cell_type": "code",
   "execution_count": 85,
   "metadata": {},
   "outputs": [],
   "source": [
    "dataframes = [(\"../sanitized_csv/{csv}\".format(path=path, csv=csv),\n",
    "               pd.read_csv(\n",
    "                   \"{path}/{csv}\".format(path=path, csv=csv),\n",
    "                   index_col=\"name\"))\n",
    "              for path, dirs, csvs in os.walk(\"../csv/\") for csv in csvs\n",
    "              if not csv.startswith(\".\")]"
   ]
  },
  {
   "cell_type": "code",
   "execution_count": 86,
   "metadata": {},
   "outputs": [
    {
     "data": {
      "application/vnd.jupyter.widget-view+json": {
       "model_id": "ab90078fb6d446e9840e6384baadc162",
       "version_major": 2,
       "version_minor": 0
      },
      "text/plain": [
       "HBox(children=(IntProgress(value=0, max=9), HTML(value='')))"
      ]
     },
     "metadata": {},
     "output_type": "display_data"
    }
   ],
   "source": [
    "with Pool(cpu_count()) as p:\n",
    "    list(tqdm(p.imap(nan_sanitization, dataframes), total = len(dataframes)))"
   ]
  },
  {
   "cell_type": "code",
   "execution_count": null,
   "metadata": {},
   "outputs": [],
   "source": []
  }
 ],
 "metadata": {
  "kernelspec": {
   "display_name": "Python 3",
   "language": "python",
   "name": "python3"
  },
  "language_info": {
   "codemirror_mode": {
    "name": "ipython",
    "version": 3
   },
   "file_extension": ".py",
   "mimetype": "text/x-python",
   "name": "python",
   "nbconvert_exporter": "python",
   "pygments_lexer": "ipython3",
   "version": "3.6.6"
  }
 },
 "nbformat": 4,
 "nbformat_minor": 2
}
