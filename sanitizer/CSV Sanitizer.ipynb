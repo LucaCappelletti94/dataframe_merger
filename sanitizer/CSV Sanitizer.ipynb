{
 "cells": [
  {
   "cell_type": "code",
   "execution_count": 1,
   "metadata": {},
   "outputs": [],
   "source": [
    "import pandas as pd\n",
    "import numpy as np\n",
    "import os\n",
    "from multiprocessing import Pool, cpu_count\n",
    "from tqdm import tqdm_notebook as tqdm\n",
    "from IPython.display import display"
   ]
  },
  {
   "cell_type": "code",
   "execution_count": 49,
   "metadata": {},
   "outputs": [],
   "source": [
    "def nan_score(df):\n",
    "    return np.mean(np.mean(pd.notna(df)))\n",
    "\n",
    "\n",
    "def nan_sanitization(df):\n",
    "    \"\"\"Drop iteratively columns and rows at step of <step> percent until the dataset has ration (non null values)/(all values) >= <percentage>\"\"\"\n",
    "    iteration = 0\n",
    "    percentage = 0.80\n",
    "    step = 0.01\n",
    "    while nan_score(df) < percentage:\n",
    "        if (iteration % 2) == 0:\n",
    "            df = df.drop(columns=df.columns[np.mean(pd.notna(df)) < step])\n",
    "        else:\n",
    "            df = df.drop(df.index[np.mean(pd.notna(df), axis=1) < step])\n",
    "        iteration += 1\n",
    "        step *= 1.01\n",
    "\n",
    "    return df\n",
    "\n",
    "\n",
    "def zero_sanitization(df):\n",
    "    \"\"\"Drop zero or nan only columns.\"\"\"\n",
    "    ground = np.full(df.shape, True)\n",
    "    for i, c in enumerate(df.columns):\n",
    "        if df[c].dtype == \"float64\":\n",
    "            ground[:, i] = ~np.isclose(np.array(df[c].values), 0)\n",
    "    columns = df.columns[np.all(\n",
    "        np.any([pd.isna(df.values), ~ground], axis=0), axis=0)]\n",
    "    return df.drop(columns=columns)\n",
    "\n",
    "\n",
    "def vitamins_norm(column_name):\n",
    "    return column_name.replace(\"vit.\", \"vitamina \")\n",
    "\n",
    "\n",
    "def single_space_norm(column_name):\n",
    "    return column_name.replace(\"  \", \" \")\n",
    "\n",
    "\n",
    "def apply_column_naming_norms(column_name):\n",
    "    norms = [vitamins_norm, single_space_norm]\n",
    "    for norm in norms:\n",
    "        column_name = norm(column_name)\n",
    "    return column_name\n",
    "\n",
    "\n",
    "def apply_index_naming_norms(column_name):\n",
    "    norms = [single_space_norm]\n",
    "    for norm in norms:\n",
    "        column_name = norm(column_name)\n",
    "    return column_name\n",
    "\n",
    "\n",
    "def sanitize(args):\n",
    "    path, df = args\n",
    "    df = zero_sanitization(df)\n",
    "    df = nan_sanitization(df)\n",
    "    df.index = df.index.str.lower()\n",
    "    df.columns = df.columns.str.lower()\n",
    "    df.index = [apply_index_naming_norms(i) for i in df.index]\n",
    "    df.columns = [apply_column_naming_norms(c) for c in df.columns]\n",
    "    df.index.name = \"name\"\n",
    "    df.to_csv(path)"
   ]
  },
  {
   "cell_type": "code",
   "execution_count": 50,
   "metadata": {},
   "outputs": [],
   "source": [
    "dataframes = [(\"../sanitized_csv/{csv}\".format(path=path, csv=csv),\n",
    "               pd.read_csv(\n",
    "                   \"{path}/{csv}\".format(path=path, csv=csv),\n",
    "                   index_col=\"name\"))\n",
    "              for path, dirs, csvs in os.walk(\"../csv/\") for csv in csvs\n",
    "              if csv.endswith(\".csv\") and \"cibo360\" not in csv]"
   ]
  },
  {
   "cell_type": "code",
   "execution_count": 51,
   "metadata": {},
   "outputs": [
    {
     "name": "stdout",
     "output_type": "stream",
     "text": [
      "Index(['vitamina b6 | g'], dtype='object')\n",
      "Index([], dtype='object')\n",
      "Index([], dtype='object')\n"
     ]
    },
    {
     "data": {
      "application/vnd.jupyter.widget-view+json": {
       "model_id": "dd1289dc9a1a492e9eb94ee790d2b9b1",
       "version_major": 2,
       "version_minor": 0
      },
      "text/plain": [
       "HBox(children=(IntProgress(value=0, max=9), HTML(value='')))"
      ]
     },
     "metadata": {},
     "output_type": "display_data"
    },
    {
     "name": "stdout",
     "output_type": "stream",
     "text": [
      "Index([], dtype='object')\n",
      "Index(['aminoacido limitante | g', 'indice chimico | g'], dtype='object')\n",
      "Index([], dtype='object')\n",
      "Index([], dtype='object')\n",
      "Index([], dtype='object')\n",
      "Index([], dtype='object')\n"
     ]
    }
   ],
   "source": [
    "with Pool(cpu_count()) as p:\n",
    "    list(tqdm(p.imap(sanitize, dataframes), total = len(dataframes)))"
   ]
  },
  {
   "cell_type": "code",
   "execution_count": 42,
   "metadata": {},
   "outputs": [
    {
     "data": {
      "text/plain": [
       "(1, 2)"
      ]
     },
     "execution_count": 42,
     "metadata": {},
     "output_type": "execute_result"
    }
   ],
   "source": [
    "import math\n",
    "def magnitude(value):\n",
    "    if (value == 0): return 0\n",
    "    return int(math.floor(math.log10(abs(value))))\n",
    "\n",
    "magnitude(65), magnitude(230)"
   ]
  },
  {
   "cell_type": "code",
   "execution_count": null,
   "metadata": {},
   "outputs": [],
   "source": []
  }
 ],
 "metadata": {
  "kernelspec": {
   "display_name": "Python 3",
   "language": "python",
   "name": "python3"
  },
  "language_info": {
   "codemirror_mode": {
    "name": "ipython",
    "version": 3
   },
   "file_extension": ".py",
   "mimetype": "text/x-python",
   "name": "python",
   "nbconvert_exporter": "python",
   "pygments_lexer": "ipython3",
   "version": "3.6.6"
  }
 },
 "nbformat": 4,
 "nbformat_minor": 2
}
