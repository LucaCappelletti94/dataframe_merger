{
 "cells": [
  {
   "cell_type": "code",
   "execution_count": 1,
   "metadata": {},
   "outputs": [],
   "source": [
    "import os\n",
    "import numpy as np\n",
    "import pandas as pd\n",
    "import re\n",
    "from sklearn.feature_extraction.text import TfidfVectorizer\n",
    "from sklearn.metrics.pairwise import cosine_distances, euclidean_distances"
   ]
  },
  {
   "cell_type": "code",
   "execution_count": 2,
   "metadata": {},
   "outputs": [],
   "source": [
    "path = \"Downloads/crea/\""
   ]
  },
  {
   "cell_type": "code",
   "execution_count": 3,
   "metadata": {},
   "outputs": [],
   "source": [
    "names = np.array([\n",
    "    re.sub(\"\\[[^\\[\\]]+\\]\", \"\",\n",
    "           name.split(\".\")[0]).strip() for path, dirs, names in os.walk(path)\n",
    "    for name in names if name.endswith(\".json\")\n",
    "])"
   ]
  },
  {
   "cell_type": "code",
   "execution_count": 4,
   "metadata": {},
   "outputs": [],
   "source": [
    "vectorizer = TfidfVectorizer()\n",
    "X = vectorizer.fit_transform(names)"
   ]
  },
  {
   "cell_type": "code",
   "execution_count": 25,
   "metadata": {},
   "outputs": [
    {
     "name": "stdout",
     "output_type": "stream",
     "text": [
      "0.49497474683058335\n"
     ]
    }
   ],
   "source": [
    "distances = euclidean_distances(X)\n",
    "threshold = np.max(distances) * 0.35\n",
    "print(threshold)\n",
    "distances[distances > threshold] = np.inf\n",
    "np.fill_diagonal(distances, np.inf)"
   ]
  },
  {
   "cell_type": "code",
   "execution_count": 26,
   "metadata": {},
   "outputs": [
    {
     "name": "stdout",
     "output_type": "stream",
     "text": [
      "(23, 695)\n"
     ]
    }
   ],
   "source": [
    "infinite_rows = np.all(distances == np.inf, axis=1)\n",
    "distances = distances[~infinite_rows]\n",
    "print(distances.shape)"
   ]
  },
  {
   "cell_type": "code",
   "execution_count": 27,
   "metadata": {},
   "outputs": [],
   "source": [
    "new_names = names[~infinite_rows]"
   ]
  },
  {
   "cell_type": "code",
   "execution_count": 28,
   "metadata": {},
   "outputs": [],
   "source": [
    "x_indices, y_indices = np.arange(new_names.size), np.nanargmin(distances, axis=1)"
   ]
  },
  {
   "cell_type": "code",
   "execution_count": 29,
   "metadata": {},
   "outputs": [
    {
     "data": {
      "text/html": [
       "<div>\n",
       "<style scoped>\n",
       "    .dataframe tbody tr th:only-of-type {\n",
       "        vertical-align: middle;\n",
       "    }\n",
       "\n",
       "    .dataframe tbody tr th {\n",
       "        vertical-align: top;\n",
       "    }\n",
       "\n",
       "    .dataframe thead th {\n",
       "        text-align: right;\n",
       "    }\n",
       "</style>\n",
       "<table border=\"1\" class=\"dataframe\">\n",
       "  <thead>\n",
       "    <tr style=\"text-align: right;\">\n",
       "      <th></th>\n",
       "      <th>Matched</th>\n",
       "      <th>Original</th>\n",
       "    </tr>\n",
       "  </thead>\n",
       "  <tbody>\n",
       "    <tr>\n",
       "      <th>0</th>\n",
       "      <td>Latte di vacca in polvere, parzialmente scremato</td>\n",
       "      <td>Latte di vacca in polvere, scremato</td>\n",
       "    </tr>\n",
       "    <tr>\n",
       "      <th>1</th>\n",
       "      <td>Merluzzo o nasello, surgelato</td>\n",
       "      <td>Merluzzo o nasello, surgelato, cotto</td>\n",
       "    </tr>\n",
       "    <tr>\n",
       "      <th>2</th>\n",
       "      <td>Prosciutto crudo San Daniele</td>\n",
       "      <td>Prosciutto crudo San Daniele, magro</td>\n",
       "    </tr>\n",
       "    <tr>\n",
       "      <th>3</th>\n",
       "      <td>Pollo intero senza pelle, cotto</td>\n",
       "      <td>Pollo intero senza pelle, cotto</td>\n",
       "    </tr>\n",
       "    <tr>\n",
       "      <th>4</th>\n",
       "      <td>Latte di vacca in polvere, scremato</td>\n",
       "      <td>Latte di vacca in polvere, parzialmente scremato</td>\n",
       "    </tr>\n",
       "    <tr>\n",
       "      <th>5</th>\n",
       "      <td>Cavolo broccolo verde ramoso crudo</td>\n",
       "      <td>Cavolo broccolo verde ramoso, cotto</td>\n",
       "    </tr>\n",
       "    <tr>\n",
       "      <th>6</th>\n",
       "      <td>Cefalo muggine, uova</td>\n",
       "      <td>Cefalo muggine</td>\n",
       "    </tr>\n",
       "    <tr>\n",
       "      <th>7</th>\n",
       "      <td>Prosciutto crudo San Daniele, magro</td>\n",
       "      <td>Prosciutto crudo San Daniele</td>\n",
       "    </tr>\n",
       "    <tr>\n",
       "      <th>8</th>\n",
       "      <td>Zampone, confezionato precotto</td>\n",
       "      <td>Zampone, confezionato precotto</td>\n",
       "    </tr>\n",
       "    <tr>\n",
       "      <th>9</th>\n",
       "      <td>Cavolo broccolo verde ramoso, cotto</td>\n",
       "      <td>Cavolo broccolo verde ramoso crudo</td>\n",
       "    </tr>\n",
       "    <tr>\n",
       "      <th>10</th>\n",
       "      <td>Trota, surgelata, cotta</td>\n",
       "      <td>Trota, surgelata, cotta</td>\n",
       "    </tr>\n",
       "    <tr>\n",
       "      <th>11</th>\n",
       "      <td>Pollo intero con pelle, cotto</td>\n",
       "      <td>Pollo intero con pelle, cotto</td>\n",
       "    </tr>\n",
       "    <tr>\n",
       "      <th>12</th>\n",
       "      <td>Pane di tipo 0</td>\n",
       "      <td>Pane di tipo 1</td>\n",
       "    </tr>\n",
       "    <tr>\n",
       "      <th>13</th>\n",
       "      <td>Trota, surgelata, cotta</td>\n",
       "      <td>Trota, surgelata, cotta</td>\n",
       "    </tr>\n",
       "    <tr>\n",
       "      <th>14</th>\n",
       "      <td>Patate, cotte</td>\n",
       "      <td>Patate, cotte</td>\n",
       "    </tr>\n",
       "    <tr>\n",
       "      <th>15</th>\n",
       "      <td>Merluzzo o nasello, surgelato, cotto</td>\n",
       "      <td>Merluzzo o nasello, surgelato, cotto</td>\n",
       "    </tr>\n",
       "    <tr>\n",
       "      <th>16</th>\n",
       "      <td>Pane di tipo 1</td>\n",
       "      <td>Pane di tipo 0</td>\n",
       "    </tr>\n",
       "    <tr>\n",
       "      <th>17</th>\n",
       "      <td>Merluzzo o nasello, surgelato, cotto</td>\n",
       "      <td>Merluzzo o nasello, surgelato, cotto</td>\n",
       "    </tr>\n",
       "    <tr>\n",
       "      <th>18</th>\n",
       "      <td>Pollo intero con pelle, cotto</td>\n",
       "      <td>Pollo intero con pelle, cotto</td>\n",
       "    </tr>\n",
       "    <tr>\n",
       "      <th>19</th>\n",
       "      <td>Patate, cotte</td>\n",
       "      <td>Patate, cotte</td>\n",
       "    </tr>\n",
       "    <tr>\n",
       "      <th>20</th>\n",
       "      <td>Pollo intero senza pelle, cotto</td>\n",
       "      <td>Pollo intero senza pelle, cotto</td>\n",
       "    </tr>\n",
       "    <tr>\n",
       "      <th>21</th>\n",
       "      <td>Zampone, confezionato precotto</td>\n",
       "      <td>Zampone, confezionato precotto</td>\n",
       "    </tr>\n",
       "    <tr>\n",
       "      <th>22</th>\n",
       "      <td>Cefalo muggine</td>\n",
       "      <td>Cefalo muggine, uova</td>\n",
       "    </tr>\n",
       "  </tbody>\n",
       "</table>\n",
       "</div>"
      ],
      "text/plain": [
       "                                             Matched  \\\n",
       "0   Latte di vacca in polvere, parzialmente scremato   \n",
       "1                      Merluzzo o nasello, surgelato   \n",
       "2                       Prosciutto crudo San Daniele   \n",
       "3                    Pollo intero senza pelle, cotto   \n",
       "4                Latte di vacca in polvere, scremato   \n",
       "5                 Cavolo broccolo verde ramoso crudo   \n",
       "6                               Cefalo muggine, uova   \n",
       "7                Prosciutto crudo San Daniele, magro   \n",
       "8                     Zampone, confezionato precotto   \n",
       "9                Cavolo broccolo verde ramoso, cotto   \n",
       "10                           Trota, surgelata, cotta   \n",
       "11                     Pollo intero con pelle, cotto   \n",
       "12                                    Pane di tipo 0   \n",
       "13                           Trota, surgelata, cotta   \n",
       "14                                     Patate, cotte   \n",
       "15              Merluzzo o nasello, surgelato, cotto   \n",
       "16                                    Pane di tipo 1   \n",
       "17              Merluzzo o nasello, surgelato, cotto   \n",
       "18                     Pollo intero con pelle, cotto   \n",
       "19                                     Patate, cotte   \n",
       "20                   Pollo intero senza pelle, cotto   \n",
       "21                    Zampone, confezionato precotto   \n",
       "22                                    Cefalo muggine   \n",
       "\n",
       "                                            Original  \n",
       "0                Latte di vacca in polvere, scremato  \n",
       "1               Merluzzo o nasello, surgelato, cotto  \n",
       "2                Prosciutto crudo San Daniele, magro  \n",
       "3                    Pollo intero senza pelle, cotto  \n",
       "4   Latte di vacca in polvere, parzialmente scremato  \n",
       "5                Cavolo broccolo verde ramoso, cotto  \n",
       "6                                     Cefalo muggine  \n",
       "7                       Prosciutto crudo San Daniele  \n",
       "8                     Zampone, confezionato precotto  \n",
       "9                 Cavolo broccolo verde ramoso crudo  \n",
       "10                           Trota, surgelata, cotta  \n",
       "11                     Pollo intero con pelle, cotto  \n",
       "12                                    Pane di tipo 1  \n",
       "13                           Trota, surgelata, cotta  \n",
       "14                                     Patate, cotte  \n",
       "15              Merluzzo o nasello, surgelato, cotto  \n",
       "16                                    Pane di tipo 0  \n",
       "17              Merluzzo o nasello, surgelato, cotto  \n",
       "18                     Pollo intero con pelle, cotto  \n",
       "19                                     Patate, cotte  \n",
       "20                   Pollo intero senza pelle, cotto  \n",
       "21                    Zampone, confezionato precotto  \n",
       "22                              Cefalo muggine, uova  "
      ]
     },
     "execution_count": 29,
     "metadata": {},
     "output_type": "execute_result"
    }
   ],
   "source": [
    "pd.DataFrame({\n",
    "    \"Original\":names[y_indices],\n",
    "    \"Matched\":new_names[x_indices]\n",
    "})"
   ]
  },
  {
   "cell_type": "code",
   "execution_count": null,
   "metadata": {},
   "outputs": [],
   "source": []
  }
 ],
 "metadata": {
  "kernelspec": {
   "display_name": "Python 3",
   "language": "python",
   "name": "python3"
  },
  "language_info": {
   "codemirror_mode": {
    "name": "ipython",
    "version": 3
   },
   "file_extension": ".py",
   "mimetype": "text/x-python",
   "name": "python",
   "nbconvert_exporter": "python",
   "pygments_lexer": "ipython3",
   "version": "3.6.6"
  }
 },
 "nbformat": 4,
 "nbformat_minor": 2
}
