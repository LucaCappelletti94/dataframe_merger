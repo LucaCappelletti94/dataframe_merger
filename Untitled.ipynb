{
 "cells": [
  {
   "cell_type": "code",
   "execution_count": 1,
   "metadata": {},
   "outputs": [],
   "source": [
    "from merger import Alignment"
   ]
  },
  {
   "cell_type": "code",
   "execution_count": 2,
   "metadata": {
    "scrolled": false
   },
   "outputs": [
    {
     "data": {
      "application/vnd.jupyter.widget-view+json": {
       "model_id": "e851df02531a4737bcae28649bdb8cc9",
       "version_major": 2,
       "version_minor": 0
      },
      "text/plain": [
       "HBox(children=(IntProgress(value=0, max=15), HTML(value='')))"
      ]
     },
     "metadata": {},
     "output_type": "display_data"
    },
    {
     "name": "stdout",
     "output_type": "stream",
     "text": [
      "\n",
      "|   iter    |  target   |   knp0    |   knp1    |   knp2    |   knp3    |   knp4    |    w0     |    w1     |    w2     |    w3     |    w4     |\n",
      "-------------------------------------------------------------------------------------------------------------------------------------------------\n",
      "| \u001b[0m 1       \u001b[0m | \u001b[0m 0.731   \u001b[0m | \u001b[0m 0.417   \u001b[0m | \u001b[0m 0.7203  \u001b[0m | \u001b[0m 0.000114\u001b[0m | \u001b[0m 0.3023  \u001b[0m | \u001b[0m 0.1468  \u001b[0m | \u001b[0m 0.09234 \u001b[0m | \u001b[0m 0.1863  \u001b[0m | \u001b[0m 0.3456  \u001b[0m | \u001b[0m 0.3968  \u001b[0m | \u001b[0m 0.5388  \u001b[0m |\n",
      "| \u001b[0m 2       \u001b[0m | \u001b[0m 0.731   \u001b[0m | \u001b[0m 0.4192  \u001b[0m | \u001b[0m 0.6852  \u001b[0m | \u001b[0m 0.2045  \u001b[0m | \u001b[0m 0.8781  \u001b[0m | \u001b[0m 0.02739 \u001b[0m | \u001b[0m 0.6705  \u001b[0m | \u001b[0m 0.4173  \u001b[0m | \u001b[0m 0.5587  \u001b[0m | \u001b[0m 0.1404  \u001b[0m | \u001b[0m 0.1981  \u001b[0m |\n",
      "| \u001b[95m 3       \u001b[0m | \u001b[95m 0.7324  \u001b[0m | \u001b[95m 0.8007  \u001b[0m | \u001b[95m 0.9683  \u001b[0m | \u001b[95m 0.3134  \u001b[0m | \u001b[95m 0.6923  \u001b[0m | \u001b[95m 0.8764  \u001b[0m | \u001b[95m 0.8946  \u001b[0m | \u001b[95m 0.08504 \u001b[0m | \u001b[95m 0.03905 \u001b[0m | \u001b[95m 0.1698  \u001b[0m | \u001b[95m 0.8781  \u001b[0m |\n",
      "| \u001b[0m 4       \u001b[0m | \u001b[0m 0.7296  \u001b[0m | \u001b[0m 0.09835 \u001b[0m | \u001b[0m 0.4211  \u001b[0m | \u001b[0m 0.9579  \u001b[0m | \u001b[0m 0.5332  \u001b[0m | \u001b[0m 0.6919  \u001b[0m | \u001b[0m 0.3155  \u001b[0m | \u001b[0m 0.6865  \u001b[0m | \u001b[0m 0.8346  \u001b[0m | \u001b[0m 0.01829 \u001b[0m | \u001b[0m 0.7501  \u001b[0m |\n",
      "| \u001b[95m 5       \u001b[0m | \u001b[95m 0.7338  \u001b[0m | \u001b[95m 0.9889  \u001b[0m | \u001b[95m 0.7482  \u001b[0m | \u001b[95m 0.2804  \u001b[0m | \u001b[95m 0.7893  \u001b[0m | \u001b[95m 0.1032  \u001b[0m | \u001b[95m 0.4479  \u001b[0m | \u001b[95m 0.9086  \u001b[0m | \u001b[95m 0.2936  \u001b[0m | \u001b[95m 0.2878  \u001b[0m | \u001b[95m 0.13    \u001b[0m |\n",
      "| \u001b[0m 6       \u001b[0m | \u001b[0m 0.7338  \u001b[0m | \u001b[0m 0.9623  \u001b[0m | \u001b[0m 0.004678\u001b[0m | \u001b[0m 0.008348\u001b[0m | \u001b[0m 0.9812  \u001b[0m | \u001b[0m 0.8971  \u001b[0m | \u001b[0m 0.6723  \u001b[0m | \u001b[0m 0.8047  \u001b[0m | \u001b[0m 0.0584  \u001b[0m | \u001b[0m 0.9667  \u001b[0m | \u001b[0m 0.4064  \u001b[0m |\n",
      "| \u001b[0m 7       \u001b[0m | \u001b[0m 0.731   \u001b[0m | \u001b[0m 0.943   \u001b[0m | \u001b[0m 0.1069  \u001b[0m | \u001b[0m 0.9847  \u001b[0m | \u001b[0m 0.07983 \u001b[0m | \u001b[0m 0.08362 \u001b[0m | \u001b[0m 0.8742  \u001b[0m | \u001b[0m 0.8903  \u001b[0m | \u001b[0m 0.1595  \u001b[0m | \u001b[0m 0.9567  \u001b[0m | \u001b[0m 0.2259  \u001b[0m |\n",
      "| \u001b[0m 8       \u001b[0m | \u001b[0m 0.7324  \u001b[0m | \u001b[0m 0.9974  \u001b[0m | \u001b[0m 0.9526  \u001b[0m | \u001b[0m 1.318e-0\u001b[0m | \u001b[0m 0.1418  \u001b[0m | \u001b[0m 0.9801  \u001b[0m | \u001b[0m 0.4999  \u001b[0m | \u001b[0m 0.8181  \u001b[0m | \u001b[0m 0.8085  \u001b[0m | \u001b[0m 0.7886  \u001b[0m | \u001b[0m 0.02977 \u001b[0m |\n",
      "=================================================================================================================================================\n"
     ]
    }
   ],
   "source": [
    "Alignment(\"test\", \"output\").run()"
   ]
  }
 ],
 "metadata": {
  "kernelspec": {
   "display_name": "Python 3",
   "language": "python",
   "name": "python3"
  },
  "language_info": {
   "codemirror_mode": {
    "name": "ipython",
    "version": 3
   },
   "file_extension": ".py",
   "mimetype": "text/x-python",
   "name": "python",
   "nbconvert_exporter": "python",
   "pygments_lexer": "ipython3",
   "version": "3.7.1"
  }
 },
 "nbformat": 4,
 "nbformat_minor": 2
}
