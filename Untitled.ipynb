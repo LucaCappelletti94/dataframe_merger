{
 "cells": [
  {
   "cell_type": "code",
   "execution_count": 1,
   "metadata": {},
   "outputs": [],
   "source": [
    "from merger.metrics import pairwise_kolmogorov_smirnov_test, pairwise_mann_whitney_u_test, corpora, vectorizer, columns_tfidf_cosine_similarity, dataframes_tfidf_cosine_similarity, magnitude\n",
    "from merger.dataframe_loader import dataframe_loader\n",
    "import itertools\n",
    "import os"
   ]
  },
  {
   "cell_type": "code",
   "execution_count": 2,
   "metadata": {},
   "outputs": [],
   "source": [
    "dfs = dataframe_loader(\"./test\")"
   ]
  },
  {
   "cell_type": "code",
   "execution_count": 3,
   "metadata": {},
   "outputs": [],
   "source": [
    "root = \"./root\""
   ]
  },
  {
   "cell_type": "code",
   "execution_count": 4,
   "metadata": {},
   "outputs": [],
   "source": [
    "columns_corpus, data_corpus = corpora(dfs)"
   ]
  },
  {
   "cell_type": "code",
   "execution_count": 5,
   "metadata": {},
   "outputs": [],
   "source": [
    "metrics = {\n",
    "    \"kolmogorov\": (pairwise_kolmogorov_smirnov_test, []),\n",
    "    \"mann\": (pairwise_mann_whitney_u_test, []),\n",
    "    \"columns_tfidf\":(columns_tfidf_cosine_similarity, [vectorizer(columns_corpus)]),\n",
    "    \"dataframes_tfidf\":(dataframes_tfidf_cosine_similarity, [vectorizer(data_corpus)]),\n",
    "    \"magnitude\":(magnitude, [])\n",
    "}"
   ]
  },
  {
   "cell_type": "code",
   "execution_count": 6,
   "metadata": {},
   "outputs": [],
   "source": [
    "for i, (df1, df2) in enumerate(itertools.combinations(dfs, 2)):\n",
    "    path = \"{root}/{i}\".format(root=root, i=i)\n",
    "    os.makedirs(path, exist_ok=True)\n",
    "    for metric, (callback, args) in metrics.items():\n",
    "        callback(df1, df2, *args).to_csv(\"{path}/{metric}.csv\".format(path=path, metric=metric))"
   ]
  }
 ],
 "metadata": {
  "kernelspec": {
   "display_name": "Python 3",
   "language": "python",
   "name": "python3"
  },
  "language_info": {
   "codemirror_mode": {
    "name": "ipython",
    "version": 3
   },
   "file_extension": ".py",
   "mimetype": "text/x-python",
   "name": "python",
   "nbconvert_exporter": "python",
   "pygments_lexer": "ipython3",
   "version": "3.7.1"
  }
 },
 "nbformat": 4,
 "nbformat_minor": 2
}
