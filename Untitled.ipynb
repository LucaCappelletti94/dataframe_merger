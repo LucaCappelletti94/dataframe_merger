{
 "cells": [
  {
   "cell_type": "code",
   "execution_count": 1,
   "metadata": {},
   "outputs": [],
   "source": [
    "from merger.metrics import pairwise_kolmogorov_smirnov_test, pairwise_mann_whitney_u_test, corpora, vectorizer, columns_tfidf_cosine_similarity, dataframes_tfidf_cosine_similarity, magnitude\n",
    "from merger.dataframe_loader import dataframe_loader\n",
    "import itertools\n",
    "import os"
   ]
  },
  {
   "cell_type": "code",
   "execution_count": 2,
   "metadata": {},
   "outputs": [],
   "source": [
    "dfs = dataframe_loader(\"./test\")"
   ]
  },
  {
   "cell_type": "code",
   "execution_count": 3,
   "metadata": {},
   "outputs": [],
   "source": [
    "root = \"./root\""
   ]
  },
  {
   "cell_type": "code",
   "execution_count": 4,
   "metadata": {},
   "outputs": [],
   "source": [
    "columns_corpus, data_corpus = corpora(dfs)"
   ]
  },
  {
   "cell_type": "code",
   "execution_count": 5,
   "metadata": {},
   "outputs": [],
   "source": [
    "metrics = {\n",
    "    \"kolmogorov\": (pairwise_kolmogorov_smirnov_test, []),\n",
    "    \"mann\": (pairwise_mann_whitney_u_test, []),\n",
    "    \"columns_tfidf\":(columns_tfidf_cosine_similarity, [vectorizer(columns_corpus)]),\n",
    "    \"dataframes_tfidf\":(dataframes_tfidf_cosine_similarity, [vectorizer(data_corpus)]),\n",
    "    \"magnitude\":(magnitude, [])\n",
    "}"
   ]
  },
  {
   "cell_type": "code",
   "execution_count": 6,
   "metadata": {},
   "outputs": [],
   "source": [
    "for i, (df1, df2) in enumerate(itertools.combinations(dfs, 2)):\n",
    "    path = \"{root}/{i}\".format(root=root, i=i)\n",
    "    os.makedirs(path, exist_ok=True)\n",
    "    for metric, (callback, args) in metrics.items():\n",
    "        callback(df1, df2, *args).to_csv(\"{path}/{metric}.csv\".format(path=path, metric=metric))"
   ]
  },
  {
   "cell_type": "code",
   "execution_count": 1,
   "metadata": {},
   "outputs": [],
   "source": [
    "import numpy as np"
   ]
  },
  {
   "cell_type": "code",
   "execution_count": 2,
   "metadata": {},
   "outputs": [],
   "source": [
    "def sin(x):\n",
    "    return np.sin(x)"
   ]
  },
  {
   "cell_type": "code",
   "execution_count": 3,
   "metadata": {},
   "outputs": [],
   "source": [
    "from bayes_opt import BayesianOptimization\n",
    "\n",
    "# Bounded region of parameter space\n",
    "pbounds = {'x': (0, 10)}\n",
    "\n",
    "optimizer = BayesianOptimization(\n",
    "    f=sin,\n",
    "    pbounds=pbounds,\n",
    "    random_state=1,\n",
    ")"
   ]
  },
  {
   "cell_type": "code",
   "execution_count": 4,
   "metadata": {},
   "outputs": [
    {
     "name": "stdout",
     "output_type": "stream",
     "text": [
      "|   iter    |  target   |     x     |\n",
      "-------------------------------------\n",
      "| \u001b[0m 1       \u001b[0m | \u001b[0m-0.8566  \u001b[0m | \u001b[0m 4.17    \u001b[0m |\n",
      "| \u001b[95m 2       \u001b[0m | \u001b[95m 0.7956  \u001b[0m | \u001b[95m 7.203   \u001b[0m |\n",
      "| \u001b[0m 3       \u001b[0m | \u001b[0m 0.001144\u001b[0m | \u001b[0m 0.001144\u001b[0m |\n",
      "| \u001b[0m 4       \u001b[0m | \u001b[0m 0.118   \u001b[0m | \u001b[0m 3.023   \u001b[0m |\n",
      "| \u001b[95m 5       \u001b[0m | \u001b[95m 0.9947  \u001b[0m | \u001b[95m 1.468   \u001b[0m |\n",
      "| \u001b[0m 6       \u001b[0m | \u001b[0m 0.2938  \u001b[0m | \u001b[0m 9.127   \u001b[0m |\n",
      "| \u001b[0m 7       \u001b[0m | \u001b[0m-0.177   \u001b[0m | \u001b[0m 6.105   \u001b[0m |\n",
      "| \u001b[0m 8       \u001b[0m | \u001b[0m 0.9814  \u001b[0m | \u001b[0m 8.047   \u001b[0m |\n",
      "| \u001b[0m 9       \u001b[0m | \u001b[0m 0.9077  \u001b[0m | \u001b[0m 2.004   \u001b[0m |\n",
      "| \u001b[0m 10      \u001b[0m | \u001b[0m 0.99    \u001b[0m | \u001b[0m 7.713   \u001b[0m |\n",
      "| \u001b[95m 11      \u001b[0m | \u001b[95m 0.9956  \u001b[0m | \u001b[95m 1.664   \u001b[0m |\n",
      "| \u001b[95m 12      \u001b[0m | \u001b[95m 0.9998  \u001b[0m | \u001b[95m 7.873   \u001b[0m |\n",
      "| \u001b[95m 13      \u001b[0m | \u001b[95m 1.0     \u001b[0m | \u001b[95m 1.566   \u001b[0m |\n",
      "| \u001b[95m 14      \u001b[0m | \u001b[95m 1.0     \u001b[0m | \u001b[95m 7.855   \u001b[0m |\n",
      "| \u001b[0m 15      \u001b[0m | \u001b[0m 1.0     \u001b[0m | \u001b[0m 1.568   \u001b[0m |\n",
      "| \u001b[0m 16      \u001b[0m | \u001b[0m 1.0     \u001b[0m | \u001b[0m 7.855   \u001b[0m |\n",
      "| \u001b[0m 17      \u001b[0m | \u001b[0m 1.0     \u001b[0m | \u001b[0m 1.569   \u001b[0m |\n",
      "| \u001b[0m 18      \u001b[0m | \u001b[0m 1.0     \u001b[0m | \u001b[0m 7.856   \u001b[0m |\n",
      "| \u001b[0m 19      \u001b[0m | \u001b[0m 1.0     \u001b[0m | \u001b[0m 1.569   \u001b[0m |\n",
      "| \u001b[0m 20      \u001b[0m | \u001b[0m 1.0     \u001b[0m | \u001b[0m 7.855   \u001b[0m |\n",
      "| \u001b[0m 21      \u001b[0m | \u001b[0m 1.0     \u001b[0m | \u001b[0m 1.569   \u001b[0m |\n",
      "| \u001b[0m 22      \u001b[0m | \u001b[0m 1.0     \u001b[0m | \u001b[0m 7.857   \u001b[0m |\n",
      "| \u001b[0m 23      \u001b[0m | \u001b[0m 1.0     \u001b[0m | \u001b[0m 1.569   \u001b[0m |\n",
      "| \u001b[0m 24      \u001b[0m | \u001b[0m 1.0     \u001b[0m | \u001b[0m 7.857   \u001b[0m |\n",
      "| \u001b[0m 25      \u001b[0m | \u001b[0m 1.0     \u001b[0m | \u001b[0m 1.568   \u001b[0m |\n",
      "| \u001b[0m 26      \u001b[0m | \u001b[0m 1.0     \u001b[0m | \u001b[0m 7.85    \u001b[0m |\n",
      "| \u001b[95m 27      \u001b[0m | \u001b[95m 1.0     \u001b[0m | \u001b[95m 1.571   \u001b[0m |\n",
      "| \u001b[0m 28      \u001b[0m | \u001b[0m 0.9998  \u001b[0m | \u001b[0m 7.872   \u001b[0m |\n",
      "| \u001b[0m 29      \u001b[0m | \u001b[0m 1.0     \u001b[0m | \u001b[0m 1.57    \u001b[0m |\n",
      "| \u001b[0m 30      \u001b[0m | \u001b[0m 1.0     \u001b[0m | \u001b[0m 7.845   \u001b[0m |\n",
      "=====================================\n"
     ]
    }
   ],
   "source": [
    "optimizer.maximize()"
   ]
  },
  {
   "cell_type": "code",
   "execution_count": 6,
   "metadata": {},
   "outputs": [
    {
     "data": {
      "text/plain": [
       "{'target': 0.9999999817158507, 'params': {'x': 1.570605098400789}}"
      ]
     },
     "execution_count": 6,
     "metadata": {},
     "output_type": "execute_result"
    }
   ],
   "source": [
    "optimizer.max"
   ]
  }
 ],
 "metadata": {
  "kernelspec": {
   "display_name": "Python 3",
   "language": "python",
   "name": "python3"
  },
  "language_info": {
   "codemirror_mode": {
    "name": "ipython",
    "version": 3
   },
   "file_extension": ".py",
   "mimetype": "text/x-python",
   "name": "python",
   "nbconvert_exporter": "python",
   "pygments_lexer": "ipython3",
   "version": "3.7.1"
  }
 },
 "nbformat": 4,
 "nbformat_minor": 2
}
