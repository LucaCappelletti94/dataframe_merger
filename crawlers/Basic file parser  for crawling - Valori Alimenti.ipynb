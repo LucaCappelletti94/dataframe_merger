{
 "cells": [
  {
   "cell_type": "code",
   "execution_count": 44,
   "metadata": {},
   "outputs": [],
   "source": [
    "from tinycrawler import TinyCrawler, Log, Statistics\n",
    "from bs4 import BeautifulSoup, SoupStrainer\n",
    "import pandas as pd\n",
    "import requests\n",
    "from requests import Response\n",
    "from urllib.parse import urlparse\n",
    "\n",
    "import os\n",
    "import json\n",
    "import bs4\n",
    "import pandas as pd\n",
    "\n",
    "\n",
    "def html_sanitization(html: str) -> str:\n",
    "    \"\"\"Return sanitized html.\"\"\"\n",
    "    return html.replace(\"⌊\", \"\")\n",
    "\n",
    "\n",
    "def get_product_name(response: Response) -> str:\n",
    "    \"\"\"Return product name from given Response object.\"\"\"\n",
    "    return BeautifulSoup(\n",
    "        response.text,\n",
    "        \"lxml\",\n",
    "        parse_only=SoupStrainer(\"th\", attrs={\n",
    "            \"class\": \"cellath_colore\",\n",
    "            \"colspan\":\"2\"\n",
    "        })).find(\"th\").get_text().lower().strip()\n",
    "\n",
    "\n",
    "def get_product_category(soup: BeautifulSoup) -> str:\n",
    "    \"\"\"Return product category from given BeautifulSoup object.\"\"\"\n",
    "    return soup[1].get_text().lower().strip()\n",
    "\n",
    "\n",
    "def parse_tables(html: str, path: str, strainer: SoupStrainer):\n",
    "    \"\"\"Parse table at given strained html object saving them as csv at given path.\"\"\"\n",
    "    for i, table in enumerate(BeautifulSoup(\n",
    "            html, \"html5lib\").find_all(strainer)):\n",
    "        df = pd.read_html(html_sanitization(str(table)))[0].drop(0)\n",
    "        df.to_csv(\"{path}/{table_name}.csv\".format(\n",
    "            path=path, table_name=i))\n",
    "\n",
    "\n",
    "def parse_metadata(html: str, path: str, strainer: SoupStrainer):\n",
    "    \"\"\"Parse metadata from given strained html and saves them as json at given path.\"\"\"\n",
    "    with open(\"{path}/metadata.json\".format(path=path), \"w\") as f:\n",
    "        json.dump({\n",
    "            \"category\":\n",
    "            get_product_category(\n",
    "                BeautifulSoup(html, \"html5lib\").find_all(strainer))\n",
    "        }, f)\n",
    "\n",
    "\n",
    "def parse(response: Response):\n",
    "    path = \"{root}/{product}\".format(\n",
    "        root=urlparse(response.url).netloc, product=get_product_name(response))\n",
    "    if not os.path.exists(path):\n",
    "        os.makedirs(path)\n",
    "    parse_tables(response.text, path,\n",
    "                 SoupStrainer(\"table\", attrs={\"class\": \"Tabella1\"}))\n",
    "\n",
    "    parse_metadata(response.text, path,\n",
    "                   SoupStrainer(\"td\", attrs={\"class\": \"cellath_colore\"}))"
   ]
  },
  {
   "cell_type": "code",
   "execution_count": 45,
   "metadata": {},
   "outputs": [],
   "source": [
    "url = \"http://nut.entecra.it/646/tabelle_di_composizione_degli_alimenti.html?idalimento=104033&quant=100\""
   ]
  },
  {
   "cell_type": "code",
   "execution_count": 46,
   "metadata": {},
   "outputs": [],
   "source": [
    "response = requests.get(url)"
   ]
  },
  {
   "cell_type": "code",
   "execution_count": 47,
   "metadata": {},
   "outputs": [],
   "source": [
    "parse(response)"
   ]
  },
  {
   "cell_type": "code",
   "execution_count": null,
   "metadata": {},
   "outputs": [],
   "source": []
  }
 ],
 "metadata": {
  "kernelspec": {
   "display_name": "Python 3",
   "language": "python",
   "name": "python3"
  },
  "language_info": {
   "codemirror_mode": {
    "name": "ipython",
    "version": 3
   },
   "file_extension": ".py",
   "mimetype": "text/x-python",
   "name": "python",
   "nbconvert_exporter": "python",
   "pygments_lexer": "ipython3",
   "version": "3.6.6"
  }
 },
 "nbformat": 4,
 "nbformat_minor": 2
}
